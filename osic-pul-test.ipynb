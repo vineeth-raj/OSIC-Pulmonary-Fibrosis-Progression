{
 "cells": [
  {
   "cell_type": "markdown",
   "metadata": {
    "papermill": {
     "duration": 0.065026,
     "end_time": "2020-10-06T15:16:49.076279",
     "exception": false,
     "start_time": "2020-10-06T15:16:49.011253",
     "status": "completed"
    },
    "tags": []
   },
   "source": [
    "### My Commits\n",
    "\n",
    "EfficientNet Training B5 : https://www.kaggle.com/jagadish13/efficientnetb5-model-training/output\n",
    "\n",
    "### Commit 1\n",
    "- Gaussian Noise 0.2\n",
    "- Dropout 0.385\n",
    "- EffNet B5 (Fold: 0, Epoch: 62/100, GAP: 0.1453)\n",
    "- Dropout 0.385\n",
    "\n",
    "**LB -6.8042**\n",
    "\n",
    "### Commit 2\n",
    "- Gaussian Noise 0.25\n",
    "- Dropout 0.385\n",
    "- EffNet B5 (Fold: 0, Epoch: 62/100, GAP: 0.1453)\n",
    "- Dropout 0.385\n",
    "\n",
    "### Commit 3 (Effnet B7)\n",
    "- Gaussian Noise 0.2\n",
    "- Dropout 0.385\n",
    "- EffNet B5 (Fold: 1, Epoch: 36/100, GAP: 1.1026)\n",
    "- 628x628\n",
    "- Dropout 0.385\n",
    "\n",
    "**LB -6.8174**\n",
    "\n",
    "### Commit 4 (Effnet B5)\n",
    "- Gaussian Noise 0.2\n",
    "- Dropout 0.385\n",
    "- EffNet B5 (Fold: 0, Epoch: 75/100, GAP: 0.1453)\n",
    "\n",
    "EffNet(-6.9229) + Quantile + Elastic Net(-6.9073)\n",
    "\n",
    "### Commit 4 (Effnet B5)\n",
    "- Gaussian Noise 0.2\n",
    "- Dropout 0.385\n",
    "- EffNet B5 (Fold: 0, Epoch: 75/100, GAP: 0.1453)\n",
    "\n",
    "EffNet (0.1) + Quantile(0.7) + (0.2)Elastic Net(-6.9073)\n",
    "\n",
    "### Commit 7\n",
    "- Gaussian Noise 0.2\n",
    "- Dropout 0.385\n",
    "- EffNet B5 (Fold: 0, Epoch: 75/100, GAP: 0.1453)\n",
    "\n",
    "EffNet + Quantile + Elastic Net(-6.9073) + Lasso Regressor"
   ]
  },
  {
   "cell_type": "markdown",
   "metadata": {
    "papermill": {
     "duration": 0.061947,
     "end_time": "2020-10-06T15:16:49.202267",
     "exception": false,
     "start_time": "2020-10-06T15:16:49.140320",
     "status": "completed"
    },
    "tags": []
   },
   "source": [
    "## 1. Import libraries <a class=\"anchor\" id=\"1\"></a>\n",
    "\n",
    "[Back to Table of Contents](#0.1)"
   ]
  },
  {
   "cell_type": "code",
   "execution_count": 1,
   "metadata": {
    "_kg_hide-output": true,
    "execution": {
     "iopub.execute_input": "2020-10-06T15:16:49.336947Z",
     "iopub.status.busy": "2020-10-06T15:16:49.336042Z",
     "iopub.status.idle": "2020-10-06T15:17:09.520363Z",
     "shell.execute_reply": "2020-10-06T15:17:09.519215Z"
    },
    "papermill": {
     "duration": 20.255129,
     "end_time": "2020-10-06T15:17:09.520521",
     "exception": false,
     "start_time": "2020-10-06T15:16:49.265392",
     "status": "completed"
    },
    "tags": []
   },
   "outputs": [
    {
     "name": "stdout",
     "output_type": "stream",
     "text": [
      "Looking in links: ./\r\n",
      "Processing /kaggle/input/kerasapplications/keras-team-keras-applications-3b180cb\r\n",
      "Requirement already satisfied: numpy>=1.9.1 in /opt/conda/lib/python3.7/site-packages (from Keras-Applications==1.0.8) (1.18.5)\r\n",
      "Requirement already satisfied: h5py in /opt/conda/lib/python3.7/site-packages (from Keras-Applications==1.0.8) (2.10.0)\r\n",
      "Requirement already satisfied: six in /opt/conda/lib/python3.7/site-packages (from h5py->Keras-Applications==1.0.8) (1.14.0)\r\n",
      "Building wheels for collected packages: Keras-Applications\r\n",
      "  Building wheel for Keras-Applications (setup.py) ... \u001b[?25l-\b \b\\\b \bdone\r\n",
      "\u001b[?25h  Created wheel for Keras-Applications: filename=Keras_Applications-1.0.8-py3-none-any.whl size=50704 sha256=cffcc87e19dcdf3bf168215a29ef672b26479ca7418f24f322fbd9fd025bee9b\r\n",
      "  Stored in directory: /root/.cache/pip/wheels/f4/96/13/eccdd9391bd8df958d78851b98ec4dc207ba05b67b011eb70a\r\n",
      "Successfully built Keras-Applications\r\n",
      "Installing collected packages: Keras-Applications\r\n",
      "Successfully installed Keras-Applications-1.0.8\r\n",
      "Looking in links: ./\r\n",
      "Processing /kaggle/input/efficientnet/efficientnet-1.1.0\r\n",
      "Requirement already satisfied: keras_applications<=1.0.8,>=1.0.7 in /opt/conda/lib/python3.7/site-packages (from efficientnet==1.1.0) (1.0.8)\r\n",
      "Requirement already satisfied: scikit-image in /opt/conda/lib/python3.7/site-packages (from efficientnet==1.1.0) (0.16.2)\r\n",
      "Requirement already satisfied: numpy>=1.9.1 in /opt/conda/lib/python3.7/site-packages (from keras_applications<=1.0.8,>=1.0.7->efficientnet==1.1.0) (1.18.5)\r\n",
      "Requirement already satisfied: h5py in /opt/conda/lib/python3.7/site-packages (from keras_applications<=1.0.8,>=1.0.7->efficientnet==1.1.0) (2.10.0)\r\n",
      "Requirement already satisfied: scipy>=0.19.0 in /opt/conda/lib/python3.7/site-packages (from scikit-image->efficientnet==1.1.0) (1.4.1)\r\n",
      "Requirement already satisfied: matplotlib!=3.0.0,>=2.0.0 in /opt/conda/lib/python3.7/site-packages (from scikit-image->efficientnet==1.1.0) (3.2.1)\r\n",
      "Requirement already satisfied: networkx>=2.0 in /opt/conda/lib/python3.7/site-packages (from scikit-image->efficientnet==1.1.0) (2.4)\r\n",
      "Requirement already satisfied: pillow>=4.3.0 in /opt/conda/lib/python3.7/site-packages (from scikit-image->efficientnet==1.1.0) (7.2.0)\r\n",
      "Requirement already satisfied: imageio>=2.3.0 in /opt/conda/lib/python3.7/site-packages (from scikit-image->efficientnet==1.1.0) (2.8.0)\r\n",
      "Requirement already satisfied: PyWavelets>=0.4.0 in /opt/conda/lib/python3.7/site-packages (from scikit-image->efficientnet==1.1.0) (1.1.1)\r\n",
      "Requirement already satisfied: six in /opt/conda/lib/python3.7/site-packages (from h5py->keras_applications<=1.0.8,>=1.0.7->efficientnet==1.1.0) (1.14.0)\r\n",
      "Requirement already satisfied: kiwisolver>=1.0.1 in /opt/conda/lib/python3.7/site-packages (from matplotlib!=3.0.0,>=2.0.0->scikit-image->efficientnet==1.1.0) (1.2.0)\r\n",
      "Requirement already satisfied: cycler>=0.10 in /opt/conda/lib/python3.7/site-packages (from matplotlib!=3.0.0,>=2.0.0->scikit-image->efficientnet==1.1.0) (0.10.0)\r\n",
      "Requirement already satisfied: pyparsing!=2.0.4,!=2.1.2,!=2.1.6,>=2.0.1 in /opt/conda/lib/python3.7/site-packages (from matplotlib!=3.0.0,>=2.0.0->scikit-image->efficientnet==1.1.0) (2.4.7)\r\n",
      "Requirement already satisfied: python-dateutil>=2.1 in /opt/conda/lib/python3.7/site-packages (from matplotlib!=3.0.0,>=2.0.0->scikit-image->efficientnet==1.1.0) (2.8.1)\r\n",
      "Requirement already satisfied: decorator>=4.3.0 in /opt/conda/lib/python3.7/site-packages (from networkx>=2.0->scikit-image->efficientnet==1.1.0) (4.4.2)\r\n",
      "Building wheels for collected packages: efficientnet\r\n",
      "  Building wheel for efficientnet (setup.py) ... \u001b[?25l-\b \b\\\b \bdone\r\n",
      "\u001b[?25h  Created wheel for efficientnet: filename=efficientnet-1.1.0-py3-none-any.whl size=14141 sha256=07b863709886dfdcf8163be03f5480769f0432f32b5e74463cdbc58ce4971d7d\r\n",
      "  Stored in directory: /root/.cache/pip/wheels/24/f5/31/3cc20871288fe532128224a3f5af7b4d67efb9835bd5683522\r\n",
      "Successfully built efficientnet\r\n",
      "Installing collected packages: efficientnet\r\n",
      "Successfully installed efficientnet-1.1.0\r\n"
     ]
    }
   ],
   "source": [
    "!pip install ../input/kerasapplications/keras-team-keras-applications-3b180cb -f ./ --no-index\n",
    "!pip install ../input/efficientnet/efficientnet-1.1.0/ -f ./ --no-index"
   ]
  },
  {
   "cell_type": "code",
   "execution_count": 2,
   "metadata": {
    "_kg_hide-input": true,
    "_kg_hide-output": true,
    "execution": {
     "iopub.execute_input": "2020-10-06T15:17:09.667266Z",
     "iopub.status.busy": "2020-10-06T15:17:09.665933Z",
     "iopub.status.idle": "2020-10-06T15:17:18.177024Z",
     "shell.execute_reply": "2020-10-06T15:17:18.175787Z"
    },
    "papermill": {
     "duration": 8.58793,
     "end_time": "2020-10-06T15:17:18.177158",
     "exception": false,
     "start_time": "2020-10-06T15:17:09.589228",
     "status": "completed"
    },
    "tags": []
   },
   "outputs": [],
   "source": [
    "import os\n",
    "import cv2\n",
    "import pydicom\n",
    "import pandas as pd\n",
    "import numpy as np \n",
    "import tensorflow as tf \n",
    "import matplotlib.pyplot as plt \n",
    "import random\n",
    "from tqdm.notebook import tqdm \n",
    "from sklearn.model_selection import train_test_split, KFold\n",
    "from sklearn.metrics import mean_absolute_error\n",
    "from tensorflow_addons.optimizers import RectifiedAdam\n",
    "from tensorflow.keras import Model\n",
    "import tensorflow.keras.backend as K\n",
    "import tensorflow.keras.layers as L\n",
    "import tensorflow.keras.models as M\n",
    "from tensorflow.keras.optimizers import Nadam\n",
    "import seaborn as sns\n",
    "import plotly.express as px\n",
    "import plotly.graph_objects as go\n",
    "from PIL import Image"
   ]
  },
  {
   "cell_type": "code",
   "execution_count": 3,
   "metadata": {
    "execution": {
     "iopub.execute_input": "2020-10-06T15:17:18.326215Z",
     "iopub.status.busy": "2020-10-06T15:17:18.324272Z",
     "iopub.status.idle": "2020-10-06T15:17:18.326910Z",
     "shell.execute_reply": "2020-10-06T15:17:18.327408Z"
    },
    "papermill": {
     "duration": 0.079109,
     "end_time": "2020-10-06T15:17:18.327530",
     "exception": false,
     "start_time": "2020-10-06T15:17:18.248421",
     "status": "completed"
    },
    "tags": []
   },
   "outputs": [],
   "source": [
    "def seed_everything(seed=2020):\n",
    "    random.seed(seed)\n",
    "    os.environ['PYTHONHASHSEED'] = str(seed)\n",
    "    np.random.seed(seed)\n",
    "    tf.random.set_seed(seed)"
   ]
  },
  {
   "cell_type": "code",
   "execution_count": 4,
   "metadata": {
    "execution": {
     "iopub.execute_input": "2020-10-06T15:17:18.472175Z",
     "iopub.status.busy": "2020-10-06T15:17:18.470273Z",
     "iopub.status.idle": "2020-10-06T15:17:18.473005Z",
     "shell.execute_reply": "2020-10-06T15:17:18.473533Z"
    },
    "papermill": {
     "duration": 0.077337,
     "end_time": "2020-10-06T15:17:18.473659",
     "exception": false,
     "start_time": "2020-10-06T15:17:18.396322",
     "status": "completed"
    },
    "tags": []
   },
   "outputs": [],
   "source": [
    "seed_everything(42)"
   ]
  },
  {
   "cell_type": "code",
   "execution_count": 5,
   "metadata": {
    "_kg_hide-input": true,
    "_kg_hide-output": true,
    "execution": {
     "iopub.execute_input": "2020-10-06T15:17:18.614503Z",
     "iopub.status.busy": "2020-10-06T15:17:18.613701Z",
     "iopub.status.idle": "2020-10-06T15:17:22.039012Z",
     "shell.execute_reply": "2020-10-06T15:17:22.039577Z"
    },
    "papermill": {
     "duration": 3.498689,
     "end_time": "2020-10-06T15:17:22.039742",
     "exception": false,
     "start_time": "2020-10-06T15:17:18.541053",
     "status": "completed"
    },
    "tags": []
   },
   "outputs": [],
   "source": [
    "config = tf.compat.v1.ConfigProto()\n",
    "config.gpu_options.allow_growth = True\n",
    "session = tf.compat.v1.Session(config=config)"
   ]
  },
  {
   "cell_type": "code",
   "execution_count": 6,
   "metadata": {
    "execution": {
     "iopub.execute_input": "2020-10-06T15:17:22.188749Z",
     "iopub.status.busy": "2020-10-06T15:17:22.186752Z",
     "iopub.status.idle": "2020-10-06T15:17:22.189518Z",
     "shell.execute_reply": "2020-10-06T15:17:22.190164Z"
    },
    "papermill": {
     "duration": 0.07804,
     "end_time": "2020-10-06T15:17:22.190307",
     "exception": false,
     "start_time": "2020-10-06T15:17:22.112267",
     "status": "completed"
    },
    "tags": []
   },
   "outputs": [],
   "source": [
    "Dropout_model = 0.5\n",
    "FVC_weight = 0.2\n",
    "Confidence_weight = 0.2"
   ]
  },
  {
   "cell_type": "code",
   "execution_count": 7,
   "metadata": {
    "_kg_hide-input": true,
    "execution": {
     "iopub.execute_input": "2020-10-06T15:17:22.342535Z",
     "iopub.status.busy": "2020-10-06T15:17:22.341524Z",
     "iopub.status.idle": "2020-10-06T15:17:22.344238Z",
     "shell.execute_reply": "2020-10-06T15:17:22.344688Z"
    },
    "papermill": {
     "duration": 0.085618,
     "end_time": "2020-10-06T15:17:22.344836",
     "exception": false,
     "start_time": "2020-10-06T15:17:22.259218",
     "status": "completed"
    },
    "tags": []
   },
   "outputs": [],
   "source": [
    "commits_df = pd.DataFrame(columns = ['commit_num', 'FVC_weight', 'Dropout_model', 'LB_score', 'seed'])"
   ]
  },
  {
   "cell_type": "code",
   "execution_count": 8,
   "metadata": {
    "execution": {
     "iopub.execute_input": "2020-10-06T15:17:22.490416Z",
     "iopub.status.busy": "2020-10-06T15:17:22.489594Z",
     "iopub.status.idle": "2020-10-06T15:17:22.493700Z",
     "shell.execute_reply": "2020-10-06T15:17:22.493191Z"
    },
    "papermill": {
     "duration": 0.080032,
     "end_time": "2020-10-06T15:17:22.493806",
     "exception": false,
     "start_time": "2020-10-06T15:17:22.413774",
     "status": "completed"
    },
    "tags": []
   },
   "outputs": [],
   "source": [
    "# Seed\n",
    "commits_df['seed'] = 42\n",
    "commits_df.loc[commits_df['commit_num'] == 23, 'seed'] = 0"
   ]
  },
  {
   "cell_type": "code",
   "execution_count": 9,
   "metadata": {
    "execution": {
     "iopub.execute_input": "2020-10-06T15:17:22.640397Z",
     "iopub.status.busy": "2020-10-06T15:17:22.639685Z",
     "iopub.status.idle": "2020-10-06T15:17:22.650262Z",
     "shell.execute_reply": "2020-10-06T15:17:22.649741Z"
    },
    "papermill": {
     "duration": 0.088634,
     "end_time": "2020-10-06T15:17:22.650369",
     "exception": false,
     "start_time": "2020-10-06T15:17:22.561735",
     "status": "completed"
    },
    "tags": []
   },
   "outputs": [
    {
     "data": {
      "text/html": [
       "<div>\n",
       "<style scoped>\n",
       "    .dataframe tbody tr th:only-of-type {\n",
       "        vertical-align: middle;\n",
       "    }\n",
       "\n",
       "    .dataframe tbody tr th {\n",
       "        vertical-align: top;\n",
       "    }\n",
       "\n",
       "    .dataframe thead th {\n",
       "        text-align: right;\n",
       "    }\n",
       "</style>\n",
       "<table border=\"1\" class=\"dataframe\">\n",
       "  <thead>\n",
       "    <tr style=\"text-align: right;\">\n",
       "      <th></th>\n",
       "      <th>commit_num</th>\n",
       "      <th>FVC_weight</th>\n",
       "      <th>Dropout_model</th>\n",
       "      <th>LB_score</th>\n",
       "      <th>seed</th>\n",
       "    </tr>\n",
       "  </thead>\n",
       "  <tbody>\n",
       "  </tbody>\n",
       "</table>\n",
       "</div>"
      ],
      "text/plain": [
       "Empty DataFrame\n",
       "Columns: [commit_num, FVC_weight, Dropout_model, LB_score, seed]\n",
       "Index: []"
      ]
     },
     "execution_count": 9,
     "metadata": {},
     "output_type": "execute_result"
    }
   ],
   "source": [
    "commits_df"
   ]
  },
  {
   "cell_type": "markdown",
   "metadata": {
    "papermill": {
     "duration": 0.069917,
     "end_time": "2020-10-06T15:17:22.790276",
     "exception": false,
     "start_time": "2020-10-06T15:17:22.720359",
     "status": "completed"
    },
    "tags": []
   },
   "source": [
    "## 3. Download data, auxiliary functions and model tuning <a class=\"anchor\" id=\"3\"></a>\n",
    "\n",
    "[Back to Table of Contents](#0.1)"
   ]
  },
  {
   "cell_type": "code",
   "execution_count": 10,
   "metadata": {
    "execution": {
     "iopub.execute_input": "2020-10-06T15:17:22.940431Z",
     "iopub.status.busy": "2020-10-06T15:17:22.939345Z",
     "iopub.status.idle": "2020-10-06T15:17:22.948056Z",
     "shell.execute_reply": "2020-10-06T15:17:22.947397Z"
    },
    "papermill": {
     "duration": 0.08876,
     "end_time": "2020-10-06T15:17:22.948187",
     "exception": false,
     "start_time": "2020-10-06T15:17:22.859427",
     "status": "completed"
    },
    "tags": []
   },
   "outputs": [],
   "source": [
    "train = pd.read_csv('../input/osic-pulmonary-fibrosis-progression/train.csv') "
   ]
  },
  {
   "cell_type": "code",
   "execution_count": 11,
   "metadata": {
    "_kg_hide-input": true,
    "execution": {
     "iopub.execute_input": "2020-10-06T15:17:23.096896Z",
     "iopub.status.busy": "2020-10-06T15:17:23.096010Z",
     "iopub.status.idle": "2020-10-06T15:17:23.099797Z",
     "shell.execute_reply": "2020-10-06T15:17:23.099302Z"
    },
    "papermill": {
     "duration": 0.08371,
     "end_time": "2020-10-06T15:17:23.099921",
     "exception": false,
     "start_time": "2020-10-06T15:17:23.016211",
     "status": "completed"
    },
    "tags": []
   },
   "outputs": [],
   "source": [
    "def get_tab(df):\n",
    "    vector = [(df.Age.values[0] - 30) / 30] \n",
    "    \n",
    "    if df.Sex.values[0] == 'Male':\n",
    "       vector.append(0)\n",
    "    else:\n",
    "       vector.append(1)\n",
    "    \n",
    "    if df.SmokingStatus.values[0] == 'Never smoked':\n",
    "        vector.extend([0,0])\n",
    "    elif df.SmokingStatus.values[0] == 'Ex-smoker':\n",
    "        vector.extend([1,1])\n",
    "    elif df.SmokingStatus.values[0] == 'Currently smokes':\n",
    "        vector.extend([0,1])\n",
    "    else:\n",
    "        vector.extend([1,0])\n",
    "    return np.array(vector) "
   ]
  },
  {
   "cell_type": "code",
   "execution_count": 12,
   "metadata": {
    "execution": {
     "iopub.execute_input": "2020-10-06T15:17:23.251221Z",
     "iopub.status.busy": "2020-10-06T15:17:23.250236Z",
     "iopub.status.idle": "2020-10-06T15:17:23.673444Z",
     "shell.execute_reply": "2020-10-06T15:17:23.672342Z"
    },
    "papermill": {
     "duration": 0.504178,
     "end_time": "2020-10-06T15:17:23.673640",
     "exception": false,
     "start_time": "2020-10-06T15:17:23.169462",
     "status": "completed"
    },
    "tags": []
   },
   "outputs": [
    {
     "data": {
      "application/vnd.jupyter.widget-view+json": {
       "model_id": "d4a2fee316b549c48cd9d5ee8f980c69",
       "version_major": 2,
       "version_minor": 0
      },
      "text/plain": [
       "HBox(children=(FloatProgress(value=1.0, bar_style='info', max=1.0), HTML(value='')))"
      ]
     },
     "metadata": {},
     "output_type": "display_data"
    },
    {
     "name": "stdout",
     "output_type": "stream",
     "text": [
      "\n"
     ]
    },
    {
     "name": "stderr",
     "output_type": "stream",
     "text": [
      "/opt/conda/lib/python3.7/site-packages/ipykernel_launcher.py:9: FutureWarning: `rcond` parameter will change to the default of machine precision times ``max(M, N)`` where M and N are the input matrix dimensions.\n",
      "To use the future default and silence this warning we advise to pass `rcond=None`, to keep using the old, explicitly pass `rcond=-1`.\n",
      "  if __name__ == '__main__':\n"
     ]
    }
   ],
   "source": [
    "A = {} \n",
    "TAB = {} \n",
    "P = [] \n",
    "for i, p in tqdm(enumerate(train.Patient.unique())):\n",
    "    sub = train.loc[train.Patient == p, :] \n",
    "    fvc = sub.FVC.values\n",
    "    weeks = sub.Weeks.values\n",
    "    c = np.vstack([weeks, np.ones(len(weeks))]).T\n",
    "    a, b = np.linalg.lstsq(c, fvc)[0]\n",
    "    \n",
    "    A[p] = a\n",
    "    TAB[p] = get_tab(sub)\n",
    "    P.append(p)"
   ]
  },
  {
   "cell_type": "code",
   "execution_count": 13,
   "metadata": {
    "_kg_hide-input": true,
    "execution": {
     "iopub.execute_input": "2020-10-06T15:17:23.838363Z",
     "iopub.status.busy": "2020-10-06T15:17:23.837523Z",
     "iopub.status.idle": "2020-10-06T15:17:23.841185Z",
     "shell.execute_reply": "2020-10-06T15:17:23.840608Z"
    },
    "papermill": {
     "duration": 0.088967,
     "end_time": "2020-10-06T15:17:23.841290",
     "exception": false,
     "start_time": "2020-10-06T15:17:23.752323",
     "status": "completed"
    },
    "tags": []
   },
   "outputs": [],
   "source": [
    "def get_img(path):\n",
    "    d = pydicom.dcmread(path)\n",
    "    return cv2.resize(d.pixel_array / 2**11, (512, 512))"
   ]
  },
  {
   "cell_type": "code",
   "execution_count": 14,
   "metadata": {
    "_kg_hide-input": true,
    "execution": {
     "iopub.execute_input": "2020-10-06T15:17:23.996434Z",
     "iopub.status.busy": "2020-10-06T15:17:23.995463Z",
     "iopub.status.idle": "2020-10-06T15:17:23.998431Z",
     "shell.execute_reply": "2020-10-06T15:17:23.997902Z"
    },
    "papermill": {
     "duration": 0.086792,
     "end_time": "2020-10-06T15:17:23.998534",
     "exception": false,
     "start_time": "2020-10-06T15:17:23.911742",
     "status": "completed"
    },
    "tags": []
   },
   "outputs": [],
   "source": [
    "from tensorflow.keras.utils import Sequence\n",
    "\n",
    "class IGenerator(Sequence):\n",
    "    BAD_ID = ['ID00011637202177653955184', 'ID00052637202186188008618']\n",
    "    def __init__(self, keys, a, tab, batch_size=32):\n",
    "        self.keys = [k for k in keys if k not in self.BAD_ID]\n",
    "        self.a = a\n",
    "        self.tab = tab\n",
    "        self.batch_size = batch_size\n",
    "        \n",
    "        self.train_data = {}\n",
    "        for p in train.Patient.values:\n",
    "            self.train_data[p] = os.listdir(f'../input/osic-pulmonary-fibrosis-progression/train/{p}/')\n",
    "    \n",
    "    def __len__(self):\n",
    "        return 1000\n",
    "    \n",
    "    def __getitem__(self, idx):\n",
    "        x = []\n",
    "        a, tab = [], [] \n",
    "        keys = np.random.choice(self.keys, size = self.batch_size)\n",
    "        for k in keys:\n",
    "            try:\n",
    "                i = np.random.choice(self.train_data[k], size=1)[0]\n",
    "                img = get_img(f'../input/osic-pulmonary-fibrosis-progression/train/{k}/{i}')\n",
    "                x.append(img)\n",
    "                a.append(self.a[k])\n",
    "                tab.append(self.tab[k])\n",
    "            except:\n",
    "                print(k, i)\n",
    "       \n",
    "        x,a,tab = np.array(x), np.array(a), np.array(tab)\n",
    "        x = np.expand_dims(x, axis=-1)\n",
    "        return [x, tab] , a"
   ]
  },
  {
   "cell_type": "code",
   "execution_count": 15,
   "metadata": {
    "execution": {
     "iopub.execute_input": "2020-10-06T15:17:24.161559Z",
     "iopub.status.busy": "2020-10-06T15:17:24.160529Z",
     "iopub.status.idle": "2020-10-06T15:18:25.691349Z",
     "shell.execute_reply": "2020-10-06T15:18:25.691958Z"
    },
    "papermill": {
     "duration": 61.622365,
     "end_time": "2020-10-06T15:18:25.692143",
     "exception": false,
     "start_time": "2020-10-06T15:17:24.069778",
     "status": "completed"
    },
    "tags": []
   },
   "outputs": [
    {
     "name": "stdout",
     "output_type": "stream",
     "text": [
      "Number of models: 1\n"
     ]
    }
   ],
   "source": [
    "from tensorflow.keras.layers import (\n",
    "    Dense, Dropout, Activation, Flatten, Input, BatchNormalization, GlobalAveragePooling2D, Add, Conv2D, AveragePooling2D, \n",
    "    LeakyReLU, Concatenate \n",
    ")\n",
    "import efficientnet.tfkeras as efn\n",
    "\n",
    "def get_efficientnet(model, shape):\n",
    "    models_dict = {\n",
    "        'b0': efn.EfficientNetB0(input_shape=shape,weights=None,include_top=False),\n",
    "        'b1': efn.EfficientNetB1(input_shape=shape,weights=None,include_top=False),\n",
    "        'b2': efn.EfficientNetB2(input_shape=shape,weights=None,include_top=False),\n",
    "        'b3': efn.EfficientNetB3(input_shape=shape,weights=None,include_top=False),\n",
    "        'b4': efn.EfficientNetB4(input_shape=shape,weights=None,include_top=False),\n",
    "        'b5': efn.EfficientNetB5(input_shape=shape,weights=None,include_top=False),\n",
    "        'b6': efn.EfficientNetB6(input_shape=shape,weights=None,include_top=False),\n",
    "        'b7': efn.EfficientNetB7(input_shape=shape,weights=None,include_top=False)\n",
    "    }\n",
    "    return models_dict[model]\n",
    "\n",
    "def build_model(shape=(512, 512, 1), model_class=None):\n",
    "    inp = Input(shape=shape)\n",
    "    base = get_efficientnet(model_class, shape)\n",
    "    x = base(inp)\n",
    "    x = GlobalAveragePooling2D()(x)\n",
    "    inp2 = Input(shape=(4,))\n",
    "    x2 = tf.keras.layers.GaussianNoise(0.2)(inp2)\n",
    "    x = Concatenate()([x, x2]) \n",
    "    x = Dropout(Dropout_model)(x)\n",
    "    x = Dense(1)(x)\n",
    "    model = Model([inp, inp2] , x)\n",
    "    \n",
    "    model.load_weights('../input/efficientnetb5model-training-comp-score/fold-4.h5')\n",
    "    return model\n",
    "\n",
    "model_classes = ['b5'] #['b0','b1','b2','b3',b4','b5','b6','b7']\n",
    "models = [build_model(shape=(512, 512, 1), model_class=m) for m in model_classes]\n",
    "print('Number of models: ' + str(len(models)))"
   ]
  },
  {
   "cell_type": "code",
   "execution_count": 16,
   "metadata": {
    "execution": {
     "iopub.execute_input": "2020-10-06T15:18:25.838392Z",
     "iopub.status.busy": "2020-10-06T15:18:25.837643Z",
     "iopub.status.idle": "2020-10-06T15:18:25.841618Z",
     "shell.execute_reply": "2020-10-06T15:18:25.841109Z"
    },
    "papermill": {
     "duration": 0.077924,
     "end_time": "2020-10-06T15:18:25.841718",
     "exception": false,
     "start_time": "2020-10-06T15:18:25.763794",
     "status": "completed"
    },
    "tags": []
   },
   "outputs": [],
   "source": [
    "tr_p, vl_p = train_test_split(P, shuffle=True, train_size = 0.8) "
   ]
  },
  {
   "cell_type": "code",
   "execution_count": 17,
   "metadata": {
    "_kg_hide-input": true,
    "execution": {
     "iopub.execute_input": "2020-10-06T15:18:25.993447Z",
     "iopub.status.busy": "2020-10-06T15:18:25.991578Z",
     "iopub.status.idle": "2020-10-06T15:18:25.994285Z",
     "shell.execute_reply": "2020-10-06T15:18:25.994764Z"
    },
    "papermill": {
     "duration": 0.080267,
     "end_time": "2020-10-06T15:18:25.994897",
     "exception": false,
     "start_time": "2020-10-06T15:18:25.914630",
     "status": "completed"
    },
    "tags": []
   },
   "outputs": [],
   "source": [
    "def score(fvc_true, fvc_pred, sigma):\n",
    "    sigma_clip = np.maximum(sigma, 70) # changed from 70, trie 66.7 too\n",
    "    delta = np.abs(fvc_true - fvc_pred)\n",
    "    delta = np.minimum(delta, 1000)\n",
    "    sq2 = np.sqrt(2)\n",
    "    metric = (delta / sigma_clip)*sq2 + np.log(sigma_clip* sq2)\n",
    "    return np.mean(metric)"
   ]
  },
  {
   "cell_type": "code",
   "execution_count": 18,
   "metadata": {
    "execution": {
     "iopub.execute_input": "2020-10-06T15:18:26.167337Z",
     "iopub.status.busy": "2020-10-06T15:18:26.158984Z",
     "iopub.status.idle": "2020-10-06T15:34:06.720566Z",
     "shell.execute_reply": "2020-10-06T15:34:06.721380Z"
    },
    "papermill": {
     "duration": 940.656651,
     "end_time": "2020-10-06T15:34:06.721582",
     "exception": false,
     "start_time": "2020-10-06T15:18:26.064931",
     "status": "completed"
    },
    "tags": []
   },
   "outputs": [
    {
     "data": {
      "application/vnd.jupyter.widget-view+json": {
       "model_id": "758f9d80de214de697e9e0af8c5a986a",
       "version_major": 2,
       "version_minor": 0
      },
      "text/plain": [
       "HBox(children=(FloatProgress(value=0.0, max=9.0), HTML(value='')))"
      ]
     },
     "metadata": {},
     "output_type": "display_data"
    },
    {
     "name": "stdout",
     "output_type": "stream",
     "text": [
      "6.752804172040673\n",
      "6.752823645723581\n",
      "6.752830966329654\n",
      "6.75283583015215\n",
      "6.752839275322852\n",
      "6.75284297789232\n",
      "6.752846537679177\n",
      "6.7528498305137\n",
      "6.75285520981973\n",
      "\n"
     ]
    }
   ],
   "source": [
    "subs = []\n",
    "for model in models:\n",
    "    metric = []\n",
    "    for q in tqdm(range(1, 10)):\n",
    "        m = []\n",
    "        for p in vl_p:\n",
    "            x = [] \n",
    "            tab = [] \n",
    "\n",
    "            if p in ['ID00011637202177653955184', 'ID00052637202186188008618']:\n",
    "                continue\n",
    "\n",
    "            ldir = os.listdir(f'../input/osic-pulmonary-fibrosis-progression/train/{p}/')\n",
    "            for i in ldir:\n",
    "                if int(i[:-4]) / len(ldir) < 0.8 and int(i[:-4]) / len(ldir) > 0.15:\n",
    "                    x.append(get_img(f'../input/osic-pulmonary-fibrosis-progression/train/{p}/{i}')) \n",
    "                    tab.append(get_tab(train.loc[train.Patient == p, :])) \n",
    "            if len(x) < 1:\n",
    "                continue\n",
    "            tab = np.array(tab) \n",
    "\n",
    "            x = np.expand_dims(x, axis=-1) \n",
    "            _a = model.predict([x, tab]) \n",
    "            a = np.quantile(_a, q / 10)\n",
    "\n",
    "            percent_true = train.Percent.values[train.Patient == p]\n",
    "            fvc_true = train.FVC.values[train.Patient == p]\n",
    "            weeks_true = train.Weeks.values[train.Patient == p]\n",
    "\n",
    "            fvc = a * (weeks_true - weeks_true[0]) + fvc_true[0]\n",
    "            percent = percent_true[0] - a * abs(weeks_true - weeks_true[0])\n",
    "            m.append(score(fvc_true, fvc, percent))\n",
    "        print(np.mean(m))\n",
    "        metric.append(np.mean(m))\n",
    "\n",
    "    q = (np.argmin(metric) + 1)/ 10\n",
    "\n",
    "    sub = pd.read_csv('../input/osic-pulmonary-fibrosis-progression/sample_submission.csv') \n",
    "    test = pd.read_csv('../input/osic-pulmonary-fibrosis-progression/test.csv') \n",
    "    A_test, B_test, P_test,W, FVC= {}, {}, {},{},{} \n",
    "    STD, WEEK = {}, {} \n",
    "    for p in test.Patient.unique():\n",
    "        x = [] \n",
    "        tab = [] \n",
    "        ldir = os.listdir(f'../input/osic-pulmonary-fibrosis-progression/test/{p}/')\n",
    "        for i in ldir:\n",
    "            if int(i[:-4]) / len(ldir) < 0.8 and int(i[:-4]) / len(ldir) > 0.15:\n",
    "                x.append(get_img(f'../input/osic-pulmonary-fibrosis-progression/test/{p}/{i}')) \n",
    "                tab.append(get_tab(test.loc[test.Patient == p, :])) \n",
    "        if len(x) <= 1:\n",
    "            continue\n",
    "        tab = np.array(tab) \n",
    "\n",
    "        x = np.expand_dims(x, axis=-1) \n",
    "        _a = model.predict([x, tab]) \n",
    "        a = np.quantile(_a, q)\n",
    "        A_test[p] = a\n",
    "        B_test[p] = test.FVC.values[test.Patient == p] - a*test.Weeks.values[test.Patient == p]\n",
    "        P_test[p] = test.Percent.values[test.Patient == p] \n",
    "        WEEK[p] = test.Weeks.values[test.Patient == p]\n",
    "\n",
    "    for k in sub.Patient_Week.values:\n",
    "        p, w = k.split('_')\n",
    "        w = int(w) \n",
    "\n",
    "        fvc = A_test[p] * w + B_test[p]\n",
    "        sub.loc[sub.Patient_Week == k, 'FVC'] = fvc\n",
    "        sub.loc[sub.Patient_Week == k, 'Confidence'] = (\n",
    "            P_test[p] - A_test[p] * abs(WEEK[p] - w) \n",
    "    ) \n",
    "\n",
    "    _sub = sub[[\"Patient_Week\",\"FVC\",\"Confidence\"]].copy()\n",
    "    subs.append(_sub)"
   ]
  },
  {
   "cell_type": "markdown",
   "metadata": {
    "papermill": {
     "duration": 0.083835,
     "end_time": "2020-10-06T15:34:06.910328",
     "exception": false,
     "start_time": "2020-10-06T15:34:06.826493",
     "status": "completed"
    },
    "tags": []
   },
   "source": [
    "## 4. Prediction and submission <a class=\"anchor\" id=\"4\"></a>\n",
    "\n",
    "[Back to Table of Contents](#0.1)"
   ]
  },
  {
   "cell_type": "markdown",
   "metadata": {
    "papermill": {
     "duration": 0.06865,
     "end_time": "2020-10-06T15:34:07.055186",
     "exception": false,
     "start_time": "2020-10-06T15:34:06.986536",
     "status": "completed"
    },
    "tags": []
   },
   "source": [
    "## 4.1 Average prediction <a class=\"anchor\" id=\"4.1\"></a>\n",
    "\n",
    "[Back to Table of Contents](#0.1)"
   ]
  },
  {
   "cell_type": "code",
   "execution_count": 19,
   "metadata": {
    "execution": {
     "iopub.execute_input": "2020-10-06T15:34:07.204466Z",
     "iopub.status.busy": "2020-10-06T15:34:07.203777Z",
     "iopub.status.idle": "2020-10-06T15:34:07.234407Z",
     "shell.execute_reply": "2020-10-06T15:34:07.233687Z"
    },
    "papermill": {
     "duration": 0.109353,
     "end_time": "2020-10-06T15:34:07.234547",
     "exception": false,
     "start_time": "2020-10-06T15:34:07.125194",
     "status": "completed"
    },
    "tags": []
   },
   "outputs": [],
   "source": [
    "N = len(subs)\n",
    "sub = subs[0].copy() # ref\n",
    "sub[\"FVC\"] = 0\n",
    "sub[\"Confidence\"] = 0\n",
    "for i in range(N):\n",
    "    sub[\"FVC\"] += subs[0][\"FVC\"] * (1/N)\n",
    "    sub[\"Confidence\"] += subs[0][\"Confidence\"] * (1/N)"
   ]
  },
  {
   "cell_type": "code",
   "execution_count": 20,
   "metadata": {
    "execution": {
     "iopub.execute_input": "2020-10-06T15:34:07.386446Z",
     "iopub.status.busy": "2020-10-06T15:34:07.385675Z",
     "iopub.status.idle": "2020-10-06T15:34:07.389341Z",
     "shell.execute_reply": "2020-10-06T15:34:07.389874Z"
    },
    "papermill": {
     "duration": 0.084986,
     "end_time": "2020-10-06T15:34:07.390015",
     "exception": false,
     "start_time": "2020-10-06T15:34:07.305029",
     "status": "completed"
    },
    "tags": []
   },
   "outputs": [
    {
     "data": {
      "text/html": [
       "<div>\n",
       "<style scoped>\n",
       "    .dataframe tbody tr th:only-of-type {\n",
       "        vertical-align: middle;\n",
       "    }\n",
       "\n",
       "    .dataframe tbody tr th {\n",
       "        vertical-align: top;\n",
       "    }\n",
       "\n",
       "    .dataframe thead th {\n",
       "        text-align: right;\n",
       "    }\n",
       "</style>\n",
       "<table border=\"1\" class=\"dataframe\">\n",
       "  <thead>\n",
       "    <tr style=\"text-align: right;\">\n",
       "      <th></th>\n",
       "      <th>Patient_Week</th>\n",
       "      <th>FVC</th>\n",
       "      <th>Confidence</th>\n",
       "    </tr>\n",
       "  </thead>\n",
       "  <tbody>\n",
       "    <tr>\n",
       "      <th>0</th>\n",
       "      <td>ID00419637202311204720264_-12</td>\n",
       "      <td>3087.004405</td>\n",
       "      <td>137.191260</td>\n",
       "    </tr>\n",
       "    <tr>\n",
       "      <th>1</th>\n",
       "      <td>ID00421637202311550012437_-12</td>\n",
       "      <td>2841.332605</td>\n",
       "      <td>184.377896</td>\n",
       "    </tr>\n",
       "    <tr>\n",
       "      <th>2</th>\n",
       "      <td>ID00422637202311677017371_-12</td>\n",
       "      <td>1998.432161</td>\n",
       "      <td>145.104654</td>\n",
       "    </tr>\n",
       "    <tr>\n",
       "      <th>3</th>\n",
       "      <td>ID00423637202312137826377_-12</td>\n",
       "      <td>3404.191121</td>\n",
       "      <td>189.450024</td>\n",
       "    </tr>\n",
       "    <tr>\n",
       "      <th>4</th>\n",
       "      <td>ID00426637202313170790466_-12</td>\n",
       "      <td>2969.408454</td>\n",
       "      <td>116.233422</td>\n",
       "    </tr>\n",
       "  </tbody>\n",
       "</table>\n",
       "</div>"
      ],
      "text/plain": [
       "                    Patient_Week          FVC  Confidence\n",
       "0  ID00419637202311204720264_-12  3087.004405  137.191260\n",
       "1  ID00421637202311550012437_-12  2841.332605  184.377896\n",
       "2  ID00422637202311677017371_-12  1998.432161  145.104654\n",
       "3  ID00423637202312137826377_-12  3404.191121  189.450024\n",
       "4  ID00426637202313170790466_-12  2969.408454  116.233422"
      ]
     },
     "execution_count": 20,
     "metadata": {},
     "output_type": "execute_result"
    }
   ],
   "source": [
    "sub.head()"
   ]
  },
  {
   "cell_type": "code",
   "execution_count": 21,
   "metadata": {
    "execution": {
     "iopub.execute_input": "2020-10-06T15:34:07.576966Z",
     "iopub.status.busy": "2020-10-06T15:34:07.576365Z",
     "iopub.status.idle": "2020-10-06T15:34:07.782153Z",
     "shell.execute_reply": "2020-10-06T15:34:07.781524Z"
    },
    "papermill": {
     "duration": 0.318687,
     "end_time": "2020-10-06T15:34:07.782285",
     "exception": false,
     "start_time": "2020-10-06T15:34:07.463598",
     "status": "completed"
    },
    "tags": []
   },
   "outputs": [],
   "source": [
    "sub[[\"Patient_Week\",\"FVC\",\"Confidence\"]].to_csv(\"submission_img.csv\", index=False)"
   ]
  },
  {
   "cell_type": "code",
   "execution_count": 22,
   "metadata": {
    "execution": {
     "iopub.execute_input": "2020-10-06T15:34:07.930671Z",
     "iopub.status.busy": "2020-10-06T15:34:07.929888Z",
     "iopub.status.idle": "2020-10-06T15:34:07.933642Z",
     "shell.execute_reply": "2020-10-06T15:34:07.933111Z"
    },
    "papermill": {
     "duration": 0.081969,
     "end_time": "2020-10-06T15:34:07.933755",
     "exception": false,
     "start_time": "2020-10-06T15:34:07.851786",
     "status": "completed"
    },
    "tags": []
   },
   "outputs": [],
   "source": [
    "img_sub = sub[[\"Patient_Week\",\"FVC\",\"Confidence\"]].copy()"
   ]
  },
  {
   "cell_type": "markdown",
   "metadata": {
    "papermill": {
     "duration": 0.071875,
     "end_time": "2020-10-06T15:34:08.078487",
     "exception": false,
     "start_time": "2020-10-06T15:34:08.006612",
     "status": "completed"
    },
    "tags": []
   },
   "source": [
    "## 4.2 Osic-Multiple-Quantile-Regression <a class=\"anchor\" id=\"4.2\"></a>\n",
    "\n",
    "[Back to Table of Contents](#0.1)"
   ]
  },
  {
   "cell_type": "code",
   "execution_count": 23,
   "metadata": {
    "execution": {
     "iopub.execute_input": "2020-10-06T15:34:08.238389Z",
     "iopub.status.busy": "2020-10-06T15:34:08.237336Z",
     "iopub.status.idle": "2020-10-06T15:34:08.287530Z",
     "shell.execute_reply": "2020-10-06T15:34:08.287043Z"
    },
    "papermill": {
     "duration": 0.137602,
     "end_time": "2020-10-06T15:34:08.287640",
     "exception": false,
     "start_time": "2020-10-06T15:34:08.150038",
     "status": "completed"
    },
    "tags": []
   },
   "outputs": [
    {
     "name": "stdout",
     "output_type": "stream",
     "text": [
      "add infos\n"
     ]
    }
   ],
   "source": [
    "ROOT = \"../input/osic-pulmonary-fibrosis-progression\"\n",
    "BATCH_SIZE=128\n",
    "\n",
    "tr = pd.read_csv(f\"{ROOT}/train.csv\")\n",
    "tr.drop_duplicates(keep=False, inplace=True, subset=['Patient','Weeks'])\n",
    "chunk = pd.read_csv(f\"{ROOT}/test.csv\")\n",
    "\n",
    "print(\"add infos\")\n",
    "sub = pd.read_csv(f\"{ROOT}/sample_submission.csv\")\n",
    "sub['Patient'] = sub['Patient_Week'].apply(lambda x:x.split('_')[0])\n",
    "sub['Weeks'] = sub['Patient_Week'].apply(lambda x: int(x.split('_')[-1]))\n",
    "sub =  sub[['Patient','Weeks','Confidence','Patient_Week']]\n",
    "sub = sub.merge(chunk.drop('Weeks', axis=1), on=\"Patient\")"
   ]
  },
  {
   "cell_type": "code",
   "execution_count": 24,
   "metadata": {
    "execution": {
     "iopub.execute_input": "2020-10-06T15:34:08.445215Z",
     "iopub.status.busy": "2020-10-06T15:34:08.444246Z",
     "iopub.status.idle": "2020-10-06T15:34:08.453779Z",
     "shell.execute_reply": "2020-10-06T15:34:08.453215Z"
    },
    "papermill": {
     "duration": 0.092787,
     "end_time": "2020-10-06T15:34:08.453910",
     "exception": false,
     "start_time": "2020-10-06T15:34:08.361123",
     "status": "completed"
    },
    "tags": []
   },
   "outputs": [],
   "source": [
    "import math\n",
    "tr['WHERE'] = 'train'\n",
    "chunk['WHERE'] = 'val'\n",
    "sub['WHERE'] = 'test'\n",
    "data = tr.append([chunk, sub])\n",
    "\n"
   ]
  },
  {
   "cell_type": "code",
   "execution_count": 25,
   "metadata": {
    "execution": {
     "iopub.execute_input": "2020-10-06T15:34:08.612913Z",
     "iopub.status.busy": "2020-10-06T15:34:08.611944Z",
     "iopub.status.idle": "2020-10-06T15:34:08.618937Z",
     "shell.execute_reply": "2020-10-06T15:34:08.619521Z"
    },
    "papermill": {
     "duration": 0.088731,
     "end_time": "2020-10-06T15:34:08.619668",
     "exception": false,
     "start_time": "2020-10-06T15:34:08.530937",
     "status": "completed"
    },
    "tags": []
   },
   "outputs": [
    {
     "name": "stdout",
     "output_type": "stream",
     "text": [
      "(1535, 8) (5, 8) (730, 10) (2270, 10)\n",
      "176 5 5 176\n"
     ]
    }
   ],
   "source": [
    "print(tr.shape, chunk.shape, sub.shape, data.shape)\n",
    "print(tr.Patient.nunique(), chunk.Patient.nunique(), sub.Patient.nunique(), \n",
    "      data.Patient.nunique())"
   ]
  },
  {
   "cell_type": "code",
   "execution_count": 26,
   "metadata": {
    "execution": {
     "iopub.execute_input": "2020-10-06T15:34:08.778637Z",
     "iopub.status.busy": "2020-10-06T15:34:08.777691Z",
     "iopub.status.idle": "2020-10-06T15:34:08.793498Z",
     "shell.execute_reply": "2020-10-06T15:34:08.793995Z"
    },
    "papermill": {
     "duration": 0.099555,
     "end_time": "2020-10-06T15:34:08.794127",
     "exception": false,
     "start_time": "2020-10-06T15:34:08.694572",
     "status": "completed"
    },
    "tags": []
   },
   "outputs": [],
   "source": [
    "data['min_week'] = data['Weeks']\n",
    "data.loc[data.WHERE=='test','min_week'] = np.nan\n",
    "data['min_week'] = data.groupby('Patient')['min_week'].transform('min')"
   ]
  },
  {
   "cell_type": "code",
   "execution_count": 27,
   "metadata": {
    "execution": {
     "iopub.execute_input": "2020-10-06T15:34:08.956842Z",
     "iopub.status.busy": "2020-10-06T15:34:08.951203Z",
     "iopub.status.idle": "2020-10-06T15:34:08.960124Z",
     "shell.execute_reply": "2020-10-06T15:34:08.960596Z"
    },
    "papermill": {
     "duration": 0.095421,
     "end_time": "2020-10-06T15:34:08.960728",
     "exception": false,
     "start_time": "2020-10-06T15:34:08.865307",
     "status": "completed"
    },
    "tags": []
   },
   "outputs": [],
   "source": [
    "base = data.loc[data.Weeks == data.min_week]\n",
    "base = base[['Patient','FVC']].copy()\n",
    "base.columns = ['Patient','min_FVC']\n",
    "base['nb'] = 1\n",
    "base['nb'] = base.groupby('Patient')['nb'].transform('cumsum')\n",
    "base = base[base.nb==1]\n",
    "base.drop('nb', axis=1, inplace=True)"
   ]
  },
  {
   "cell_type": "code",
   "execution_count": 28,
   "metadata": {
    "execution": {
     "iopub.execute_input": "2020-10-06T15:34:09.124317Z",
     "iopub.status.busy": "2020-10-06T15:34:09.123232Z",
     "iopub.status.idle": "2020-10-06T15:34:09.141301Z",
     "shell.execute_reply": "2020-10-06T15:34:09.142481Z"
    },
    "papermill": {
     "duration": 0.106071,
     "end_time": "2020-10-06T15:34:09.142672",
     "exception": false,
     "start_time": "2020-10-06T15:34:09.036601",
     "status": "completed"
    },
    "tags": []
   },
   "outputs": [],
   "source": [
    "data = data.merge(base, on='Patient', how='left')\n",
    "data['base_week'] = data['Weeks'] - data['min_week']\n",
    "del base"
   ]
  },
  {
   "cell_type": "code",
   "execution_count": 29,
   "metadata": {
    "execution": {
     "iopub.execute_input": "2020-10-06T15:34:09.313722Z",
     "iopub.status.busy": "2020-10-06T15:34:09.308954Z",
     "iopub.status.idle": "2020-10-06T15:34:09.316631Z",
     "shell.execute_reply": "2020-10-06T15:34:09.316131Z"
    },
    "papermill": {
     "duration": 0.089449,
     "end_time": "2020-10-06T15:34:09.316726",
     "exception": false,
     "start_time": "2020-10-06T15:34:09.227277",
     "status": "completed"
    },
    "tags": []
   },
   "outputs": [],
   "source": [
    "COLS = ['Sex','SmokingStatus'] #,'Age'\n",
    "FE = []\n",
    "for col in COLS:\n",
    "    for mod in data[col].unique():\n",
    "        FE.append(mod)\n",
    "        data[mod] = (data[col] == mod).astype(int)"
   ]
  },
  {
   "cell_type": "code",
   "execution_count": 30,
   "metadata": {
    "execution": {
     "iopub.execute_input": "2020-10-06T15:34:09.475786Z",
     "iopub.status.busy": "2020-10-06T15:34:09.475194Z",
     "iopub.status.idle": "2020-10-06T15:34:09.478852Z",
     "shell.execute_reply": "2020-10-06T15:34:09.479336Z"
    },
    "papermill": {
     "duration": 0.091774,
     "end_time": "2020-10-06T15:34:09.479452",
     "exception": false,
     "start_time": "2020-10-06T15:34:09.387678",
     "status": "completed"
    },
    "tags": []
   },
   "outputs": [],
   "source": [
    "#\n",
    "data['age'] = (data['Age'] - data['Age'].min() ) / ( data['Age'].max() - data['Age'].min() )\n",
    "data['BASE'] = (data['min_FVC'] - data['min_FVC'].min() ) / ( data['min_FVC'].max() - data['min_FVC'].min() )\n",
    "data['week'] = (data['base_week'] - data['base_week'].min() ) / ( data['base_week'].max() - data['base_week'].min() )\n",
    "data['percent'] = (data['Percent'] - data['Percent'].min() ) / ( data['Percent'].max() - data['Percent'].min() )\n",
    "FE += ['age','percent','week','BASE']"
   ]
  },
  {
   "cell_type": "code",
   "execution_count": 31,
   "metadata": {
    "execution": {
     "iopub.execute_input": "2020-10-06T15:34:09.627120Z",
     "iopub.status.busy": "2020-10-06T15:34:09.626198Z",
     "iopub.status.idle": "2020-10-06T15:34:09.633745Z",
     "shell.execute_reply": "2020-10-06T15:34:09.634244Z"
    },
    "papermill": {
     "duration": 0.084292,
     "end_time": "2020-10-06T15:34:09.634357",
     "exception": false,
     "start_time": "2020-10-06T15:34:09.550065",
     "status": "completed"
    },
    "tags": []
   },
   "outputs": [],
   "source": [
    "tr = data.loc[data.WHERE=='train']\n",
    "chunk = data.loc[data.WHERE=='val']\n",
    "sub = data.loc[data.WHERE=='test']\n",
    "del data"
   ]
  },
  {
   "cell_type": "code",
   "execution_count": 32,
   "metadata": {
    "execution": {
     "iopub.execute_input": "2020-10-06T15:34:09.810495Z",
     "iopub.status.busy": "2020-10-06T15:34:09.809624Z",
     "iopub.status.idle": "2020-10-06T15:34:09.813430Z",
     "shell.execute_reply": "2020-10-06T15:34:09.813952Z"
    },
    "papermill": {
     "duration": 0.099719,
     "end_time": "2020-10-06T15:34:09.814087",
     "exception": false,
     "start_time": "2020-10-06T15:34:09.714368",
     "status": "completed"
    },
    "tags": []
   },
   "outputs": [
    {
     "data": {
      "text/plain": [
       "((1535, 22), (5, 22), (730, 22))"
      ]
     },
     "execution_count": 32,
     "metadata": {},
     "output_type": "execute_result"
    }
   ],
   "source": [
    "tr.shape, chunk.shape, sub.shape"
   ]
  },
  {
   "cell_type": "markdown",
   "metadata": {
    "papermill": {
     "duration": 0.071001,
     "end_time": "2020-10-06T15:34:09.964905",
     "exception": false,
     "start_time": "2020-10-06T15:34:09.893904",
     "status": "completed"
    },
    "tags": []
   },
   "source": [
    "## 4.3 The change of mloss <a class=\"anchor\" id=\"4.3\"></a>\n",
    "\n",
    "[Back to Table of Contents](#0.1)"
   ]
  },
  {
   "cell_type": "code",
   "execution_count": 33,
   "metadata": {
    "execution": {
     "iopub.execute_input": "2020-10-06T15:34:10.137591Z",
     "iopub.status.busy": "2020-10-06T15:34:10.129996Z",
     "iopub.status.idle": "2020-10-06T15:34:10.140075Z",
     "shell.execute_reply": "2020-10-06T15:34:10.140632Z"
    },
    "papermill": {
     "duration": 0.103341,
     "end_time": "2020-10-06T15:34:10.140776",
     "exception": false,
     "start_time": "2020-10-06T15:34:10.037435",
     "status": "completed"
    },
    "tags": []
   },
   "outputs": [],
   "source": [
    "C1, C2 = tf.constant(70, dtype='float32'), tf.constant(1000, dtype=\"float32\")\n",
    "\n",
    "def score(y_true, y_pred):\n",
    "    tf.dtypes.cast(y_true, tf.float32)\n",
    "    tf.dtypes.cast(y_pred, tf.float32)\n",
    "    sigma = y_pred[:, 2] - y_pred[:, 0]\n",
    "    fvc_pred = y_pred[:, 1]\n",
    "    \n",
    "    #sigma_clip = sigma + C1\n",
    "    sigma_clip = tf.maximum(sigma, C1)\n",
    "    delta = tf.abs(y_true[:, 0] - fvc_pred)\n",
    "    delta = tf.minimum(delta, C2)\n",
    "    sq2 = tf.sqrt( tf.dtypes.cast(2, dtype=tf.float32) )\n",
    "    metric = (delta / sigma_clip)*sq2 + tf.math.log(sigma_clip* sq2)\n",
    "    return K.mean(metric)\n",
    "\n",
    "def qloss(y_true, y_pred):\n",
    "    # Pinball loss for multiple quantiles\n",
    "    qs = [0.2, 0.50, 0.8]\n",
    "    q = tf.constant(np.array([qs]), dtype=tf.float32)\n",
    "    e = y_true - y_pred\n",
    "    v = tf.maximum(q*e, (q-1)*e)\n",
    "    return K.mean(v)\n",
    "def new_asy_qloss(y_true,y_pred):\n",
    "    qs = [0.2, 0.50, 0.8]\n",
    "    q = tf.constant(np.array([qs]), dtype=tf.float32)\n",
    "    e = y_true - y_pred\n",
    "    epsilon = 0.8\n",
    "  \n",
    "    v = tf.maximum( -(1-q)*(e+q*epsilon), q*(e-(1-q)*epsilon))\n",
    "    v1 = tf.maximum(v,0.0)\n",
    "    return K.mean(v1)\n",
    "\n",
    "def mloss(_lambda):\n",
    "    def loss(y_true, y_pred):\n",
    "        return _lambda * new_asy_qloss(y_true, y_pred) + (1 - _lambda)*score(y_true, y_pred)\n",
    "    return loss\n",
    "\n",
    "def make_model(nh):\n",
    "    z = L.Input((nh,), name=\"Patient\")\n",
    "    x = L.Dense(100, activation=\"relu\", name=\"d1\")(z)\n",
    "    x = L.Dense(100, activation=\"relu\", name=\"d2\")(x)\n",
    "    p1 = L.Dense(3, activation=\"linear\", name=\"p1\")(x)\n",
    "    p2 = L.Dense(3, activation=\"relu\", name=\"p2\")(x)\n",
    "    preds = L.Lambda(lambda x: x[0] + tf.cumsum(x[1], axis=1), \n",
    "                     name=\"preds\")([p1, p2])\n",
    "    \n",
    "    model = M.Model(z, preds, name=\"CNN\")\n",
    "    model.compile(loss=mloss(0.65), optimizer=tf.keras.optimizers.Adam(lr=0.1, beta_1=0.9, beta_2=0.999, epsilon=None, decay=0.01, amsgrad=False), metrics=[score])\n",
    "    return model"
   ]
  },
  {
   "cell_type": "code",
   "execution_count": 34,
   "metadata": {
    "execution": {
     "iopub.execute_input": "2020-10-06T15:34:10.302967Z",
     "iopub.status.busy": "2020-10-06T15:34:10.300397Z",
     "iopub.status.idle": "2020-10-06T15:34:10.305916Z",
     "shell.execute_reply": "2020-10-06T15:34:10.305351Z"
    },
    "papermill": {
     "duration": 0.088849,
     "end_time": "2020-10-06T15:34:10.306025",
     "exception": false,
     "start_time": "2020-10-06T15:34:10.217176",
     "status": "completed"
    },
    "tags": []
   },
   "outputs": [],
   "source": [
    "y = tr['FVC'].values\n",
    "z = tr[FE].values\n",
    "ze = sub[FE].values\n",
    "nh = z.shape[1]\n",
    "pe = np.zeros((ze.shape[0], 3))\n",
    "pred = np.zeros((z.shape[0], 3))"
   ]
  },
  {
   "cell_type": "code",
   "execution_count": 35,
   "metadata": {
    "execution": {
     "iopub.execute_input": "2020-10-06T15:34:10.462779Z",
     "iopub.status.busy": "2020-10-06T15:34:10.461891Z",
     "iopub.status.idle": "2020-10-06T15:34:10.532901Z",
     "shell.execute_reply": "2020-10-06T15:34:10.532334Z"
    },
    "papermill": {
     "duration": 0.151377,
     "end_time": "2020-10-06T15:34:10.533002",
     "exception": false,
     "start_time": "2020-10-06T15:34:10.381625",
     "status": "completed"
    },
    "tags": []
   },
   "outputs": [
    {
     "name": "stdout",
     "output_type": "stream",
     "text": [
      "Model: \"CNN\"\n",
      "__________________________________________________________________________________________________\n",
      "Layer (type)                    Output Shape         Param #     Connected to                     \n",
      "==================================================================================================\n",
      "Patient (InputLayer)            [(None, 9)]          0                                            \n",
      "__________________________________________________________________________________________________\n",
      "d1 (Dense)                      (None, 100)          1000        Patient[0][0]                    \n",
      "__________________________________________________________________________________________________\n",
      "d2 (Dense)                      (None, 100)          10100       d1[0][0]                         \n",
      "__________________________________________________________________________________________________\n",
      "p1 (Dense)                      (None, 3)            303         d2[0][0]                         \n",
      "__________________________________________________________________________________________________\n",
      "p2 (Dense)                      (None, 3)            303         d2[0][0]                         \n",
      "__________________________________________________________________________________________________\n",
      "preds (Lambda)                  (None, 3)            0           p1[0][0]                         \n",
      "                                                                 p2[0][0]                         \n",
      "==================================================================================================\n",
      "Total params: 11,706\n",
      "Trainable params: 11,706\n",
      "Non-trainable params: 0\n",
      "__________________________________________________________________________________________________\n",
      "None\n",
      "11706\n"
     ]
    }
   ],
   "source": [
    "net = make_model(nh)\n",
    "print(net.summary())\n",
    "print(net.count_params())"
   ]
  },
  {
   "cell_type": "code",
   "execution_count": 36,
   "metadata": {
    "execution": {
     "iopub.execute_input": "2020-10-06T15:34:10.689165Z",
     "iopub.status.busy": "2020-10-06T15:34:10.688277Z",
     "iopub.status.idle": "2020-10-06T15:34:10.691634Z",
     "shell.execute_reply": "2020-10-06T15:34:10.691139Z"
    },
    "papermill": {
     "duration": 0.087233,
     "end_time": "2020-10-06T15:34:10.691756",
     "exception": false,
     "start_time": "2020-10-06T15:34:10.604523",
     "status": "completed"
    },
    "tags": []
   },
   "outputs": [],
   "source": [
    "NFOLD = 10 # originally 5\n",
    "kf = KFold(n_splits=NFOLD)"
   ]
  },
  {
   "cell_type": "code",
   "execution_count": 37,
   "metadata": {
    "execution": {
     "iopub.execute_input": "2020-10-06T15:34:10.853162Z",
     "iopub.status.busy": "2020-10-06T15:34:10.852275Z",
     "iopub.status.idle": "2020-10-06T15:42:20.563670Z",
     "shell.execute_reply": "2020-10-06T15:42:20.564223Z"
    },
    "papermill": {
     "duration": 489.794617,
     "end_time": "2020-10-06T15:42:20.564387",
     "exception": false,
     "start_time": "2020-10-06T15:34:10.769770",
     "status": "completed"
    },
    "tags": []
   },
   "outputs": [
    {
     "name": "stdout",
     "output_type": "stream",
     "text": [
      "FOLD 1\n",
      "train [32.79851531982422, 6.466818332672119]\n",
      "val [40.339908599853516, 6.6435394287109375]\n",
      "predict val...\n",
      "predict test...\n",
      "FOLD 2\n",
      "train [32.16485595703125, 6.4603495597839355]\n",
      "val [39.30967330932617, 6.726011276245117]\n",
      "predict val...\n",
      "predict test...\n",
      "FOLD 3\n",
      "train [34.13157272338867, 6.517062187194824]\n",
      "val [40.36484909057617, 6.668117523193359]\n",
      "predict val...\n",
      "predict test...\n",
      "FOLD 4\n",
      "train [34.98910903930664, 6.526129245758057]\n",
      "val [32.661888122558594, 6.51960563659668]\n",
      "predict val...\n",
      "predict test...\n",
      "FOLD 5\n",
      "train [32.3819580078125, 6.4460062980651855]\n",
      "val [47.875946044921875, 6.854011535644531]\n",
      "predict val...\n",
      "predict test...\n",
      "FOLD 6\n",
      "train [33.815040588378906, 6.487556457519531]\n",
      "val [41.134822845458984, 6.567305564880371]\n",
      "predict val...\n",
      "predict test...\n",
      "FOLD 7\n",
      "train [33.73027801513672, 6.501952648162842]\n",
      "val [31.9573974609375, 6.583372116088867]\n",
      "predict val...\n",
      "predict test...\n",
      "FOLD 8\n",
      "train [34.710906982421875, 6.5293121337890625]\n",
      "val [34.428585052490234, 6.520720958709717]\n",
      "predict val...\n",
      "predict test...\n",
      "FOLD 9\n",
      "train [34.87773513793945, 6.527076721191406]\n",
      "val [39.21043395996094, 6.6579084396362305]\n",
      "predict val...\n",
      "predict test...\n",
      "FOLD 10\n",
      "train [31.98723030090332, 6.433413505554199]\n",
      "val [44.39876174926758, 6.941710472106934]\n",
      "predict val...\n",
      "predict test...\n",
      "CPU times: user 9min 6s, sys: 33.9 s, total: 9min 40s\n",
      "Wall time: 8min 9s\n"
     ]
    }
   ],
   "source": [
    "%%time\n",
    "cnt = 0\n",
    "EPOCHS = 855\n",
    "for tr_idx, val_idx in kf.split(z):\n",
    "    cnt += 1\n",
    "    print(f\"FOLD {cnt}\")\n",
    "    net = make_model(nh)\n",
    "    net.fit(z[tr_idx], y[tr_idx], batch_size=BATCH_SIZE, epochs=EPOCHS, \n",
    "            validation_data=(z[val_idx], y[val_idx]), verbose=0) #\n",
    "    print(\"train\", net.evaluate(z[tr_idx], y[tr_idx], verbose=0, batch_size=BATCH_SIZE))\n",
    "    print(\"val\", net.evaluate(z[val_idx], y[val_idx], verbose=0, batch_size=BATCH_SIZE))\n",
    "    print(\"predict val...\")\n",
    "    pred[val_idx] = net.predict(z[val_idx], batch_size=BATCH_SIZE, verbose=0)\n",
    "    print(\"predict test...\")\n",
    "    pe += net.predict(ze, batch_size=BATCH_SIZE, verbose=0) / NFOLD"
   ]
  },
  {
   "cell_type": "code",
   "execution_count": 38,
   "metadata": {
    "execution": {
     "iopub.execute_input": "2020-10-06T15:42:20.723950Z",
     "iopub.status.busy": "2020-10-06T15:42:20.722092Z",
     "iopub.status.idle": "2020-10-06T15:42:20.726885Z",
     "shell.execute_reply": "2020-10-06T15:42:20.726299Z"
    },
    "papermill": {
     "duration": 0.086709,
     "end_time": "2020-10-06T15:42:20.727014",
     "exception": false,
     "start_time": "2020-10-06T15:42:20.640305",
     "status": "completed"
    },
    "tags": []
   },
   "outputs": [
    {
     "name": "stdout",
     "output_type": "stream",
     "text": [
      "137.82310794991858 236.1353344647038\n"
     ]
    }
   ],
   "source": [
    "sigma_opt = mean_absolute_error(y, pred[:, 1])\n",
    "unc = pred[:,2] - pred[:, 0]\n",
    "sigma_mean = np.mean(unc)\n",
    "print(sigma_opt, sigma_mean)"
   ]
  },
  {
   "cell_type": "code",
   "execution_count": 39,
   "metadata": {
    "execution": {
     "iopub.execute_input": "2020-10-06T15:42:20.905540Z",
     "iopub.status.busy": "2020-10-06T15:42:20.904887Z",
     "iopub.status.idle": "2020-10-06T15:42:21.363377Z",
     "shell.execute_reply": "2020-10-06T15:42:21.364176Z"
    },
    "papermill": {
     "duration": 0.550745,
     "end_time": "2020-10-06T15:42:21.364371",
     "exception": false,
     "start_time": "2020-10-06T15:42:20.813626",
     "status": "completed"
    },
    "tags": []
   },
   "outputs": [
    {
     "data": {
      "image/png": "[encoded data removed]",
      "text/plain": [
       "<Figure size 1440x720 with 1 Axes>"
      ]
     },
     "metadata": {
      "needs_background": "light"
     },
     "output_type": "display_data"
    }
   ],
   "source": [
    "idxs = np.random.randint(0, y.shape[0], 100)\n",
    "plt.figure(figsize = (20,10))\n",
    "plt.plot(y[idxs], label=\"ground truth\")\n",
    "plt.plot(pred[idxs, 0], label=\"q25\")\n",
    "plt.plot(pred[idxs, 1], label=\"q50\")\n",
    "plt.plot(pred[idxs, 2], label=\"q75\")\n",
    "plt.legend(loc=\"best\")\n",
    "plt.show()"
   ]
  },
  {
   "cell_type": "code",
   "execution_count": 40,
   "metadata": {
    "execution": {
     "iopub.execute_input": "2020-10-06T15:42:21.611779Z",
     "iopub.status.busy": "2020-10-06T15:42:21.609197Z",
     "iopub.status.idle": "2020-10-06T15:42:21.614269Z",
     "shell.execute_reply": "2020-10-06T15:42:21.613703Z"
    },
    "papermill": {
     "duration": 0.116615,
     "end_time": "2020-10-06T15:42:21.614372",
     "exception": false,
     "start_time": "2020-10-06T15:42:21.497757",
     "status": "completed"
    },
    "tags": []
   },
   "outputs": [
    {
     "name": "stdout",
     "output_type": "stream",
     "text": [
      "61.09326171875 236.1353344647038 460.164794921875 1.0\n"
     ]
    }
   ],
   "source": [
    "print(unc.min(), unc.mean(), unc.max(), (unc>=0).mean())"
   ]
  },
  {
   "cell_type": "code",
   "execution_count": 41,
   "metadata": {
    "execution": {
     "iopub.execute_input": "2020-10-06T15:42:21.786787Z",
     "iopub.status.busy": "2020-10-06T15:42:21.783674Z",
     "iopub.status.idle": "2020-10-06T15:42:21.965646Z",
     "shell.execute_reply": "2020-10-06T15:42:21.966177Z"
    },
    "papermill": {
     "duration": 0.271712,
     "end_time": "2020-10-06T15:42:21.966349",
     "exception": false,
     "start_time": "2020-10-06T15:42:21.694637",
     "status": "completed"
    },
    "tags": []
   },
   "outputs": [
    {
     "data": {
      "image/png": "[encoded data removed]",
      "text/plain": [
       "<Figure size 432x288 with 1 Axes>"
      ]
     },
     "metadata": {
      "needs_background": "light"
     },
     "output_type": "display_data"
    }
   ],
   "source": [
    "plt.hist(unc)\n",
    "plt.title(\"uncertainty in prediction\")\n",
    "plt.show()"
   ]
  },
  {
   "cell_type": "code",
   "execution_count": 42,
   "metadata": {
    "execution": {
     "iopub.execute_input": "2020-10-06T15:42:22.170315Z",
     "iopub.status.busy": "2020-10-06T15:42:22.168756Z",
     "iopub.status.idle": "2020-10-06T15:42:22.174880Z",
     "shell.execute_reply": "2020-10-06T15:42:22.174320Z"
    },
    "papermill": {
     "duration": 0.1194,
     "end_time": "2020-10-06T15:42:22.174987",
     "exception": false,
     "start_time": "2020-10-06T15:42:22.055587",
     "status": "completed"
    },
    "tags": []
   },
   "outputs": [
    {
     "data": {
      "text/html": [
       "<div>\n",
       "<style scoped>\n",
       "    .dataframe tbody tr th:only-of-type {\n",
       "        vertical-align: middle;\n",
       "    }\n",
       "\n",
       "    .dataframe tbody tr th {\n",
       "        vertical-align: top;\n",
       "    }\n",
       "\n",
       "    .dataframe thead th {\n",
       "        text-align: right;\n",
       "    }\n",
       "</style>\n",
       "<table border=\"1\" class=\"dataframe\">\n",
       "  <thead>\n",
       "    <tr style=\"text-align: right;\">\n",
       "      <th></th>\n",
       "      <th>Patient</th>\n",
       "      <th>Weeks</th>\n",
       "      <th>FVC</th>\n",
       "      <th>Percent</th>\n",
       "      <th>Age</th>\n",
       "      <th>Sex</th>\n",
       "      <th>SmokingStatus</th>\n",
       "      <th>WHERE</th>\n",
       "      <th>Confidence</th>\n",
       "      <th>Patient_Week</th>\n",
       "      <th>...</th>\n",
       "      <th>base_week</th>\n",
       "      <th>Male</th>\n",
       "      <th>Female</th>\n",
       "      <th>Ex-smoker</th>\n",
       "      <th>Never smoked</th>\n",
       "      <th>Currently smokes</th>\n",
       "      <th>age</th>\n",
       "      <th>BASE</th>\n",
       "      <th>week</th>\n",
       "      <th>percent</th>\n",
       "    </tr>\n",
       "  </thead>\n",
       "  <tbody>\n",
       "    <tr>\n",
       "      <th>1540</th>\n",
       "      <td>ID00419637202311204720264</td>\n",
       "      <td>-12</td>\n",
       "      <td>3020</td>\n",
       "      <td>70.186855</td>\n",
       "      <td>73</td>\n",
       "      <td>Male</td>\n",
       "      <td>Ex-smoker</td>\n",
       "      <td>test</td>\n",
       "      <td>100.0</td>\n",
       "      <td>ID00419637202311204720264_-12</td>\n",
       "      <td>...</td>\n",
       "      <td>-18.0</td>\n",
       "      <td>1</td>\n",
       "      <td>0</td>\n",
       "      <td>1</td>\n",
       "      <td>0</td>\n",
       "      <td>0</td>\n",
       "      <td>0.615385</td>\n",
       "      <td>0.3724</td>\n",
       "      <td>0.067901</td>\n",
       "      <td>0.332421</td>\n",
       "    </tr>\n",
       "    <tr>\n",
       "      <th>1541</th>\n",
       "      <td>ID00419637202311204720264</td>\n",
       "      <td>-11</td>\n",
       "      <td>3020</td>\n",
       "      <td>70.186855</td>\n",
       "      <td>73</td>\n",
       "      <td>Male</td>\n",
       "      <td>Ex-smoker</td>\n",
       "      <td>test</td>\n",
       "      <td>100.0</td>\n",
       "      <td>ID00419637202311204720264_-11</td>\n",
       "      <td>...</td>\n",
       "      <td>-17.0</td>\n",
       "      <td>1</td>\n",
       "      <td>0</td>\n",
       "      <td>1</td>\n",
       "      <td>0</td>\n",
       "      <td>0</td>\n",
       "      <td>0.615385</td>\n",
       "      <td>0.3724</td>\n",
       "      <td>0.074074</td>\n",
       "      <td>0.332421</td>\n",
       "    </tr>\n",
       "    <tr>\n",
       "      <th>1542</th>\n",
       "      <td>ID00419637202311204720264</td>\n",
       "      <td>-10</td>\n",
       "      <td>3020</td>\n",
       "      <td>70.186855</td>\n",
       "      <td>73</td>\n",
       "      <td>Male</td>\n",
       "      <td>Ex-smoker</td>\n",
       "      <td>test</td>\n",
       "      <td>100.0</td>\n",
       "      <td>ID00419637202311204720264_-10</td>\n",
       "      <td>...</td>\n",
       "      <td>-16.0</td>\n",
       "      <td>1</td>\n",
       "      <td>0</td>\n",
       "      <td>1</td>\n",
       "      <td>0</td>\n",
       "      <td>0</td>\n",
       "      <td>0.615385</td>\n",
       "      <td>0.3724</td>\n",
       "      <td>0.080247</td>\n",
       "      <td>0.332421</td>\n",
       "    </tr>\n",
       "    <tr>\n",
       "      <th>1543</th>\n",
       "      <td>ID00419637202311204720264</td>\n",
       "      <td>-9</td>\n",
       "      <td>3020</td>\n",
       "      <td>70.186855</td>\n",
       "      <td>73</td>\n",
       "      <td>Male</td>\n",
       "      <td>Ex-smoker</td>\n",
       "      <td>test</td>\n",
       "      <td>100.0</td>\n",
       "      <td>ID00419637202311204720264_-9</td>\n",
       "      <td>...</td>\n",
       "      <td>-15.0</td>\n",
       "      <td>1</td>\n",
       "      <td>0</td>\n",
       "      <td>1</td>\n",
       "      <td>0</td>\n",
       "      <td>0</td>\n",
       "      <td>0.615385</td>\n",
       "      <td>0.3724</td>\n",
       "      <td>0.086420</td>\n",
       "      <td>0.332421</td>\n",
       "    </tr>\n",
       "    <tr>\n",
       "      <th>1544</th>\n",
       "      <td>ID00419637202311204720264</td>\n",
       "      <td>-8</td>\n",
       "      <td>3020</td>\n",
       "      <td>70.186855</td>\n",
       "      <td>73</td>\n",
       "      <td>Male</td>\n",
       "      <td>Ex-smoker</td>\n",
       "      <td>test</td>\n",
       "      <td>100.0</td>\n",
       "      <td>ID00419637202311204720264_-8</td>\n",
       "      <td>...</td>\n",
       "      <td>-14.0</td>\n",
       "      <td>1</td>\n",
       "      <td>0</td>\n",
       "      <td>1</td>\n",
       "      <td>0</td>\n",
       "      <td>0</td>\n",
       "      <td>0.615385</td>\n",
       "      <td>0.3724</td>\n",
       "      <td>0.092593</td>\n",
       "      <td>0.332421</td>\n",
       "    </tr>\n",
       "  </tbody>\n",
       "</table>\n",
       "<p>5 rows × 22 columns</p>\n",
       "</div>"
      ],
      "text/plain": [
       "                        Patient  Weeks   FVC    Percent  Age   Sex  \\\n",
       "1540  ID00419637202311204720264    -12  3020  70.186855   73  Male   \n",
       "1541  ID00419637202311204720264    -11  3020  70.186855   73  Male   \n",
       "1542  ID00419637202311204720264    -10  3020  70.186855   73  Male   \n",
       "1543  ID00419637202311204720264     -9  3020  70.186855   73  Male   \n",
       "1544  ID00419637202311204720264     -8  3020  70.186855   73  Male   \n",
       "\n",
       "     SmokingStatus WHERE  Confidence                   Patient_Week  ...  \\\n",
       "1540     Ex-smoker  test       100.0  ID00419637202311204720264_-12  ...   \n",
       "1541     Ex-smoker  test       100.0  ID00419637202311204720264_-11  ...   \n",
       "1542     Ex-smoker  test       100.0  ID00419637202311204720264_-10  ...   \n",
       "1543     Ex-smoker  test       100.0   ID00419637202311204720264_-9  ...   \n",
       "1544     Ex-smoker  test       100.0   ID00419637202311204720264_-8  ...   \n",
       "\n",
       "      base_week  Male  Female  Ex-smoker  Never smoked  Currently smokes  \\\n",
       "1540      -18.0     1       0          1             0                 0   \n",
       "1541      -17.0     1       0          1             0                 0   \n",
       "1542      -16.0     1       0          1             0                 0   \n",
       "1543      -15.0     1       0          1             0                 0   \n",
       "1544      -14.0     1       0          1             0                 0   \n",
       "\n",
       "           age    BASE      week   percent  \n",
       "1540  0.615385  0.3724  0.067901  0.332421  \n",
       "1541  0.615385  0.3724  0.074074  0.332421  \n",
       "1542  0.615385  0.3724  0.080247  0.332421  \n",
       "1543  0.615385  0.3724  0.086420  0.332421  \n",
       "1544  0.615385  0.3724  0.092593  0.332421  \n",
       "\n",
       "[5 rows x 22 columns]"
      ]
     },
     "execution_count": 42,
     "metadata": {},
     "output_type": "execute_result"
    }
   ],
   "source": [
    "sub.head()"
   ]
  },
  {
   "cell_type": "code",
   "execution_count": 43,
   "metadata": {
    "execution": {
     "iopub.execute_input": "2020-10-06T15:42:22.356363Z",
     "iopub.status.busy": "2020-10-06T15:42:22.355552Z",
     "iopub.status.idle": "2020-10-06T15:42:22.370151Z",
     "shell.execute_reply": "2020-10-06T15:42:22.370675Z"
    },
    "papermill": {
     "duration": 0.108685,
     "end_time": "2020-10-06T15:42:22.370803",
     "exception": false,
     "start_time": "2020-10-06T15:42:22.262118",
     "status": "completed"
    },
    "tags": []
   },
   "outputs": [
    {
     "data": {
      "text/html": [
       "<div>\n",
       "<style scoped>\n",
       "    .dataframe tbody tr th:only-of-type {\n",
       "        vertical-align: middle;\n",
       "    }\n",
       "\n",
       "    .dataframe tbody tr th {\n",
       "        vertical-align: top;\n",
       "    }\n",
       "\n",
       "    .dataframe thead th {\n",
       "        text-align: right;\n",
       "    }\n",
       "</style>\n",
       "<table border=\"1\" class=\"dataframe\">\n",
       "  <thead>\n",
       "    <tr style=\"text-align: right;\">\n",
       "      <th></th>\n",
       "      <th>Patient_Week</th>\n",
       "      <th>FVC</th>\n",
       "      <th>Confidence</th>\n",
       "      <th>FVC1</th>\n",
       "      <th>Confidence1</th>\n",
       "    </tr>\n",
       "  </thead>\n",
       "  <tbody>\n",
       "    <tr>\n",
       "      <th>1540</th>\n",
       "      <td>ID00419637202311204720264_-12</td>\n",
       "      <td>3020</td>\n",
       "      <td>100.0</td>\n",
       "      <td>2872.916870</td>\n",
       "      <td>231.260742</td>\n",
       "    </tr>\n",
       "    <tr>\n",
       "      <th>1541</th>\n",
       "      <td>ID00419637202311204720264_-11</td>\n",
       "      <td>3020</td>\n",
       "      <td>100.0</td>\n",
       "      <td>2870.713989</td>\n",
       "      <td>232.832947</td>\n",
       "    </tr>\n",
       "    <tr>\n",
       "      <th>1542</th>\n",
       "      <td>ID00419637202311204720264_-10</td>\n",
       "      <td>3020</td>\n",
       "      <td>100.0</td>\n",
       "      <td>2868.348083</td>\n",
       "      <td>234.425446</td>\n",
       "    </tr>\n",
       "    <tr>\n",
       "      <th>1543</th>\n",
       "      <td>ID00419637202311204720264_-9</td>\n",
       "      <td>3020</td>\n",
       "      <td>100.0</td>\n",
       "      <td>2865.982239</td>\n",
       "      <td>236.017792</td>\n",
       "    </tr>\n",
       "    <tr>\n",
       "      <th>1544</th>\n",
       "      <td>ID00419637202311204720264_-8</td>\n",
       "      <td>3020</td>\n",
       "      <td>100.0</td>\n",
       "      <td>2863.616364</td>\n",
       "      <td>237.610352</td>\n",
       "    </tr>\n",
       "    <tr>\n",
       "      <th>1545</th>\n",
       "      <td>ID00419637202311204720264_-7</td>\n",
       "      <td>3020</td>\n",
       "      <td>100.0</td>\n",
       "      <td>2861.250580</td>\n",
       "      <td>239.202820</td>\n",
       "    </tr>\n",
       "    <tr>\n",
       "      <th>1546</th>\n",
       "      <td>ID00419637202311204720264_-6</td>\n",
       "      <td>3020</td>\n",
       "      <td>100.0</td>\n",
       "      <td>2858.884827</td>\n",
       "      <td>240.795319</td>\n",
       "    </tr>\n",
       "    <tr>\n",
       "      <th>1547</th>\n",
       "      <td>ID00419637202311204720264_-5</td>\n",
       "      <td>3020</td>\n",
       "      <td>100.0</td>\n",
       "      <td>2856.518890</td>\n",
       "      <td>242.387604</td>\n",
       "    </tr>\n",
       "    <tr>\n",
       "      <th>1548</th>\n",
       "      <td>ID00419637202311204720264_-4</td>\n",
       "      <td>3020</td>\n",
       "      <td>100.0</td>\n",
       "      <td>2854.175110</td>\n",
       "      <td>243.978333</td>\n",
       "    </tr>\n",
       "    <tr>\n",
       "      <th>1549</th>\n",
       "      <td>ID00419637202311204720264_-3</td>\n",
       "      <td>3020</td>\n",
       "      <td>100.0</td>\n",
       "      <td>2851.842346</td>\n",
       "      <td>245.567932</td>\n",
       "    </tr>\n",
       "  </tbody>\n",
       "</table>\n",
       "</div>"
      ],
      "text/plain": [
       "                       Patient_Week   FVC  Confidence         FVC1  \\\n",
       "1540  ID00419637202311204720264_-12  3020       100.0  2872.916870   \n",
       "1541  ID00419637202311204720264_-11  3020       100.0  2870.713989   \n",
       "1542  ID00419637202311204720264_-10  3020       100.0  2868.348083   \n",
       "1543   ID00419637202311204720264_-9  3020       100.0  2865.982239   \n",
       "1544   ID00419637202311204720264_-8  3020       100.0  2863.616364   \n",
       "1545   ID00419637202311204720264_-7  3020       100.0  2861.250580   \n",
       "1546   ID00419637202311204720264_-6  3020       100.0  2858.884827   \n",
       "1547   ID00419637202311204720264_-5  3020       100.0  2856.518890   \n",
       "1548   ID00419637202311204720264_-4  3020       100.0  2854.175110   \n",
       "1549   ID00419637202311204720264_-3  3020       100.0  2851.842346   \n",
       "\n",
       "      Confidence1  \n",
       "1540   231.260742  \n",
       "1541   232.832947  \n",
       "1542   234.425446  \n",
       "1543   236.017792  \n",
       "1544   237.610352  \n",
       "1545   239.202820  \n",
       "1546   240.795319  \n",
       "1547   242.387604  \n",
       "1548   243.978333  \n",
       "1549   245.567932  "
      ]
     },
     "execution_count": 43,
     "metadata": {},
     "output_type": "execute_result"
    }
   ],
   "source": [
    "# PREDICTION\n",
    "sub['FVC1'] = 1.*pe[:, 1]\n",
    "sub['Confidence1'] = pe[:, 2] - pe[:, 0]\n",
    "subm = sub[['Patient_Week','FVC','Confidence','FVC1','Confidence1']].copy()\n",
    "subm.loc[~subm.FVC1.isnull()].head(10)"
   ]
  },
  {
   "cell_type": "code",
   "execution_count": 44,
   "metadata": {
    "execution": {
     "iopub.execute_input": "2020-10-06T15:42:22.558541Z",
     "iopub.status.busy": "2020-10-06T15:42:22.554963Z",
     "iopub.status.idle": "2020-10-06T15:42:22.562980Z",
     "shell.execute_reply": "2020-10-06T15:42:22.562476Z"
    },
    "papermill": {
     "duration": 0.104196,
     "end_time": "2020-10-06T15:42:22.563086",
     "exception": false,
     "start_time": "2020-10-06T15:42:22.458890",
     "status": "completed"
    },
    "tags": []
   },
   "outputs": [],
   "source": [
    "subm.loc[~subm.FVC1.isnull(),'FVC'] = subm.loc[~subm.FVC1.isnull(),'FVC1']\n",
    "if sigma_mean<70:\n",
    "    subm['Confidence'] = sigma_opt\n",
    "else:\n",
    "    subm.loc[~subm.FVC1.isnull(),'Confidence'] = subm.loc[~subm.FVC1.isnull(),'Confidence1']"
   ]
  },
  {
   "cell_type": "code",
   "execution_count": 45,
   "metadata": {
    "execution": {
     "iopub.execute_input": "2020-10-06T15:42:22.751158Z",
     "iopub.status.busy": "2020-10-06T15:42:22.750396Z",
     "iopub.status.idle": "2020-10-06T15:42:22.757299Z",
     "shell.execute_reply": "2020-10-06T15:42:22.756656Z"
    },
    "papermill": {
     "duration": 0.104645,
     "end_time": "2020-10-06T15:42:22.757423",
     "exception": false,
     "start_time": "2020-10-06T15:42:22.652778",
     "status": "completed"
    },
    "tags": []
   },
   "outputs": [
    {
     "data": {
      "text/html": [
       "<div>\n",
       "<style scoped>\n",
       "    .dataframe tbody tr th:only-of-type {\n",
       "        vertical-align: middle;\n",
       "    }\n",
       "\n",
       "    .dataframe tbody tr th {\n",
       "        vertical-align: top;\n",
       "    }\n",
       "\n",
       "    .dataframe thead th {\n",
       "        text-align: right;\n",
       "    }\n",
       "</style>\n",
       "<table border=\"1\" class=\"dataframe\">\n",
       "  <thead>\n",
       "    <tr style=\"text-align: right;\">\n",
       "      <th></th>\n",
       "      <th>Patient_Week</th>\n",
       "      <th>FVC</th>\n",
       "      <th>Confidence</th>\n",
       "      <th>FVC1</th>\n",
       "      <th>Confidence1</th>\n",
       "    </tr>\n",
       "  </thead>\n",
       "  <tbody>\n",
       "    <tr>\n",
       "      <th>1540</th>\n",
       "      <td>ID00419637202311204720264_-12</td>\n",
       "      <td>2872.916870</td>\n",
       "      <td>231.260742</td>\n",
       "      <td>2872.916870</td>\n",
       "      <td>231.260742</td>\n",
       "    </tr>\n",
       "    <tr>\n",
       "      <th>1541</th>\n",
       "      <td>ID00419637202311204720264_-11</td>\n",
       "      <td>2870.713989</td>\n",
       "      <td>232.832947</td>\n",
       "      <td>2870.713989</td>\n",
       "      <td>232.832947</td>\n",
       "    </tr>\n",
       "    <tr>\n",
       "      <th>1542</th>\n",
       "      <td>ID00419637202311204720264_-10</td>\n",
       "      <td>2868.348083</td>\n",
       "      <td>234.425446</td>\n",
       "      <td>2868.348083</td>\n",
       "      <td>234.425446</td>\n",
       "    </tr>\n",
       "    <tr>\n",
       "      <th>1543</th>\n",
       "      <td>ID00419637202311204720264_-9</td>\n",
       "      <td>2865.982239</td>\n",
       "      <td>236.017792</td>\n",
       "      <td>2865.982239</td>\n",
       "      <td>236.017792</td>\n",
       "    </tr>\n",
       "    <tr>\n",
       "      <th>1544</th>\n",
       "      <td>ID00419637202311204720264_-8</td>\n",
       "      <td>2863.616364</td>\n",
       "      <td>237.610352</td>\n",
       "      <td>2863.616364</td>\n",
       "      <td>237.610352</td>\n",
       "    </tr>\n",
       "  </tbody>\n",
       "</table>\n",
       "</div>"
      ],
      "text/plain": [
       "                       Patient_Week          FVC  Confidence         FVC1  \\\n",
       "1540  ID00419637202311204720264_-12  2872.916870  231.260742  2872.916870   \n",
       "1541  ID00419637202311204720264_-11  2870.713989  232.832947  2870.713989   \n",
       "1542  ID00419637202311204720264_-10  2868.348083  234.425446  2868.348083   \n",
       "1543   ID00419637202311204720264_-9  2865.982239  236.017792  2865.982239   \n",
       "1544   ID00419637202311204720264_-8  2863.616364  237.610352  2863.616364   \n",
       "\n",
       "      Confidence1  \n",
       "1540   231.260742  \n",
       "1541   232.832947  \n",
       "1542   234.425446  \n",
       "1543   236.017792  \n",
       "1544   237.610352  "
      ]
     },
     "execution_count": 45,
     "metadata": {},
     "output_type": "execute_result"
    }
   ],
   "source": [
    "subm.head()"
   ]
  },
  {
   "cell_type": "code",
   "execution_count": 46,
   "metadata": {
    "execution": {
     "iopub.execute_input": "2020-10-06T15:42:22.949469Z",
     "iopub.status.busy": "2020-10-06T15:42:22.948656Z",
     "iopub.status.idle": "2020-10-06T15:42:22.973757Z",
     "shell.execute_reply": "2020-10-06T15:42:22.973099Z"
    },
    "papermill": {
     "duration": 0.121637,
     "end_time": "2020-10-06T15:42:22.973891",
     "exception": false,
     "start_time": "2020-10-06T15:42:22.852254",
     "status": "completed"
    },
    "tags": []
   },
   "outputs": [
    {
     "data": {
      "text/html": [
       "<div>\n",
       "<style scoped>\n",
       "    .dataframe tbody tr th:only-of-type {\n",
       "        vertical-align: middle;\n",
       "    }\n",
       "\n",
       "    .dataframe tbody tr th {\n",
       "        vertical-align: top;\n",
       "    }\n",
       "\n",
       "    .dataframe thead th {\n",
       "        text-align: right;\n",
       "    }\n",
       "</style>\n",
       "<table border=\"1\" class=\"dataframe\">\n",
       "  <thead>\n",
       "    <tr style=\"text-align: right;\">\n",
       "      <th></th>\n",
       "      <th>count</th>\n",
       "      <th>mean</th>\n",
       "      <th>std</th>\n",
       "      <th>min</th>\n",
       "      <th>25%</th>\n",
       "      <th>50%</th>\n",
       "      <th>75%</th>\n",
       "      <th>max</th>\n",
       "    </tr>\n",
       "  </thead>\n",
       "  <tbody>\n",
       "    <tr>\n",
       "      <th>FVC</th>\n",
       "      <td>730.0</td>\n",
       "      <td>2644.070282</td>\n",
       "      <td>331.377393</td>\n",
       "      <td>1936.817291</td>\n",
       "      <td>2576.114719</td>\n",
       "      <td>2693.865570</td>\n",
       "      <td>2830.804199</td>\n",
       "      <td>3214.998627</td>\n",
       "    </tr>\n",
       "    <tr>\n",
       "      <th>Confidence</th>\n",
       "      <td>730.0</td>\n",
       "      <td>301.891939</td>\n",
       "      <td>62.777569</td>\n",
       "      <td>167.082336</td>\n",
       "      <td>252.008453</td>\n",
       "      <td>303.962288</td>\n",
       "      <td>355.561714</td>\n",
       "      <td>415.153015</td>\n",
       "    </tr>\n",
       "    <tr>\n",
       "      <th>FVC1</th>\n",
       "      <td>730.0</td>\n",
       "      <td>2644.070282</td>\n",
       "      <td>331.377393</td>\n",
       "      <td>1936.817291</td>\n",
       "      <td>2576.114719</td>\n",
       "      <td>2693.865570</td>\n",
       "      <td>2830.804199</td>\n",
       "      <td>3214.998627</td>\n",
       "    </tr>\n",
       "    <tr>\n",
       "      <th>Confidence1</th>\n",
       "      <td>730.0</td>\n",
       "      <td>301.891939</td>\n",
       "      <td>62.777569</td>\n",
       "      <td>167.082336</td>\n",
       "      <td>252.008453</td>\n",
       "      <td>303.962288</td>\n",
       "      <td>355.561714</td>\n",
       "      <td>415.153015</td>\n",
       "    </tr>\n",
       "  </tbody>\n",
       "</table>\n",
       "</div>"
      ],
      "text/plain": [
       "             count         mean         std          min          25%  \\\n",
       "FVC          730.0  2644.070282  331.377393  1936.817291  2576.114719   \n",
       "Confidence   730.0   301.891939   62.777569   167.082336   252.008453   \n",
       "FVC1         730.0  2644.070282  331.377393  1936.817291  2576.114719   \n",
       "Confidence1  730.0   301.891939   62.777569   167.082336   252.008453   \n",
       "\n",
       "                     50%          75%          max  \n",
       "FVC          2693.865570  2830.804199  3214.998627  \n",
       "Confidence    303.962288   355.561714   415.153015  \n",
       "FVC1         2693.865570  2830.804199  3214.998627  \n",
       "Confidence1   303.962288   355.561714   415.153015  "
      ]
     },
     "execution_count": 46,
     "metadata": {},
     "output_type": "execute_result"
    }
   ],
   "source": [
    "subm.describe().T"
   ]
  },
  {
   "cell_type": "code",
   "execution_count": 47,
   "metadata": {
    "execution": {
     "iopub.execute_input": "2020-10-06T15:42:23.184742Z",
     "iopub.status.busy": "2020-10-06T15:42:23.159006Z",
     "iopub.status.idle": "2020-10-06T15:42:23.187150Z",
     "shell.execute_reply": "2020-10-06T15:42:23.187619Z"
    },
    "papermill": {
     "duration": 0.124321,
     "end_time": "2020-10-06T15:42:23.187765",
     "exception": false,
     "start_time": "2020-10-06T15:42:23.063444",
     "status": "completed"
    },
    "tags": []
   },
   "outputs": [],
   "source": [
    "otest = pd.read_csv('../input/osic-pulmonary-fibrosis-progression/test.csv')\n",
    "for i in range(len(otest)):\n",
    "    subm.loc[subm['Patient_Week']==otest.Patient[i]+'_'+str(otest.Weeks[i]), 'FVC'] = otest.FVC[i]\n",
    "    subm.loc[subm['Patient_Week']==otest.Patient[i]+'_'+str(otest.Weeks[i]), 'Confidence'] = 0.1"
   ]
  },
  {
   "cell_type": "code",
   "execution_count": 48,
   "metadata": {
    "execution": {
     "iopub.execute_input": "2020-10-06T15:42:23.364982Z",
     "iopub.status.busy": "2020-10-06T15:42:23.362932Z",
     "iopub.status.idle": "2020-10-06T15:42:23.372280Z",
     "shell.execute_reply": "2020-10-06T15:42:23.371731Z"
    },
    "papermill": {
     "duration": 0.100111,
     "end_time": "2020-10-06T15:42:23.372380",
     "exception": false,
     "start_time": "2020-10-06T15:42:23.272269",
     "status": "completed"
    },
    "tags": []
   },
   "outputs": [],
   "source": [
    "subm[[\"Patient_Week\",\"FVC\",\"Confidence\"]].to_csv(\"submission_regression.csv\", index=False)"
   ]
  },
  {
   "cell_type": "code",
   "execution_count": 49,
   "metadata": {
    "execution": {
     "iopub.execute_input": "2020-10-06T15:42:23.549673Z",
     "iopub.status.busy": "2020-10-06T15:42:23.549068Z",
     "iopub.status.idle": "2020-10-06T15:42:23.552007Z",
     "shell.execute_reply": "2020-10-06T15:42:23.552482Z"
    },
    "papermill": {
     "duration": 0.091512,
     "end_time": "2020-10-06T15:42:23.552602",
     "exception": false,
     "start_time": "2020-10-06T15:42:23.461090",
     "status": "completed"
    },
    "tags": []
   },
   "outputs": [],
   "source": [
    "reg_sub = subm[[\"Patient_Week\",\"FVC\",\"Confidence\"]].copy()"
   ]
  },
  {
   "cell_type": "markdown",
   "metadata": {
    "papermill": {
     "duration": 0.083265,
     "end_time": "2020-10-06T15:42:23.719629",
     "exception": false,
     "start_time": "2020-10-06T15:42:23.636364",
     "status": "completed"
    },
    "tags": []
   },
   "source": [
    "## 4.4 Elastic Net"
   ]
  },
  {
   "cell_type": "code",
   "execution_count": 50,
   "metadata": {
    "execution": {
     "iopub.execute_input": "2020-10-06T15:42:23.893556Z",
     "iopub.status.busy": "2020-10-06T15:42:23.892778Z",
     "iopub.status.idle": "2020-10-06T15:42:24.221791Z",
     "shell.execute_reply": "2020-10-06T15:42:24.221232Z"
    },
    "papermill": {
     "duration": 0.419511,
     "end_time": "2020-10-06T15:42:24.221947",
     "exception": false,
     "start_time": "2020-10-06T15:42:23.802436",
     "status": "completed"
    },
    "tags": []
   },
   "outputs": [],
   "source": [
    "import os\n",
    "import numpy as np\n",
    "import pandas as pd\n",
    "import random\n",
    "import math\n",
    "\n",
    "from tqdm.notebook import tqdm\n",
    "\n",
    "import matplotlib.pyplot as plt\n",
    "import seaborn as sns\n",
    "\n",
    "from sklearn.model_selection import StratifiedKFold, GroupKFold, KFold\n",
    "from sklearn.metrics import mean_squared_error\n",
    "import category_encoders as ce\n",
    "\n",
    "from sklearn.linear_model import Ridge, ElasticNet\n",
    "from functools import partial\n",
    "import scipy as sp\n",
    "\n",
    "import warnings\n",
    "warnings.filterwarnings(\"ignore\")\n",
    "import seaborn as sns\n",
    "import matplotlib.pyplot as plt\n",
    "from plotly.subplots import make_subplots\n",
    "import plotly.express as px\n"
   ]
  },
  {
   "cell_type": "code",
   "execution_count": 51,
   "metadata": {
    "execution": {
     "iopub.execute_input": "2020-10-06T15:42:24.397379Z",
     "iopub.status.busy": "2020-10-06T15:42:24.395627Z",
     "iopub.status.idle": "2020-10-06T15:42:24.398145Z",
     "shell.execute_reply": "2020-10-06T15:42:24.398666Z"
    },
    "papermill": {
     "duration": 0.092417,
     "end_time": "2020-10-06T15:42:24.398786",
     "exception": false,
     "start_time": "2020-10-06T15:42:24.306369",
     "status": "completed"
    },
    "tags": []
   },
   "outputs": [],
   "source": [
    "def seed_everything(seed=2020):\n",
    "    random.seed(seed)\n",
    "    os.environ['PYTHONHASHSEED'] = str(seed)\n",
    "    np.random.seed(seed)"
   ]
  },
  {
   "cell_type": "code",
   "execution_count": 52,
   "metadata": {
    "execution": {
     "iopub.execute_input": "2020-10-06T15:42:24.571481Z",
     "iopub.status.busy": "2020-10-06T15:42:24.569711Z",
     "iopub.status.idle": "2020-10-06T15:42:24.572252Z",
     "shell.execute_reply": "2020-10-06T15:42:24.572723Z"
    },
    "papermill": {
     "duration": 0.091362,
     "end_time": "2020-10-06T15:42:24.572854",
     "exception": false,
     "start_time": "2020-10-06T15:42:24.481492",
     "status": "completed"
    },
    "tags": []
   },
   "outputs": [],
   "source": [
    "OUTPUT_DICT = './'\n",
    "\n",
    "ID = 'Patient_Week'\n",
    "TARGET = 'FVC'\n",
    "SEED = 42 \n",
    "seed_everything(seed=SEED)\n",
    "\n",
    "N_FOLD = 10"
   ]
  },
  {
   "cell_type": "code",
   "execution_count": 53,
   "metadata": {
    "execution": {
     "iopub.execute_input": "2020-10-06T15:42:24.752211Z",
     "iopub.status.busy": "2020-10-06T15:42:24.751415Z",
     "iopub.status.idle": "2020-10-06T15:42:24.761870Z",
     "shell.execute_reply": "2020-10-06T15:42:24.761329Z"
    },
    "papermill": {
     "duration": 0.105781,
     "end_time": "2020-10-06T15:42:24.761972",
     "exception": false,
     "start_time": "2020-10-06T15:42:24.656191",
     "status": "completed"
    },
    "tags": []
   },
   "outputs": [],
   "source": [
    "train = pd.read_csv('../input/osic-pulmonary-fibrosis-progression/train.csv')\n",
    "test_a = pd.read_csv('../input/osic-pulmonary-fibrosis-progression/test.csv')"
   ]
  },
  {
   "cell_type": "code",
   "execution_count": 54,
   "metadata": {
    "execution": {
     "iopub.execute_input": "2020-10-06T15:42:24.944328Z",
     "iopub.status.busy": "2020-10-06T15:42:24.940390Z",
     "iopub.status.idle": "2020-10-06T15:42:40.704105Z",
     "shell.execute_reply": "2020-10-06T15:42:40.703588Z"
    },
    "papermill": {
     "duration": 15.857565,
     "end_time": "2020-10-06T15:42:40.704230",
     "exception": false,
     "start_time": "2020-10-06T15:42:24.846665",
     "status": "completed"
    },
    "tags": []
   },
   "outputs": [
    {
     "data": {
      "application/vnd.jupyter.widget-view+json": {
       "model_id": "7e3802ea4e894566b202a7d17b556278",
       "version_major": 2,
       "version_minor": 0
      },
      "text/plain": [
       "HBox(children=(FloatProgress(value=0.0, max=176.0), HTML(value='')))"
      ]
     },
     "metadata": {},
     "output_type": "display_data"
    },
    {
     "name": "stdout",
     "output_type": "stream",
     "text": [
      "\n"
     ]
    }
   ],
   "source": [
    "train = pd.concat([train, test_a])\n",
    "\n",
    "output = pd.DataFrame()\n",
    "\n",
    "gb = train.groupby('Patient') # Combines all col data by object name and return mean values respectively\n",
    "\n",
    "# tqdm => i love you so much in spanish, progress bar for running loops\n",
    "\n",
    "tk0 = tqdm(gb, total = len(gb))\n",
    "\n",
    "for _, usr_df in tk0:\n",
    "    usr_output = pd.DataFrame()\n",
    "    for week, tmp in usr_df.groupby(\"Weeks\"):\n",
    "        rename_cols = {'Weeks': 'base_Week', 'FVC': 'base_FVC', 'Age': 'base_Age'}\n",
    "        \n",
    "        tmp = tmp.rename(columns = rename_cols)\n",
    "        \n",
    "        drop_cols = ['Age', 'Sex', 'SmokingStatus', 'Percent'] \n",
    "        \n",
    "        _usr_output = usr_df.drop(columns=drop_cols).rename(columns={'Weeks': 'predict_Week'}).merge(tmp, on='Patient')\n",
    "        \n",
    "        _usr_output['Week_passed'] = _usr_output['predict_Week'] - _usr_output['base_Week']\n",
    "        \n",
    "        # Concat the empty DF with edited DF\n",
    "        usr_output = pd.concat([usr_output, _usr_output])\n",
    "    output = pd.concat([output, usr_output])\n",
    "        \n",
    "train = output[output['Week_passed']!=0].reset_index(drop=True)\n",
    "\n"
   ]
  },
  {
   "cell_type": "code",
   "execution_count": 55,
   "metadata": {
    "execution": {
     "iopub.execute_input": "2020-10-06T15:42:40.898415Z",
     "iopub.status.busy": "2020-10-06T15:42:40.897250Z",
     "iopub.status.idle": "2020-10-06T15:42:40.902418Z",
     "shell.execute_reply": "2020-10-06T15:42:40.901787Z"
    },
    "papermill": {
     "duration": 0.112562,
     "end_time": "2020-10-06T15:42:40.902522",
     "exception": false,
     "start_time": "2020-10-06T15:42:40.789960",
     "status": "completed"
    },
    "tags": []
   },
   "outputs": [
    {
     "data": {
      "text/html": [
       "<div>\n",
       "<style scoped>\n",
       "    .dataframe tbody tr th:only-of-type {\n",
       "        vertical-align: middle;\n",
       "    }\n",
       "\n",
       "    .dataframe tbody tr th {\n",
       "        vertical-align: top;\n",
       "    }\n",
       "\n",
       "    .dataframe thead th {\n",
       "        text-align: right;\n",
       "    }\n",
       "</style>\n",
       "<table border=\"1\" class=\"dataframe\">\n",
       "  <thead>\n",
       "    <tr style=\"text-align: right;\">\n",
       "      <th></th>\n",
       "      <th>Patient</th>\n",
       "      <th>predict_Week</th>\n",
       "      <th>FVC</th>\n",
       "      <th>base_Week</th>\n",
       "      <th>base_FVC</th>\n",
       "      <th>Percent</th>\n",
       "      <th>base_Age</th>\n",
       "      <th>Sex</th>\n",
       "      <th>SmokingStatus</th>\n",
       "      <th>Week_passed</th>\n",
       "    </tr>\n",
       "  </thead>\n",
       "  <tbody>\n",
       "    <tr>\n",
       "      <th>0</th>\n",
       "      <td>ID00007637202177411956430</td>\n",
       "      <td>-4</td>\n",
       "      <td>2315</td>\n",
       "      <td>-4</td>\n",
       "      <td>2315</td>\n",
       "      <td>58.253649</td>\n",
       "      <td>79</td>\n",
       "      <td>Male</td>\n",
       "      <td>Ex-smoker</td>\n",
       "      <td>0</td>\n",
       "    </tr>\n",
       "    <tr>\n",
       "      <th>1</th>\n",
       "      <td>ID00007637202177411956430</td>\n",
       "      <td>5</td>\n",
       "      <td>2214</td>\n",
       "      <td>-4</td>\n",
       "      <td>2315</td>\n",
       "      <td>58.253649</td>\n",
       "      <td>79</td>\n",
       "      <td>Male</td>\n",
       "      <td>Ex-smoker</td>\n",
       "      <td>9</td>\n",
       "    </tr>\n",
       "    <tr>\n",
       "      <th>2</th>\n",
       "      <td>ID00007637202177411956430</td>\n",
       "      <td>7</td>\n",
       "      <td>2061</td>\n",
       "      <td>-4</td>\n",
       "      <td>2315</td>\n",
       "      <td>58.253649</td>\n",
       "      <td>79</td>\n",
       "      <td>Male</td>\n",
       "      <td>Ex-smoker</td>\n",
       "      <td>11</td>\n",
       "    </tr>\n",
       "    <tr>\n",
       "      <th>3</th>\n",
       "      <td>ID00007637202177411956430</td>\n",
       "      <td>9</td>\n",
       "      <td>2144</td>\n",
       "      <td>-4</td>\n",
       "      <td>2315</td>\n",
       "      <td>58.253649</td>\n",
       "      <td>79</td>\n",
       "      <td>Male</td>\n",
       "      <td>Ex-smoker</td>\n",
       "      <td>13</td>\n",
       "    </tr>\n",
       "    <tr>\n",
       "      <th>4</th>\n",
       "      <td>ID00007637202177411956430</td>\n",
       "      <td>11</td>\n",
       "      <td>2069</td>\n",
       "      <td>-4</td>\n",
       "      <td>2315</td>\n",
       "      <td>58.253649</td>\n",
       "      <td>79</td>\n",
       "      <td>Male</td>\n",
       "      <td>Ex-smoker</td>\n",
       "      <td>15</td>\n",
       "    </tr>\n",
       "    <tr>\n",
       "      <th>...</th>\n",
       "      <td>...</td>\n",
       "      <td>...</td>\n",
       "      <td>...</td>\n",
       "      <td>...</td>\n",
       "      <td>...</td>\n",
       "      <td>...</td>\n",
       "      <td>...</td>\n",
       "      <td>...</td>\n",
       "      <td>...</td>\n",
       "      <td>...</td>\n",
       "    </tr>\n",
       "    <tr>\n",
       "      <th>5</th>\n",
       "      <td>ID00426637202313170790466</td>\n",
       "      <td>19</td>\n",
       "      <td>2978</td>\n",
       "      <td>59</td>\n",
       "      <td>2774</td>\n",
       "      <td>68.117081</td>\n",
       "      <td>73</td>\n",
       "      <td>Male</td>\n",
       "      <td>Never smoked</td>\n",
       "      <td>-40</td>\n",
       "    </tr>\n",
       "    <tr>\n",
       "      <th>6</th>\n",
       "      <td>ID00426637202313170790466</td>\n",
       "      <td>31</td>\n",
       "      <td>2908</td>\n",
       "      <td>59</td>\n",
       "      <td>2774</td>\n",
       "      <td>68.117081</td>\n",
       "      <td>73</td>\n",
       "      <td>Male</td>\n",
       "      <td>Never smoked</td>\n",
       "      <td>-28</td>\n",
       "    </tr>\n",
       "    <tr>\n",
       "      <th>7</th>\n",
       "      <td>ID00426637202313170790466</td>\n",
       "      <td>43</td>\n",
       "      <td>2975</td>\n",
       "      <td>59</td>\n",
       "      <td>2774</td>\n",
       "      <td>68.117081</td>\n",
       "      <td>73</td>\n",
       "      <td>Male</td>\n",
       "      <td>Never smoked</td>\n",
       "      <td>-16</td>\n",
       "    </tr>\n",
       "    <tr>\n",
       "      <th>8</th>\n",
       "      <td>ID00426637202313170790466</td>\n",
       "      <td>59</td>\n",
       "      <td>2774</td>\n",
       "      <td>59</td>\n",
       "      <td>2774</td>\n",
       "      <td>68.117081</td>\n",
       "      <td>73</td>\n",
       "      <td>Male</td>\n",
       "      <td>Never smoked</td>\n",
       "      <td>0</td>\n",
       "    </tr>\n",
       "    <tr>\n",
       "      <th>9</th>\n",
       "      <td>ID00426637202313170790466</td>\n",
       "      <td>0</td>\n",
       "      <td>2925</td>\n",
       "      <td>59</td>\n",
       "      <td>2774</td>\n",
       "      <td>68.117081</td>\n",
       "      <td>73</td>\n",
       "      <td>Male</td>\n",
       "      <td>Never smoked</td>\n",
       "      <td>-59</td>\n",
       "    </tr>\n",
       "  </tbody>\n",
       "</table>\n",
       "<p>13802 rows × 10 columns</p>\n",
       "</div>"
      ],
      "text/plain": [
       "                      Patient  predict_Week   FVC  base_Week  base_FVC  \\\n",
       "0   ID00007637202177411956430            -4  2315         -4      2315   \n",
       "1   ID00007637202177411956430             5  2214         -4      2315   \n",
       "2   ID00007637202177411956430             7  2061         -4      2315   \n",
       "3   ID00007637202177411956430             9  2144         -4      2315   \n",
       "4   ID00007637202177411956430            11  2069         -4      2315   \n",
       "..                        ...           ...   ...        ...       ...   \n",
       "5   ID00426637202313170790466            19  2978         59      2774   \n",
       "6   ID00426637202313170790466            31  2908         59      2774   \n",
       "7   ID00426637202313170790466            43  2975         59      2774   \n",
       "8   ID00426637202313170790466            59  2774         59      2774   \n",
       "9   ID00426637202313170790466             0  2925         59      2774   \n",
       "\n",
       "      Percent  base_Age   Sex SmokingStatus  Week_passed  \n",
       "0   58.253649        79  Male     Ex-smoker            0  \n",
       "1   58.253649        79  Male     Ex-smoker            9  \n",
       "2   58.253649        79  Male     Ex-smoker           11  \n",
       "3   58.253649        79  Male     Ex-smoker           13  \n",
       "4   58.253649        79  Male     Ex-smoker           15  \n",
       "..        ...       ...   ...           ...          ...  \n",
       "5   68.117081        73  Male  Never smoked          -40  \n",
       "6   68.117081        73  Male  Never smoked          -28  \n",
       "7   68.117081        73  Male  Never smoked          -16  \n",
       "8   68.117081        73  Male  Never smoked            0  \n",
       "9   68.117081        73  Male  Never smoked          -59  \n",
       "\n",
       "[13802 rows x 10 columns]"
      ]
     },
     "execution_count": 55,
     "metadata": {},
     "output_type": "execute_result"
    }
   ],
   "source": [
    "output"
   ]
  },
  {
   "cell_type": "code",
   "execution_count": 56,
   "metadata": {
    "execution": {
     "iopub.execute_input": "2020-10-06T15:42:41.086523Z",
     "iopub.status.busy": "2020-10-06T15:42:41.085639Z",
     "iopub.status.idle": "2020-10-06T15:42:41.100859Z",
     "shell.execute_reply": "2020-10-06T15:42:41.100374Z"
    },
    "papermill": {
     "duration": 0.112741,
     "end_time": "2020-10-06T15:42:41.100965",
     "exception": false,
     "start_time": "2020-10-06T15:42:40.988224",
     "status": "completed"
    },
    "tags": []
   },
   "outputs": [],
   "source": [
    "# Testing Input Construction\n",
    "\n",
    "test = test_a.rename(columns={'Weeks': 'base_Week', 'FVC': 'base_FVC', 'Age': 'base_Age'})\n",
    "\n",
    "# Adding Sample Submission\n",
    "submission = pd.read_csv(\"../input/osic-pulmonary-fibrosis-progression/sample_submission.csv\")\n",
    "\n",
    "# In submisison file, format: ID_'week', using lambda to split the ID\n",
    "submission['Patient'] = submission['Patient_Week'].apply(lambda x:x.split('_')[0])\n",
    "\n",
    "# In submisison file, format: ID_'week', using lambda to split the Week\n",
    "submission['predict_Week'] = submission['Patient_Week'].apply(lambda x:x.split('_')[1]).astype(int)\n",
    "\n",
    "test = submission.drop(columns = [\"FVC\", \"Confidence\"]).merge(test, on = 'Patient')\n",
    "\n",
    "test['Week_passed'] = test['predict_Week'] - test['base_Week']\n",
    "\n",
    "test.set_index('Patient_Week', inplace=True)"
   ]
  },
  {
   "cell_type": "code",
   "execution_count": 57,
   "metadata": {
    "execution": {
     "iopub.execute_input": "2020-10-06T15:42:41.291484Z",
     "iopub.status.busy": "2020-10-06T15:42:41.290641Z",
     "iopub.status.idle": "2020-10-06T15:42:41.305692Z",
     "shell.execute_reply": "2020-10-06T15:42:41.306228Z"
    },
    "papermill": {
     "duration": 0.120631,
     "end_time": "2020-10-06T15:42:41.306349",
     "exception": false,
     "start_time": "2020-10-06T15:42:41.185718",
     "status": "completed"
    },
    "tags": []
   },
   "outputs": [],
   "source": [
    "folds = train[['Patient', TARGET]].copy()\n",
    "folds = train[['Patient', TARGET]].copy()\n",
    "Fold = GroupKFold(n_splits=N_FOLD)\n",
    "groups = folds['Patient'].values\n",
    "for n, (train_index, val_index) in enumerate(Fold.split(folds, folds[TARGET], groups)):\n",
    "    folds.loc[val_index, 'fold'] = int(n)\n",
    "folds['fold'] = folds['fold'].astype(int)"
   ]
  },
  {
   "cell_type": "markdown",
   "metadata": {
    "papermill": {
     "duration": 0.085527,
     "end_time": "2020-10-06T15:42:41.479170",
     "exception": false,
     "start_time": "2020-10-06T15:42:41.393643",
     "status": "completed"
    },
    "tags": []
   },
   "source": [
    "### Model Building"
   ]
  },
  {
   "cell_type": "code",
   "execution_count": 58,
   "metadata": {
    "execution": {
     "iopub.execute_input": "2020-10-06T15:42:41.659041Z",
     "iopub.status.busy": "2020-10-06T15:42:41.658255Z",
     "iopub.status.idle": "2020-10-06T15:42:41.661399Z",
     "shell.execute_reply": "2020-10-06T15:42:41.660922Z"
    },
    "papermill": {
     "duration": 0.097312,
     "end_time": "2020-10-06T15:42:41.661496",
     "exception": false,
     "start_time": "2020-10-06T15:42:41.564184",
     "status": "completed"
    },
    "tags": []
   },
   "outputs": [],
   "source": [
    "def run_single_model(clf, train_df, test_df, folds, features, target, fold_num=0):\n",
    "    trn_idx = folds[folds.fold!=fold_num].index\n",
    "    val_idx = folds[folds.fold==fold_num].index\n",
    "    \n",
    "    y_tr = target.iloc[trn_idx].values\n",
    "    X_tr = train_df.iloc[trn_idx][features].values\n",
    "    y_val = target.iloc[val_idx].values\n",
    "    X_val = train_df.iloc[val_idx][features].values\n",
    "    \n",
    "    oof = np.zeros(len(train_df))\n",
    "    predictions = np.zeros(len(test_df))\n",
    "    clf.fit(X_tr, y_tr)\n",
    "    \n",
    "    oof[val_idx] = clf.predict(X_val)\n",
    "    predictions += clf.predict(test_df[features])\n",
    "    return oof, predictions"
   ]
  },
  {
   "cell_type": "code",
   "execution_count": 59,
   "metadata": {
    "execution": {
     "iopub.execute_input": "2020-10-06T15:42:41.839998Z",
     "iopub.status.busy": "2020-10-06T15:42:41.839256Z",
     "iopub.status.idle": "2020-10-06T15:42:41.842290Z",
     "shell.execute_reply": "2020-10-06T15:42:41.841791Z"
    },
    "papermill": {
     "duration": 0.09561,
     "end_time": "2020-10-06T15:42:41.842388",
     "exception": false,
     "start_time": "2020-10-06T15:42:41.746778",
     "status": "completed"
    },
    "tags": []
   },
   "outputs": [],
   "source": [
    "def run_kfold_model(clf, train, test, folds, features, target, n_fold=9):\n",
    "    \n",
    "    # n_fold from 5 to 7\n",
    "    \n",
    "    oof = np.zeros(len(train))\n",
    "    predictions = np.zeros(len(test))\n",
    "    feature_importance_df = pd.DataFrame()\n",
    "\n",
    "    for fold_ in range(n_fold):\n",
    "\n",
    "        _oof, _predictions = run_single_model(clf,train, test, folds, features, target, fold_num = fold_)\n",
    "\n",
    "        oof += _oof\n",
    "        predictions += _predictions/n_fold\n",
    "    \n",
    "    return oof, predictions"
   ]
  },
  {
   "cell_type": "code",
   "execution_count": 60,
   "metadata": {
    "execution": {
     "iopub.execute_input": "2020-10-06T15:42:42.027912Z",
     "iopub.status.busy": "2020-10-06T15:42:42.027060Z",
     "iopub.status.idle": "2020-10-06T15:42:42.050035Z",
     "shell.execute_reply": "2020-10-06T15:42:42.049499Z"
    },
    "papermill": {
     "duration": 0.12248,
     "end_time": "2020-10-06T15:42:42.050151",
     "exception": false,
     "start_time": "2020-10-06T15:42:41.927671",
     "status": "completed"
    },
    "tags": []
   },
   "outputs": [],
   "source": [
    "target = train[TARGET]\n",
    "test[TARGET] = np.nan # Displays all Null values\n",
    "\n",
    "# features\n",
    "cat_features = ['Sex', 'SmokingStatus'] # Categorical Features\n",
    "num_features = [c for c in test.columns if (test.dtypes[c] != 'object') & (c not in cat_features)] # Numerical Features\n",
    "\n",
    "features = num_features + cat_features\n",
    "drop_features = [TARGET, 'predict_Week', 'Percent', 'base_Week']\n",
    "features = [c for c in features if c not in drop_features]\n",
    "\n",
    "if cat_features:\n",
    "    ce_oe = ce.OrdinalEncoder(cols=cat_features, handle_unknown='impute')\n",
    "    ce_oe.fit(train)\n",
    "    train = ce_oe.transform(train)\n",
    "    test = ce_oe.transform(test)"
   ]
  },
  {
   "cell_type": "code",
   "execution_count": 61,
   "metadata": {
    "execution": {
     "iopub.execute_input": "2020-10-06T15:42:42.243461Z",
     "iopub.status.busy": "2020-10-06T15:42:42.242434Z",
     "iopub.status.idle": "2020-10-06T15:43:17.784771Z",
     "shell.execute_reply": "2020-10-06T15:43:17.783379Z"
    },
    "papermill": {
     "duration": 35.649,
     "end_time": "2020-10-06T15:43:17.784907",
     "exception": false,
     "start_time": "2020-10-06T15:42:42.135907",
     "status": "completed"
    },
    "tags": []
   },
   "outputs": [
    {
     "name": "stdout",
     "output_type": "stream",
     "text": [
      " For alpha: 0.3 & l1_ratio: 0.8\n",
      "-7.136575746463419\n"
     ]
    },
    {
     "data": {
      "application/vnd.jupyter.widget-view+json": {
       "model_id": "8a14d1946e3440ff87dc5a9b4da33a6e",
       "version_major": 2,
       "version_minor": 0
      },
      "text/plain": [
       "HBox(children=(FloatProgress(value=0.0, max=12224.0), HTML(value='')))"
      ]
     },
     "metadata": {},
     "output_type": "display_data"
    },
    {
     "name": "stdout",
     "output_type": "stream",
     "text": [
      "\n",
      "-6.338293513101472\n"
     ]
    }
   ],
   "source": [
    "for alpha1 in [0.3]:\n",
    "    for l1s in [0.8]:\n",
    "        \n",
    "        print(\" For alpha:\",alpha1,\"& l1_ratio:\",l1s)\n",
    "        clf = ElasticNet(alpha=alpha1, l1_ratio = l1s)\n",
    "        oof, predictions = run_kfold_model(clf, train, test, folds, features, target, n_fold=N_FOLD)\n",
    "\n",
    "        train['FVC_pred'] = oof\n",
    "        test['FVC_pred'] = predictions\n",
    "\n",
    "        # baseline score\n",
    "        train['Confidence'] = 100\n",
    "        train['sigma_clipped'] = train['Confidence'].apply(lambda x: max(x, 70))\n",
    "        train['diff'] = abs(train['FVC'] - train['FVC_pred'])\n",
    "        train['delta'] = train['diff'].apply(lambda x: min(x, 1000))\n",
    "        train['score'] = -math.sqrt(2)*train['delta']/train['sigma_clipped'] - np.log(math.sqrt(2)*train['sigma_clipped'])\n",
    "        score = train['score'].mean()\n",
    "        print(score)\n",
    "\n",
    "        def loss_func(weight, row):\n",
    "            confidence = weight\n",
    "            sigma_clipped = max(confidence, 70)\n",
    "            diff = abs(row['FVC'] - row['FVC_pred'])\n",
    "            delta = min(diff, 1000)\n",
    "            score = -math.sqrt(2)*delta/sigma_clipped - np.log(math.sqrt(2)*sigma_clipped)\n",
    "            return -score\n",
    "\n",
    "        results = []\n",
    "        tk0 = tqdm(train.iterrows(), total=len(train))\n",
    "        for _, row in tk0:\n",
    "            loss_partial = partial(loss_func, row=row)\n",
    "            weight = [100]\n",
    "            result = sp.optimize.minimize(loss_partial, weight, method='SLSQP')\n",
    "            x = result['x']\n",
    "            results.append(x[0])\n",
    "\n",
    "        # optimized score\n",
    "        train['Confidence'] = results\n",
    "        train['sigma_clipped'] = train['Confidence'].apply(lambda x: max(x, 70))\n",
    "        train['diff'] = abs(train['FVC'] - train['FVC_pred'])\n",
    "        train['delta'] = train['diff'].apply(lambda x: min(x, 1000))\n",
    "        train['score'] = -math.sqrt(2)*train['delta']/train['sigma_clipped'] - np.log(math.sqrt(2)*train['sigma_clipped'])\n",
    "        score = train['score'].mean()\n",
    "        print(score)"
   ]
  },
  {
   "cell_type": "code",
   "execution_count": 62,
   "metadata": {
    "execution": {
     "iopub.execute_input": "2020-10-06T15:43:17.996289Z",
     "iopub.status.busy": "2020-10-06T15:43:17.994841Z",
     "iopub.status.idle": "2020-10-06T15:43:18.109508Z",
     "shell.execute_reply": "2020-10-06T15:43:18.108615Z"
    },
    "papermill": {
     "duration": 0.22466,
     "end_time": "2020-10-06T15:43:18.109618",
     "exception": false,
     "start_time": "2020-10-06T15:43:17.884958",
     "status": "completed"
    },
    "tags": []
   },
   "outputs": [],
   "source": [
    "TARGET = 'Confidence'\n",
    "\n",
    "target = train[TARGET]\n",
    "test[TARGET] = np.nan\n",
    "\n",
    "# features\n",
    "cat_features = ['Sex', 'SmokingStatus']\n",
    "num_features = [c for c in test.columns if (test.dtypes[c] != 'object') & (c not in cat_features)]\n",
    "features = num_features + cat_features\n",
    "drop_features = [ID, TARGET, 'predict_Week', 'base_Week', 'FVC', 'FVC_pred']\n",
    "features = [c for c in features if c not in drop_features]\n",
    "\n",
    "oof, predictions = run_kfold_model(clf, train, test, folds, features, target, n_fold=N_FOLD)"
   ]
  },
  {
   "cell_type": "code",
   "execution_count": 63,
   "metadata": {
    "execution": {
     "iopub.execute_input": "2020-10-06T15:43:18.313677Z",
     "iopub.status.busy": "2020-10-06T15:43:18.312844Z",
     "iopub.status.idle": "2020-10-06T15:43:18.328260Z",
     "shell.execute_reply": "2020-10-06T15:43:18.327771Z"
    },
    "papermill": {
     "duration": 0.120625,
     "end_time": "2020-10-06T15:43:18.328360",
     "exception": false,
     "start_time": "2020-10-06T15:43:18.207735",
     "status": "completed"
    },
    "tags": []
   },
   "outputs": [
    {
     "name": "stdout",
     "output_type": "stream",
     "text": [
      "-6.732727315800078\n"
     ]
    }
   ],
   "source": [
    "train['Confidence'] = oof\n",
    "train['sigma_clipped'] = train['Confidence'].apply(lambda x: max(x, 70))\n",
    "train['diff'] = abs(train['FVC'] - train['FVC_pred'])\n",
    "train['delta'] = train['diff'].apply(lambda x: min(x, 1000))\n",
    "train['score'] = -math.sqrt(2)*train['delta']/train['sigma_clipped'] - np.log(math.sqrt(2)*train['sigma_clipped'])\n",
    "score = train['score'].mean()\n",
    "print(score)"
   ]
  },
  {
   "cell_type": "code",
   "execution_count": 64,
   "metadata": {
    "execution": {
     "iopub.execute_input": "2020-10-06T15:43:18.513370Z",
     "iopub.status.busy": "2020-10-06T15:43:18.512506Z",
     "iopub.status.idle": "2020-10-06T15:43:18.517338Z",
     "shell.execute_reply": "2020-10-06T15:43:18.516756Z"
    },
    "papermill": {
     "duration": 0.098912,
     "end_time": "2020-10-06T15:43:18.517453",
     "exception": false,
     "start_time": "2020-10-06T15:43:18.418541",
     "status": "completed"
    },
    "tags": []
   },
   "outputs": [],
   "source": [
    "test['Confidence'] = predictions\n",
    "test = test.reset_index()"
   ]
  },
  {
   "cell_type": "code",
   "execution_count": 65,
   "metadata": {
    "execution": {
     "iopub.execute_input": "2020-10-06T15:43:18.711611Z",
     "iopub.status.busy": "2020-10-06T15:43:18.710733Z",
     "iopub.status.idle": "2020-10-06T15:43:18.741642Z",
     "shell.execute_reply": "2020-10-06T15:43:18.741138Z"
    },
    "papermill": {
     "duration": 0.134822,
     "end_time": "2020-10-06T15:43:18.741740",
     "exception": false,
     "start_time": "2020-10-06T15:43:18.606918",
     "status": "completed"
    },
    "tags": []
   },
   "outputs": [],
   "source": [
    "sub = submission[['Patient_Week']].merge(test[['Patient_Week', 'FVC_pred', 'Confidence']], on='Patient_Week')\n",
    "sub = sub.rename(columns={'FVC_pred': 'FVC'})\n",
    "\n",
    "for i in range(len(test_a)):\n",
    "    sub.loc[sub['Patient_Week']==test_a.Patient[i]+'_'+str(test_a.Weeks[i]), 'FVC'] = test_a.FVC[i]\n",
    "    sub.loc[sub['Patient_Week']==test_a.Patient[i]+'_'+str(test_a.Weeks[i]), 'Confidence'] = 0.1\n",
    "    \n",
    "sub[sub.Confidence<1]\n",
    "\n",
    "sub.to_csv('submission.csv', index=False, float_format='%.1f')"
   ]
  },
  {
   "cell_type": "code",
   "execution_count": 66,
   "metadata": {
    "execution": {
     "iopub.execute_input": "2020-10-06T15:43:18.928890Z",
     "iopub.status.busy": "2020-10-06T15:43:18.928057Z",
     "iopub.status.idle": "2020-10-06T15:43:18.931013Z",
     "shell.execute_reply": "2020-10-06T15:43:18.930532Z"
    },
    "papermill": {
     "duration": 0.099447,
     "end_time": "2020-10-06T15:43:18.931112",
     "exception": false,
     "start_time": "2020-10-06T15:43:18.831665",
     "status": "completed"
    },
    "tags": []
   },
   "outputs": [],
   "source": [
    "elastic_sub = sub[[\"Patient_Week\",\"FVC\",\"Confidence\"]].copy()"
   ]
  },
  {
   "cell_type": "code",
   "execution_count": 67,
   "metadata": {
    "execution": {
     "iopub.execute_input": "2020-10-06T15:43:19.128944Z",
     "iopub.status.busy": "2020-10-06T15:43:19.128001Z",
     "iopub.status.idle": "2020-10-06T15:43:19.132514Z",
     "shell.execute_reply": "2020-10-06T15:43:19.131858Z"
    },
    "papermill": {
     "duration": 0.108321,
     "end_time": "2020-10-06T15:43:19.132623",
     "exception": false,
     "start_time": "2020-10-06T15:43:19.024302",
     "status": "completed"
    },
    "tags": []
   },
   "outputs": [
    {
     "data": {
      "text/html": [
       "<div>\n",
       "<style scoped>\n",
       "    .dataframe tbody tr th:only-of-type {\n",
       "        vertical-align: middle;\n",
       "    }\n",
       "\n",
       "    .dataframe tbody tr th {\n",
       "        vertical-align: top;\n",
       "    }\n",
       "\n",
       "    .dataframe thead th {\n",
       "        text-align: right;\n",
       "    }\n",
       "</style>\n",
       "<table border=\"1\" class=\"dataframe\">\n",
       "  <thead>\n",
       "    <tr style=\"text-align: right;\">\n",
       "      <th></th>\n",
       "      <th>Patient_Week</th>\n",
       "      <th>FVC</th>\n",
       "      <th>Confidence</th>\n",
       "    </tr>\n",
       "  </thead>\n",
       "  <tbody>\n",
       "    <tr>\n",
       "      <th>0</th>\n",
       "      <td>ID00419637202311204720264_-12</td>\n",
       "      <td>3076.939961</td>\n",
       "      <td>220.639212</td>\n",
       "    </tr>\n",
       "    <tr>\n",
       "      <th>1</th>\n",
       "      <td>ID00421637202311550012437_-12</td>\n",
       "      <td>2846.914090</td>\n",
       "      <td>217.967356</td>\n",
       "    </tr>\n",
       "    <tr>\n",
       "      <th>2</th>\n",
       "      <td>ID00422637202311677017371_-12</td>\n",
       "      <td>2039.217394</td>\n",
       "      <td>195.474611</td>\n",
       "    </tr>\n",
       "    <tr>\n",
       "      <th>3</th>\n",
       "      <td>ID00423637202312137826377_-12</td>\n",
       "      <td>3380.401692</td>\n",
       "      <td>224.620169</td>\n",
       "    </tr>\n",
       "    <tr>\n",
       "      <th>4</th>\n",
       "      <td>ID00426637202313170790466_-12</td>\n",
       "      <td>2964.968775</td>\n",
       "      <td>236.675604</td>\n",
       "    </tr>\n",
       "    <tr>\n",
       "      <th>...</th>\n",
       "      <td>...</td>\n",
       "      <td>...</td>\n",
       "      <td>...</td>\n",
       "    </tr>\n",
       "    <tr>\n",
       "      <th>725</th>\n",
       "      <td>ID00419637202311204720264_133</td>\n",
       "      <td>2523.676541</td>\n",
       "      <td>226.683809</td>\n",
       "    </tr>\n",
       "    <tr>\n",
       "      <th>726</th>\n",
       "      <td>ID00421637202311550012437_133</td>\n",
       "      <td>2293.650670</td>\n",
       "      <td>224.011953</td>\n",
       "    </tr>\n",
       "    <tr>\n",
       "      <th>727</th>\n",
       "      <td>ID00422637202311677017371_133</td>\n",
       "      <td>1485.953974</td>\n",
       "      <td>201.519208</td>\n",
       "    </tr>\n",
       "    <tr>\n",
       "      <th>728</th>\n",
       "      <td>ID00423637202312137826377_133</td>\n",
       "      <td>2827.138272</td>\n",
       "      <td>230.664766</td>\n",
       "    </tr>\n",
       "    <tr>\n",
       "      <th>729</th>\n",
       "      <td>ID00426637202313170790466_133</td>\n",
       "      <td>2411.705355</td>\n",
       "      <td>242.720201</td>\n",
       "    </tr>\n",
       "  </tbody>\n",
       "</table>\n",
       "<p>730 rows × 3 columns</p>\n",
       "</div>"
      ],
      "text/plain": [
       "                      Patient_Week          FVC  Confidence\n",
       "0    ID00419637202311204720264_-12  3076.939961  220.639212\n",
       "1    ID00421637202311550012437_-12  2846.914090  217.967356\n",
       "2    ID00422637202311677017371_-12  2039.217394  195.474611\n",
       "3    ID00423637202312137826377_-12  3380.401692  224.620169\n",
       "4    ID00426637202313170790466_-12  2964.968775  236.675604\n",
       "..                             ...          ...         ...\n",
       "725  ID00419637202311204720264_133  2523.676541  226.683809\n",
       "726  ID00421637202311550012437_133  2293.650670  224.011953\n",
       "727  ID00422637202311677017371_133  1485.953974  201.519208\n",
       "728  ID00423637202312137826377_133  2827.138272  230.664766\n",
       "729  ID00426637202313170790466_133  2411.705355  242.720201\n",
       "\n",
       "[730 rows x 3 columns]"
      ]
     },
     "execution_count": 67,
     "metadata": {},
     "output_type": "execute_result"
    }
   ],
   "source": [
    "elastic_sub"
   ]
  },
  {
   "cell_type": "markdown",
   "metadata": {
    "papermill": {
     "duration": 0.090796,
     "end_time": "2020-10-06T15:43:19.321569",
     "exception": false,
     "start_time": "2020-10-06T15:43:19.230773",
     "status": "completed"
    },
    "tags": []
   },
   "source": [
    "## 4.5 Lasso Regressor"
   ]
  },
  {
   "cell_type": "code",
   "execution_count": 68,
   "metadata": {
    "execution": {
     "iopub.execute_input": "2020-10-06T15:43:19.555859Z",
     "iopub.status.busy": "2020-10-06T15:43:19.523286Z",
     "iopub.status.idle": "2020-10-06T15:44:16.640597Z",
     "shell.execute_reply": "2020-10-06T15:44:16.640061Z"
    },
    "papermill": {
     "duration": 57.224994,
     "end_time": "2020-10-06T15:44:16.640715",
     "exception": false,
     "start_time": "2020-10-06T15:43:19.415721",
     "status": "completed"
    },
    "tags": []
   },
   "outputs": [
    {
     "name": "stdout",
     "output_type": "stream",
     "text": [
      "(1549, 8)\n"
     ]
    },
    {
     "data": {
      "application/vnd.jupyter.widget-view+json": {
       "model_id": "783027f7ffbe4b0d824a7bc5fc1f3609",
       "version_major": 2,
       "version_minor": 0
      },
      "text/plain": [
       "HBox(children=(FloatProgress(value=0.0, max=176.0), HTML(value='')))"
      ]
     },
     "metadata": {},
     "output_type": "display_data"
    },
    {
     "name": "stderr",
     "output_type": "stream",
     "text": [
      "Fold 0\n",
      "fold0 score: 11.73833\n",
      "Fold 1\n",
      "fold1 score: 14.41432\n",
      "Fold 2\n",
      "fold2 score: 11.94142\n",
      "Fold 3\n",
      "fold3 score: 11.95163\n",
      "Fold 4\n",
      "fold4 score: 12.91850\n",
      "Fold 5\n",
      "fold5 score: 12.62612\n",
      "Fold 6\n",
      "fold6 score: 13.49130\n",
      "Fold 7\n"
     ]
    },
    {
     "name": "stdout",
     "output_type": "stream",
     "text": [
      "\n",
      "(12144, 11)\n",
      "(730, 10)\n",
      "(730, 3)\n"
     ]
    },
    {
     "name": "stderr",
     "output_type": "stream",
     "text": [
      "fold7 score: 11.87524\n",
      "Fold 8\n",
      "fold8 score: 11.50869\n",
      "Fold 9\n",
      "fold9 score: 12.00273\n",
      "CV score: 12.47756\n"
     ]
    },
    {
     "name": "stdout",
     "output_type": "stream",
     "text": [
      "-7.128967725330719\n"
     ]
    },
    {
     "data": {
      "application/vnd.jupyter.widget-view+json": {
       "model_id": "8d37a152dc184bdfabc35aa1fdf925d6",
       "version_major": 2,
       "version_minor": 0
      },
      "text/plain": [
       "HBox(children=(FloatProgress(value=0.0, max=12144.0), HTML(value='')))"
      ]
     },
     "metadata": {},
     "output_type": "display_data"
    },
    {
     "name": "stderr",
     "output_type": "stream",
     "text": [
      "Fold 0\n",
      "fold0 score: 11.36345\n",
      "Fold 1\n",
      "fold1 score: 14.49672\n",
      "Fold 2\n",
      "fold2 score: 12.24852\n",
      "Fold 3\n",
      "fold3 score: 12.24924\n",
      "Fold 4\n",
      "fold4 score: 12.70263\n",
      "Fold 5\n",
      "fold5 score: 12.01968\n",
      "Fold 6\n",
      "fold6 score: 12.92354\n",
      "Fold 7\n",
      "fold7 score: 11.30992\n",
      "Fold 8\n",
      "fold8 score: 11.85067\n",
      "Fold 9\n"
     ]
    },
    {
     "name": "stdout",
     "output_type": "stream",
     "text": [
      "\n",
      "-6.336353354646507\n"
     ]
    },
    {
     "name": "stderr",
     "output_type": "stream",
     "text": [
      "fold9 score: 11.71756\n",
      "CV score: 12.31715\n",
      "Local Score: -6.737557190268827\n"
     ]
    },
    {
     "name": "stdout",
     "output_type": "stream",
     "text": [
      "-6.737557190268827\n"
     ]
    },
    {
     "data": {
      "text/html": [
       "<div>\n",
       "<style scoped>\n",
       "    .dataframe tbody tr th:only-of-type {\n",
       "        vertical-align: middle;\n",
       "    }\n",
       "\n",
       "    .dataframe tbody tr th {\n",
       "        vertical-align: top;\n",
       "    }\n",
       "\n",
       "    .dataframe thead th {\n",
       "        text-align: right;\n",
       "    }\n",
       "</style>\n",
       "<table border=\"1\" class=\"dataframe\">\n",
       "  <thead>\n",
       "    <tr style=\"text-align: right;\">\n",
       "      <th></th>\n",
       "      <th>Patient_Week</th>\n",
       "      <th>FVC</th>\n",
       "      <th>Confidence</th>\n",
       "    </tr>\n",
       "  </thead>\n",
       "  <tbody>\n",
       "    <tr>\n",
       "      <th>0</th>\n",
       "      <td>ID00419637202311204720264_-12</td>\n",
       "      <td>3096.587242</td>\n",
       "      <td>211.543959</td>\n",
       "    </tr>\n",
       "    <tr>\n",
       "      <th>1</th>\n",
       "      <td>ID00421637202311550012437_-12</td>\n",
       "      <td>2832.301227</td>\n",
       "      <td>222.465083</td>\n",
       "    </tr>\n",
       "    <tr>\n",
       "      <th>2</th>\n",
       "      <td>ID00422637202311677017371_-12</td>\n",
       "      <td>2009.390807</td>\n",
       "      <td>209.774085</td>\n",
       "    </tr>\n",
       "    <tr>\n",
       "      <th>3</th>\n",
       "      <td>ID00423637202312137826377_-12</td>\n",
       "      <td>3393.760652</td>\n",
       "      <td>215.995469</td>\n",
       "    </tr>\n",
       "    <tr>\n",
       "      <th>4</th>\n",
       "      <td>ID00426637202313170790466_-12</td>\n",
       "      <td>2982.717917</td>\n",
       "      <td>234.989140</td>\n",
       "    </tr>\n",
       "  </tbody>\n",
       "</table>\n",
       "</div>"
      ],
      "text/plain": [
       "                    Patient_Week          FVC  Confidence\n",
       "0  ID00419637202311204720264_-12  3096.587242  211.543959\n",
       "1  ID00421637202311550012437_-12  2832.301227  222.465083\n",
       "2  ID00422637202311677017371_-12  2009.390807  209.774085\n",
       "3  ID00423637202312137826377_-12  3393.760652  215.995469\n",
       "4  ID00426637202313170790466_-12  2982.717917  234.989140"
      ]
     },
     "execution_count": 68,
     "metadata": {},
     "output_type": "execute_result"
    }
   ],
   "source": [
    "\n",
    "\n",
    "import os\n",
    "from logging import getLogger, INFO, StreamHandler, FileHandler, Formatter\n",
    "from functools import partial\n",
    "\n",
    "import numpy as np\n",
    "import pandas as pd\n",
    "import random\n",
    "import math\n",
    "\n",
    "from tqdm.notebook import tqdm\n",
    "\n",
    "import matplotlib.pyplot as plt\n",
    "import seaborn as sns\n",
    "\n",
    "from sklearn.model_selection import StratifiedKFold, GroupKFold, KFold\n",
    "from sklearn.metrics import mean_squared_error , mean_absolute_error\n",
    "import category_encoders as ce\n",
    "\n",
    "from PIL import Image\n",
    "import cv2\n",
    "import pydicom\n",
    "\n",
    "import torch\n",
    "\n",
    "#from ngboost import NGBRegressor\n",
    "from xgboost import XGBRegressor\n",
    "from catboost import CatBoostRegressor\n",
    "from sklearn.svm import SVR\n",
    "import lightgbm as lgb\n",
    "from sklearn.linear_model import Ridge\n",
    "from sklearn.linear_model import Lasso\n",
    "from sklearn.linear_model import BayesianRidge\n",
    "from sklearn.ensemble import RandomForestRegressor\n",
    "\n",
    "import warnings\n",
    "warnings.filterwarnings(\"ignore\")\n",
    "\n",
    "\n",
    "\n",
    "def get_logger(filename='log'):\n",
    "    logger = getLogger(__name__)\n",
    "    logger.setLevel(INFO)\n",
    "    handler1 = StreamHandler()\n",
    "    handler1.setFormatter(Formatter(\"%(message)s\"))\n",
    "    handler2 = FileHandler(filename=f\"{filename}.log\")\n",
    "    handler2.setFormatter(Formatter(\"%(message)s\"))\n",
    "    logger.addHandler(handler1)\n",
    "    logger.addHandler(handler2)\n",
    "    return logger\n",
    "\n",
    "logger = get_logger()\n",
    "\n",
    "def seed_everything(seed=2020):\n",
    "    random.seed(seed)\n",
    "    os.environ['PYTHONHASHSEED'] = str(seed)\n",
    "    np.random.seed(seed)\n",
    "    torch.manual_seed(seed)\n",
    "    torch.cuda.manual_seed(seed)\n",
    "    torch.backends.cudnn.deterministic = True\n",
    "    \n",
    "    \n",
    "\n",
    "\n",
    "OUTPUT_DICT = './'\n",
    "\n",
    "ID = 'Patient_Week'\n",
    "TARGET = 'FVC'\n",
    "SEED = 42\n",
    "seed_everything(seed=SEED)\n",
    "\n",
    "N_FOLD = 10\n",
    "\n",
    "\n",
    "\n",
    "\n",
    "train = pd.read_csv('../input/osic-pulmonary-fibrosis-progression/train.csv')\n",
    "train[ID] = train['Patient'].astype(str) + '_' + train['Weeks'].astype(str)\n",
    "print(train.shape)\n",
    "train.head()\n",
    "\n",
    "\n",
    "\n",
    "\n",
    "# construct train input\n",
    "\n",
    "output = pd.DataFrame()\n",
    "gb = train.groupby('Patient')\n",
    "tk0 = tqdm(gb, total=len(gb))\n",
    "for _, usr_df in tk0:\n",
    "    usr_output = pd.DataFrame()\n",
    "    for week, tmp in usr_df.groupby('Weeks'):\n",
    "        rename_cols = {'Weeks': 'base_Week', 'FVC': 'base_FVC', 'Percent': 'base_Percent', 'Age': 'base_Age'}\n",
    "        tmp = tmp.drop(columns='Patient_Week').rename(columns=rename_cols)\n",
    "        drop_cols = ['Age', 'Sex', 'SmokingStatus', 'Percent']\n",
    "        _usr_output = usr_df.drop(columns=drop_cols).rename(columns={'Weeks': 'predict_Week'}).merge(tmp, on='Patient')\n",
    "        _usr_output['Week_passed'] = _usr_output['predict_Week'] - _usr_output['base_Week']\n",
    "        usr_output = pd.concat([usr_output, _usr_output])\n",
    "    output = pd.concat([output, usr_output])\n",
    "    \n",
    "train = output[output['Week_passed']!=0].reset_index(drop=True)\n",
    "print(train.shape)\n",
    "train.head()\n",
    "\n",
    "# construct test input\n",
    "\n",
    "test = pd.read_csv('../input/osic-pulmonary-fibrosis-progression/test.csv')\\\n",
    "        .rename(columns={'Weeks': 'base_Week', 'FVC': 'base_FVC', 'Percent': 'base_Percent', 'Age': 'base_Age'})\n",
    "submission = pd.read_csv('../input/osic-pulmonary-fibrosis-progression/sample_submission.csv')\n",
    "submission['Patient'] = submission['Patient_Week'].apply(lambda x: x.split('_')[0])\n",
    "submission['predict_Week'] = submission['Patient_Week'].apply(lambda x: x.split('_')[1]).astype(int)\n",
    "test = submission.drop(columns=['FVC', 'Confidence']).merge(test, on='Patient')\n",
    "test['Week_passed'] = test['predict_Week'] - test['base_Week']\n",
    "print(test.shape)\n",
    "test.head()\n",
    "\n",
    "\n",
    "submission = pd.read_csv('../input/osic-pulmonary-fibrosis-progression/sample_submission.csv')\n",
    "print(submission.shape)\n",
    "submission.head()\n",
    "\n",
    "\n",
    "\n",
    "folds = train[[ID, 'Patient', TARGET]].copy()\n",
    "#Fold = KFold(n_splits=N_FOLD, shuffle=True, random_state=SEED)\n",
    "Fold = GroupKFold(n_splits=N_FOLD)\n",
    "groups = folds['Patient'].values\n",
    "for n, (train_index, val_index) in enumerate(Fold.split(folds, folds[TARGET], groups)):\n",
    "    folds.loc[val_index, 'fold'] = int(n)\n",
    "folds['fold'] = folds['fold'].astype(int)\n",
    "folds.head()\n",
    "\n",
    "\n",
    "\n",
    "#===========================================================\n",
    "# model \n",
    "#===========================================================\n",
    "def run_single_lasso(param, train_df, test_df, folds, features, target, fold_num=0):\n",
    "    \n",
    "    trn_idx = folds[folds.fold!=fold_num].index\n",
    "    val_idx = folds[folds.fold==fold_num].index\n",
    "    \n",
    "    y_tr = target.iloc[trn_idx].values\n",
    "    X_tr = train_df.iloc[trn_idx][features].values\n",
    "    y_val = target.iloc[val_idx].values\n",
    "    X_val = train_df.iloc[val_idx][features].values\n",
    "    \n",
    "    oof = np.zeros(len(train_df))\n",
    "    predictions = np.zeros(len(test_df))\n",
    "    \n",
    "    clf = Lasso(**param )\n",
    "    clf.fit(X_tr, y_tr)\n",
    "    \n",
    "    oof[val_idx] = clf.predict(X_val)\n",
    "    predictions += clf.predict(test_df[features])\n",
    "\n",
    "    logger.info(\"fold{} score: {:<8.5f}\"\n",
    "                .format(fold_num, np.sqrt(mean_absolute_error(target[val_idx], oof[val_idx]))))\n",
    "    \n",
    "    return oof, predictions\n",
    "\n",
    "\n",
    "def run_kfold_lasso(param, train, test, folds, features, target, n_fold=5):\n",
    "    \n",
    "    oof = np.zeros(len(train))\n",
    "    predictions = np.zeros(len(test))\n",
    "    feature_importance_df = pd.DataFrame()\n",
    "\n",
    "    for fold_ in range(n_fold):\n",
    "        \n",
    "        logger.info(\"Fold {}\".format(fold_))\n",
    "        _oof, _predictions = run_single_lasso(param, \n",
    "                                                    train, \n",
    "                                                    test,\n",
    "                                                    folds,  \n",
    "                                                    features,\n",
    "                                                    target, \n",
    "                                                    fold_num=fold_)\n",
    "        oof += _oof\n",
    "        predictions += _predictions/n_fold\n",
    "    \n",
    "    logger.info(\"CV score: {:<8.5f}\"\n",
    "                .format(np.sqrt(mean_absolute_error(target, oof))))\n",
    "    \n",
    "    return oof, predictions\n",
    "\n",
    "\n",
    "target = train[TARGET]\n",
    "test[TARGET] = np.nan\n",
    "\n",
    "# features\n",
    "cat_features = ['Sex', 'SmokingStatus']\n",
    "num_features = [c for c in test.columns if (test.dtypes[c] != 'object') & (c not in cat_features)]\n",
    "features = num_features + cat_features\n",
    "drop_features = [ID, TARGET, 'predict_Week', 'base_Week']\n",
    "features = [c for c in features if c not in drop_features]\n",
    "\n",
    "if cat_features:\n",
    "    ce_oe = ce.OrdinalEncoder(cols=cat_features, handle_unknown='impute')\n",
    "    ce_oe.fit(train)\n",
    "    train = ce_oe.transform(train)\n",
    "    test = ce_oe.transform(test)\n",
    "        \n",
    "xgb_param = {\n",
    "                    'random_state': SEED,\n",
    "                    }\n",
    "\n",
    "oof, predictions = run_kfold_lasso(xgb_param, train, test, folds, features, target, n_fold=N_FOLD)\n",
    "\n",
    "\n",
    "\n",
    "train['FVC_pred'] = oof\n",
    "test['FVC_pred'] = predictions\n",
    "\n",
    "\n",
    "\n",
    "# baseline score\n",
    "train['Confidence'] = 100\n",
    "train['sigma_clipped'] = train['Confidence'].apply(lambda x: max(x, 70))\n",
    "train['diff'] = abs(train['FVC'] - train['FVC_pred'])\n",
    "train['delta'] = train['diff'].apply(lambda x: min(x, 1000))\n",
    "train['score'] = -math.sqrt(2)*train['delta']/train['sigma_clipped'] - np.log(math.sqrt(2)*train['sigma_clipped'])\n",
    "score = train['score'].mean()\n",
    "print(score)\n",
    "\n",
    "\n",
    "\n",
    "\n",
    "import scipy as sp\n",
    "\n",
    "def loss_func(weight, row):\n",
    "    confidence = weight\n",
    "    sigma_clipped = max(confidence, 70)\n",
    "    diff = abs(row['FVC'] - row['FVC_pred'])\n",
    "    delta = min(diff, 1000)\n",
    "    score = -math.sqrt(2)*delta/sigma_clipped - np.log(math.sqrt(2)*sigma_clipped)\n",
    "    return -score\n",
    "\n",
    "results = []\n",
    "tk0 = tqdm(train.iterrows(), total=len(train))\n",
    "for _, row in tk0:\n",
    "    loss_partial = partial(loss_func, row=row)\n",
    "    weight = [100]\n",
    "    #bounds = [(70, 100)]\n",
    "    #result = sp.optimize.minimize(loss_partial, weight, method='SLSQP', bounds=bounds)\n",
    "    result = sp.optimize.minimize(loss_partial, weight, method='SLSQP')\n",
    "    x = result['x']\n",
    "    results.append(x[0])\n",
    "\n",
    "\n",
    "    \n",
    "\n",
    "\n",
    "# optimized score\n",
    "train['Confidence'] = results\n",
    "train['sigma_clipped'] = train['Confidence'].apply(lambda x: max(x, 70))\n",
    "train['diff'] = abs(train['FVC'] - train['FVC_pred'])\n",
    "train['delta'] = train['diff'].apply(lambda x: min(x, 1000))\n",
    "train['score'] = -math.sqrt(2)*train['delta']/train['sigma_clipped'] - np.log(math.sqrt(2)*train['sigma_clipped'])\n",
    "score = train['score'].mean()\n",
    "print(score)\n",
    "\n",
    "\n",
    "\n",
    "TARGET = 'Confidence'\n",
    "\n",
    "target = train[TARGET]\n",
    "test[TARGET] = np.nan\n",
    "\n",
    "# features\n",
    "cat_features = ['Sex', 'SmokingStatus']\n",
    "num_features = [c for c in test.columns if (test.dtypes[c] != 'object') & (c not in cat_features)]\n",
    "features = num_features + cat_features\n",
    "drop_features = [ID, TARGET, 'predict_Week', 'base_Week', 'FVC', 'FVC_pred']\n",
    "features = [c for c in features if c not in drop_features]\n",
    "\n",
    "ridge_param = {  'random_state': SEED,\n",
    "                    }\n",
    "\n",
    "oof, predictions = run_kfold_lasso(ridge_param, train, test, folds, features, target, n_fold=N_FOLD)\n",
    "\n",
    "train['Confidence'] = oof\n",
    "train['sigma_clipped'] = train['Confidence'].apply(lambda x: max(x, 70))\n",
    "train['diff'] = abs(train['FVC'] - train['FVC_pred'])\n",
    "train['delta'] = train['diff'].apply(lambda x: min(x, 1000))\n",
    "train['score'] = -math.sqrt(2)*train['delta']/train['sigma_clipped'] - np.log(math.sqrt(2)*train['sigma_clipped'])\n",
    "score = train['score'].mean()\n",
    "print(score)\n",
    "\n",
    "\n",
    "def lb_metric(train):\n",
    "    train['sigma_clipped'] = train['Confidence'].apply(lambda x: max(x, 70))\n",
    "    train['diff'] = abs(train['FVC'] - train['FVC_pred'])\n",
    "    train['delta'] = train['diff'].apply(lambda x: min(x, 1000))\n",
    "    train['score'] = -math.sqrt(2)*train['delta']/train['sigma_clipped'] - np.log(math.sqrt(2)*train['sigma_clipped'])\n",
    "    score = train['score'].mean()\n",
    "    return score\n",
    "\n",
    "\n",
    "\n",
    "\n",
    "\n",
    "score = lb_metric(train)\n",
    "logger.info(f'Local Score: {score}')\n",
    "\n",
    "\n",
    "\n",
    "test['Confidence'] = predictions\n",
    "\n",
    "submission.head()\n",
    "\n",
    "sub4 = submission.drop(columns=['FVC', 'Confidence']).merge(test[['Patient_Week', 'FVC_pred', 'Confidence']], \n",
    "                                                           on='Patient_Week')\n",
    "sub4.columns = submission.columns\n",
    "sub4.to_csv('submission_lasso.csv', index=False)\n",
    "sub4.head()"
   ]
  },
  {
   "cell_type": "code",
   "execution_count": 69,
   "metadata": {
    "execution": {
     "iopub.execute_input": "2020-10-06T15:44:16.894511Z",
     "iopub.status.busy": "2020-10-06T15:44:16.893650Z",
     "iopub.status.idle": "2020-10-06T15:44:16.900486Z",
     "shell.execute_reply": "2020-10-06T15:44:16.899955Z"
    },
    "papermill": {
     "duration": 0.138816,
     "end_time": "2020-10-06T15:44:16.900594",
     "exception": false,
     "start_time": "2020-10-06T15:44:16.761778",
     "status": "completed"
    },
    "tags": []
   },
   "outputs": [
    {
     "data": {
      "text/html": [
       "<div>\n",
       "<style scoped>\n",
       "    .dataframe tbody tr th:only-of-type {\n",
       "        vertical-align: middle;\n",
       "    }\n",
       "\n",
       "    .dataframe tbody tr th {\n",
       "        vertical-align: top;\n",
       "    }\n",
       "\n",
       "    .dataframe thead th {\n",
       "        text-align: right;\n",
       "    }\n",
       "</style>\n",
       "<table border=\"1\" class=\"dataframe\">\n",
       "  <thead>\n",
       "    <tr style=\"text-align: right;\">\n",
       "      <th></th>\n",
       "      <th>Patient_Week</th>\n",
       "      <th>FVC</th>\n",
       "      <th>Confidence</th>\n",
       "    </tr>\n",
       "  </thead>\n",
       "  <tbody>\n",
       "    <tr>\n",
       "      <th>0</th>\n",
       "      <td>ID00419637202311204720264_-12</td>\n",
       "      <td>3096.587242</td>\n",
       "      <td>211.543959</td>\n",
       "    </tr>\n",
       "    <tr>\n",
       "      <th>1</th>\n",
       "      <td>ID00421637202311550012437_-12</td>\n",
       "      <td>2832.301227</td>\n",
       "      <td>222.465083</td>\n",
       "    </tr>\n",
       "    <tr>\n",
       "      <th>2</th>\n",
       "      <td>ID00422637202311677017371_-12</td>\n",
       "      <td>2009.390807</td>\n",
       "      <td>209.774085</td>\n",
       "    </tr>\n",
       "    <tr>\n",
       "      <th>3</th>\n",
       "      <td>ID00423637202312137826377_-12</td>\n",
       "      <td>3393.760652</td>\n",
       "      <td>215.995469</td>\n",
       "    </tr>\n",
       "    <tr>\n",
       "      <th>4</th>\n",
       "      <td>ID00426637202313170790466_-12</td>\n",
       "      <td>2982.717917</td>\n",
       "      <td>234.989140</td>\n",
       "    </tr>\n",
       "    <tr>\n",
       "      <th>...</th>\n",
       "      <td>...</td>\n",
       "      <td>...</td>\n",
       "      <td>...</td>\n",
       "    </tr>\n",
       "    <tr>\n",
       "      <th>725</th>\n",
       "      <td>ID00419637202311204720264_133</td>\n",
       "      <td>2548.532522</td>\n",
       "      <td>221.388870</td>\n",
       "    </tr>\n",
       "    <tr>\n",
       "      <th>726</th>\n",
       "      <td>ID00421637202311550012437_133</td>\n",
       "      <td>2284.246507</td>\n",
       "      <td>232.309994</td>\n",
       "    </tr>\n",
       "    <tr>\n",
       "      <th>727</th>\n",
       "      <td>ID00422637202311677017371_133</td>\n",
       "      <td>1461.336086</td>\n",
       "      <td>219.618996</td>\n",
       "    </tr>\n",
       "    <tr>\n",
       "      <th>728</th>\n",
       "      <td>ID00423637202312137826377_133</td>\n",
       "      <td>2845.705932</td>\n",
       "      <td>225.840380</td>\n",
       "    </tr>\n",
       "    <tr>\n",
       "      <th>729</th>\n",
       "      <td>ID00426637202313170790466_133</td>\n",
       "      <td>2434.663197</td>\n",
       "      <td>244.834051</td>\n",
       "    </tr>\n",
       "  </tbody>\n",
       "</table>\n",
       "<p>730 rows × 3 columns</p>\n",
       "</div>"
      ],
      "text/plain": [
       "                      Patient_Week          FVC  Confidence\n",
       "0    ID00419637202311204720264_-12  3096.587242  211.543959\n",
       "1    ID00421637202311550012437_-12  2832.301227  222.465083\n",
       "2    ID00422637202311677017371_-12  2009.390807  209.774085\n",
       "3    ID00423637202312137826377_-12  3393.760652  215.995469\n",
       "4    ID00426637202313170790466_-12  2982.717917  234.989140\n",
       "..                             ...          ...         ...\n",
       "725  ID00419637202311204720264_133  2548.532522  221.388870\n",
       "726  ID00421637202311550012437_133  2284.246507  232.309994\n",
       "727  ID00422637202311677017371_133  1461.336086  219.618996\n",
       "728  ID00423637202312137826377_133  2845.705932  225.840380\n",
       "729  ID00426637202313170790466_133  2434.663197  244.834051\n",
       "\n",
       "[730 rows x 3 columns]"
      ]
     },
     "execution_count": 69,
     "metadata": {},
     "output_type": "execute_result"
    }
   ],
   "source": [
    "lasso_sub = sub4[[\"Patient_Week\",\"FVC\",\"Confidence\"]].copy()\n",
    "\n",
    "lasso_sub"
   ]
  },
  {
   "cell_type": "markdown",
   "metadata": {
    "papermill": {
     "duration": 0.118375,
     "end_time": "2020-10-06T15:44:17.138648",
     "exception": false,
     "start_time": "2020-10-06T15:44:17.020273",
     "status": "completed"
    },
    "tags": []
   },
   "source": [
    "## 4.6 Ensemble and blending <a class=\"anchor\" id=\"4.4\"></a>\n",
    "\n",
    "[Back to Table of Contents](#0.1)"
   ]
  },
  {
   "cell_type": "code",
   "execution_count": 70,
   "metadata": {
    "execution": {
     "iopub.execute_input": "2020-10-06T15:44:17.374660Z",
     "iopub.status.busy": "2020-10-06T15:44:17.373679Z",
     "iopub.status.idle": "2020-10-06T15:44:17.381495Z",
     "shell.execute_reply": "2020-10-06T15:44:17.381021Z"
    },
    "papermill": {
     "duration": 0.126455,
     "end_time": "2020-10-06T15:44:17.381601",
     "exception": false,
     "start_time": "2020-10-06T15:44:17.255146",
     "status": "completed"
    },
    "tags": []
   },
   "outputs": [],
   "source": [
    "df1 = img_sub.sort_values(by=['Patient_Week'], ascending=True).reset_index(drop=True)\n",
    "df2 = reg_sub.sort_values(by=['Patient_Week'], ascending=True).reset_index(drop=True)\n",
    "df3 = elastic_sub.sort_values(by=['Patient_Week'], ascending=True).reset_index(drop=True)\n",
    "df4 = lasso_sub.sort_values(by=['Patient_Week'], ascending=True).reset_index(drop=True)"
   ]
  },
  {
   "cell_type": "code",
   "execution_count": 71,
   "metadata": {
    "execution": {
     "iopub.execute_input": "2020-10-06T15:44:17.623291Z",
     "iopub.status.busy": "2020-10-06T15:44:17.622442Z",
     "iopub.status.idle": "2020-10-06T15:44:17.626040Z",
     "shell.execute_reply": "2020-10-06T15:44:17.626632Z"
    },
    "papermill": {
     "duration": 0.133031,
     "end_time": "2020-10-06T15:44:17.626771",
     "exception": false,
     "start_time": "2020-10-06T15:44:17.493740",
     "status": "completed"
    },
    "tags": []
   },
   "outputs": [
    {
     "data": {
      "text/html": [
       "<div>\n",
       "<style scoped>\n",
       "    .dataframe tbody tr th:only-of-type {\n",
       "        vertical-align: middle;\n",
       "    }\n",
       "\n",
       "    .dataframe tbody tr th {\n",
       "        vertical-align: top;\n",
       "    }\n",
       "\n",
       "    .dataframe thead th {\n",
       "        text-align: right;\n",
       "    }\n",
       "</style>\n",
       "<table border=\"1\" class=\"dataframe\">\n",
       "  <thead>\n",
       "    <tr style=\"text-align: right;\">\n",
       "      <th></th>\n",
       "      <th>Patient_Week</th>\n",
       "      <th>FVC</th>\n",
       "      <th>Confidence</th>\n",
       "    </tr>\n",
       "  </thead>\n",
       "  <tbody>\n",
       "    <tr>\n",
       "      <th>0</th>\n",
       "      <td>ID00419637202311204720264_-1</td>\n",
       "      <td>2957.717751</td>\n",
       "      <td>200.905200</td>\n",
       "    </tr>\n",
       "    <tr>\n",
       "      <th>1</th>\n",
       "      <td>ID00419637202311204720264_-10</td>\n",
       "      <td>2986.012221</td>\n",
       "      <td>202.832211</td>\n",
       "    </tr>\n",
       "    <tr>\n",
       "      <th>2</th>\n",
       "      <td>ID00419637202311204720264_-11</td>\n",
       "      <td>2989.162005</td>\n",
       "      <td>203.045798</td>\n",
       "    </tr>\n",
       "    <tr>\n",
       "      <th>3</th>\n",
       "      <td>ID00419637202311204720264_-12</td>\n",
       "      <td>2992.240058</td>\n",
       "      <td>203.268314</td>\n",
       "    </tr>\n",
       "    <tr>\n",
       "      <th>4</th>\n",
       "      <td>ID00419637202311204720264_-2</td>\n",
       "      <td>2960.852966</td>\n",
       "      <td>201.120036</td>\n",
       "    </tr>\n",
       "  </tbody>\n",
       "</table>\n",
       "</div>"
      ],
      "text/plain": [
       "                    Patient_Week          FVC  Confidence\n",
       "0   ID00419637202311204720264_-1  2957.717751  200.905200\n",
       "1  ID00419637202311204720264_-10  2986.012221  202.832211\n",
       "2  ID00419637202311204720264_-11  2989.162005  203.045798\n",
       "3  ID00419637202311204720264_-12  2992.240058  203.268314\n",
       "4   ID00419637202311204720264_-2  2960.852966  201.120036"
      ]
     },
     "execution_count": 71,
     "metadata": {},
     "output_type": "execute_result"
    }
   ],
   "source": [
    "df = df1[['Patient_Week']].copy()\n",
    "df['FVC'] = 0.25*df1['FVC'] +  0.44*df2['FVC'] + 0.18*df3['FVC'] + 0.13 * df4['FVC']\n",
    "df['Confidence'] = 0.25*df1['Confidence'] + 0.44*df2['Confidence'] + 0.18*df3['Confidence'] + 0.13*df4['Confidence']\n",
    "df.head()"
   ]
  },
  {
   "cell_type": "code",
   "execution_count": 72,
   "metadata": {
    "execution": {
     "iopub.execute_input": "2020-10-06T15:44:17.857940Z",
     "iopub.status.busy": "2020-10-06T15:44:17.856664Z",
     "iopub.status.idle": "2020-10-06T15:44:17.865146Z",
     "shell.execute_reply": "2020-10-06T15:44:17.864356Z"
    },
    "papermill": {
     "duration": 0.122668,
     "end_time": "2020-10-06T15:44:17.865331",
     "exception": false,
     "start_time": "2020-10-06T15:44:17.742663",
     "status": "completed"
    },
    "tags": []
   },
   "outputs": [],
   "source": [
    "df.to_csv('submission.csv', index=False)"
   ]
  },
  {
   "cell_type": "markdown",
   "metadata": {
    "papermill": {
     "duration": 0.111347,
     "end_time": "2020-10-06T15:44:18.087139",
     "exception": false,
     "start_time": "2020-10-06T15:44:17.975792",
     "status": "completed"
    },
    "tags": []
   },
   "source": [
    "## Hoping for the Best"
   ]
  }
 ],
 "metadata": {
  "kernelspec": {
   "display_name": "Python 3",
   "language": "python",
   "name": "python3"
  },
  "language_info": {
   "codemirror_mode": {
    "name": "ipython",
    "version": 3
   },
   "file_extension": ".py",
   "mimetype": "text/x-python",
   "name": "python",
   "nbconvert_exporter": "python",
   "pygments_lexer": "ipython3",
   "version": "3.7.6"
  },
  "papermill": {
   "duration": 1655.558669,
   "end_time": "2020-10-06T15:44:19.877558",
   "environment_variables": {},
   "exception": null,
   "input_path": "__notebook__.ipynb",
   "output_path": "__notebook__.ipynb",
   "parameters": {},
   "start_time": "2020-10-06T15:16:44.318889",
   "version": "2.1.0"
  },
  "widgets": {
   "application/vnd.jupyter.widget-state+json": {
    "state": {
     "016e975d1b1347d9944f15c37ccc3091": {
      "model_module": "@jupyter-widgets/controls",
      "model_module_version": "1.5.0",
      "model_name": "FloatProgressModel",
      "state": {
       "_dom_classes": [],
       "_model_module": "@jupyter-widgets/controls",
       "_model_module_version": "1.5.0",
       "_model_name": "FloatProgressModel",
       "_view_count": null,
       "_view_module": "@jupyter-widgets/controls",
       "_view_module_version": "1.5.0",
       "_view_name": "ProgressView",
       "bar_style": "success",
       "description": "100%",
       "description_tooltip": null,
       "layout": "IPY_MODEL_76cce107e4b643218ccc6a39f3c9ab03",
       "max": 176.0,
       "min": 0.0,
       "orientation": "horizontal",
       "style": "IPY_MODEL_9e13b64c953d4e69922a96d3fb772c23",
       "value": 176.0
      }
     },
     "1590aea5be4b4039926c279024cb6da4": {
      "model_module": "@jupyter-widgets/controls",
      "model_module_version": "1.5.0",
      "model_name": "DescriptionStyleModel",
      "state": {
       "_model_module": "@jupyter-widgets/controls",
       "_model_module_version": "1.5.0",
       "_model_name": "DescriptionStyleModel",
       "_view_count": null,
       "_view_module": "@jupyter-widgets/base",
       "_view_module_version": "1.2.0",
       "_view_name": "StyleView",
       "description_width": ""
      }
     },
     "2c7fd4dd6c344a318a694899e54021b9": {
      "model_module": "@jupyter-widgets/base",
      "model_module_version": "1.2.0",
      "model_name": "LayoutModel",
      "state": {
       "_model_module": "@jupyter-widgets/base",
       "_model_module_version": "1.2.0",
       "_model_name": "LayoutModel",
       "_view_count": null,
       "_view_module": "@jupyter-widgets/base",
       "_view_module_version": "1.2.0",
       "_view_name": "LayoutView",
       "align_content": null,
       "align_items": null,
       "align_self": null,
       "border": null,
       "bottom": null,
       "display": null,
       "flex": null,
       "flex_flow": null,
       "grid_area": null,
       "grid_auto_columns": null,
       "grid_auto_flow": null,
       "grid_auto_rows": null,
       "grid_column": null,
       "grid_gap": null,
       "grid_row": null,
       "grid_template_areas": null,
       "grid_template_columns": null,
       "grid_template_rows": null,
       "height": null,
       "justify_content": null,
       "justify_items": null,
       "left": null,
       "margin": null,
       "max_height": null,
       "max_width": null,
       "min_height": null,
       "min_width": null,
       "object_fit": null,
       "object_position": null,
       "order": null,
       "overflow": null,
       "overflow_x": null,
       "overflow_y": null,
       "padding": null,
       "right": null,
       "top": null,
       "visibility": null,
       "width": null
      }
     },
     "320c6bb519af44b0b1e28830d7aa52f2": {
      "model_module": "@jupyter-widgets/controls",
      "model_module_version": "1.5.0",
      "model_name": "DescriptionStyleModel",
      "state": {
       "_model_module": "@jupyter-widgets/controls",
       "_model_module_version": "1.5.0",
       "_model_name": "DescriptionStyleModel",
       "_view_count": null,
       "_view_module": "@jupyter-widgets/base",
       "_view_module_version": "1.2.0",
       "_view_name": "StyleView",
       "description_width": ""
      }
     },
     "3b55da6075434349bfc95cb39e6df0c6": {
      "model_module": "@jupyter-widgets/base",
      "model_module_version": "1.2.0",
      "model_name": "LayoutModel",
      "state": {
       "_model_module": "@jupyter-widgets/base",
       "_model_module_version": "1.2.0",
       "_model_name": "LayoutModel",
       "_view_count": null,
       "_view_module": "@jupyter-widgets/base",
       "_view_module_version": "1.2.0",
       "_view_name": "LayoutView",
       "align_content": null,
       "align_items": null,
       "align_self": null,
       "border": null,
       "bottom": null,
       "display": null,
       "flex": null,
       "flex_flow": null,
       "grid_area": null,
       "grid_auto_columns": null,
       "grid_auto_flow": null,
       "grid_auto_rows": null,
       "grid_column": null,
       "grid_gap": null,
       "grid_row": null,
       "grid_template_areas": null,
       "grid_template_columns": null,
       "grid_template_rows": null,
       "height": null,
       "justify_content": null,
       "justify_items": null,
       "left": null,
       "margin": null,
       "max_height": null,
       "max_width": null,
       "min_height": null,
       "min_width": null,
       "object_fit": null,
       "object_position": null,
       "order": null,
       "overflow": null,
       "overflow_x": null,
       "overflow_y": null,
       "padding": null,
       "right": null,
       "top": null,
       "visibility": null,
       "width": null
      }
     },
     "45063c8d1cec43f5b83e7ed0a99bc654": {
      "model_module": "@jupyter-widgets/controls",
      "model_module_version": "1.5.0",
      "model_name": "FloatProgressModel",
      "state": {
       "_dom_classes": [],
       "_model_module": "@jupyter-widgets/controls",
       "_model_module_version": "1.5.0",
       "_model_name": "FloatProgressModel",
       "_view_count": null,
       "_view_module": "@jupyter-widgets/controls",
       "_view_module_version": "1.5.0",
       "_view_name": "ProgressView",
       "bar_style": "success",
       "description": "100%",
       "description_tooltip": null,
       "layout": "IPY_MODEL_2c7fd4dd6c344a318a694899e54021b9",
       "max": 12144.0,
       "min": 0.0,
       "orientation": "horizontal",
       "style": "IPY_MODEL_7700fab0090a452a9c5e5bbd9102fe53",
       "value": 12144.0
      }
     },
     "463548086d7846efb09408b803bbec1b": {
      "model_module": "@jupyter-widgets/base",
      "model_module_version": "1.2.0",
      "model_name": "LayoutModel",
      "state": {
       "_model_module": "@jupyter-widgets/base",
       "_model_module_version": "1.2.0",
       "_model_name": "LayoutModel",
       "_view_count": null,
       "_view_module": "@jupyter-widgets/base",
       "_view_module_version": "1.2.0",
       "_view_name": "LayoutView",
       "align_content": null,
       "align_items": null,
       "align_self": null,
       "border": null,
       "bottom": null,
       "display": null,
       "flex": null,
       "flex_flow": null,
       "grid_area": null,
       "grid_auto_columns": null,
       "grid_auto_flow": null,
       "grid_auto_rows": null,
       "grid_column": null,
       "grid_gap": null,
       "grid_row": null,
       "grid_template_areas": null,
       "grid_template_columns": null,
       "grid_template_rows": null,
       "height": null,
       "justify_content": null,
       "justify_items": null,
       "left": null,
       "margin": null,
       "max_height": null,
       "max_width": null,
       "min_height": null,
       "min_width": null,
       "object_fit": null,
       "object_position": null,
       "order": null,
       "overflow": null,
       "overflow_x": null,
       "overflow_y": null,
       "padding": null,
       "right": null,
       "top": null,
       "visibility": null,
       "width": null
      }
     },
     "4d4e16bfe7374f1a90f8b7586861d06b": {
      "model_module": "@jupyter-widgets/controls",
      "model_module_version": "1.5.0",
      "model_name": "DescriptionStyleModel",
      "state": {
       "_model_module": "@jupyter-widgets/controls",
       "_model_module_version": "1.5.0",
       "_model_name": "DescriptionStyleModel",
       "_view_count": null,
       "_view_module": "@jupyter-widgets/base",
       "_view_module_version": "1.2.0",
       "_view_name": "StyleView",
       "description_width": ""
      }
     },
     "5b4eedf33b404c1492f0f90129a58680": {
      "model_module": "@jupyter-widgets/controls",
      "model_module_version": "1.5.0",
      "model_name": "FloatProgressModel",
      "state": {
       "_dom_classes": [],
       "_model_module": "@jupyter-widgets/controls",
       "_model_module_version": "1.5.0",
       "_model_name": "FloatProgressModel",
       "_view_count": null,
       "_view_module": "@jupyter-widgets/controls",
       "_view_module_version": "1.5.0",
       "_view_name": "ProgressView",
       "bar_style": "success",
       "description": "100%",
       "description_tooltip": null,
       "layout": "IPY_MODEL_aa93dada83334fb0bec8ee8a2615610f",
       "max": 9.0,
       "min": 0.0,
       "orientation": "horizontal",
       "style": "IPY_MODEL_9811b98165ae4921874ca8f1e31fb868",
       "value": 9.0
      }
     },
     "5e4c7c4daf60480f85234bea7bed275a": {
      "model_module": "@jupyter-widgets/controls",
      "model_module_version": "1.5.0",
      "model_name": "FloatProgressModel",
      "state": {
       "_dom_classes": [],
       "_model_module": "@jupyter-widgets/controls",
       "_model_module_version": "1.5.0",
       "_model_name": "FloatProgressModel",
       "_view_count": null,
       "_view_module": "@jupyter-widgets/controls",
       "_view_module_version": "1.5.0",
       "_view_name": "ProgressView",
       "bar_style": "success",
       "description": "100%",
       "description_tooltip": null,
       "layout": "IPY_MODEL_dbf018fb3d164ef18a486a305ef9ea08",
       "max": 176.0,
       "min": 0.0,
       "orientation": "horizontal",
       "style": "IPY_MODEL_8237cfec1b874cceb6f774be92a10c7b",
       "value": 176.0
      }
     },
     "601abf820ce9401bbf93daa7d619bfdd": {
      "model_module": "@jupyter-widgets/base",
      "model_module_version": "1.2.0",
      "model_name": "LayoutModel",
      "state": {
       "_model_module": "@jupyter-widgets/base",
       "_model_module_version": "1.2.0",
       "_model_name": "LayoutModel",
       "_view_count": null,
       "_view_module": "@jupyter-widgets/base",
       "_view_module_version": "1.2.0",
       "_view_name": "LayoutView",
       "align_content": null,
       "align_items": null,
       "align_self": null,
       "border": null,
       "bottom": null,
       "display": null,
       "flex": null,
       "flex_flow": null,
       "grid_area": null,
       "grid_auto_columns": null,
       "grid_auto_flow": null,
       "grid_auto_rows": null,
       "grid_column": null,
       "grid_gap": null,
       "grid_row": null,
       "grid_template_areas": null,
       "grid_template_columns": null,
       "grid_template_rows": null,
       "height": null,
       "justify_content": null,
       "justify_items": null,
       "left": null,
       "margin": null,
       "max_height": null,
       "max_width": null,
       "min_height": null,
       "min_width": null,
       "object_fit": null,
       "object_position": null,
       "order": null,
       "overflow": null,
       "overflow_x": null,
       "overflow_y": null,
       "padding": null,
       "right": null,
       "top": null,
       "visibility": null,
       "width": null
      }
     },
     "7391f763fe33425c92388a4336fbda6e": {
      "model_module": "@jupyter-widgets/controls",
      "model_module_version": "1.5.0",
      "model_name": "DescriptionStyleModel",
      "state": {
       "_model_module": "@jupyter-widgets/controls",
       "_model_module_version": "1.5.0",
       "_model_name": "DescriptionStyleModel",
       "_view_count": null,
       "_view_module": "@jupyter-widgets/base",
       "_view_module_version": "1.2.0",
       "_view_name": "StyleView",
       "description_width": ""
      }
     },
     "758f9d80de214de697e9e0af8c5a986a": {
      "model_module": "@jupyter-widgets/controls",
      "model_module_version": "1.5.0",
      "model_name": "HBoxModel",
      "state": {
       "_dom_classes": [],
       "_model_module": "@jupyter-widgets/controls",
       "_model_module_version": "1.5.0",
       "_model_name": "HBoxModel",
       "_view_count": null,
       "_view_module": "@jupyter-widgets/controls",
       "_view_module_version": "1.5.0",
       "_view_name": "HBoxView",
       "box_style": "",
       "children": [
        "IPY_MODEL_5b4eedf33b404c1492f0f90129a58680",
        "IPY_MODEL_f63e386ce87849a3ab6cbd3e6400a682"
       ],
       "layout": "IPY_MODEL_a184541d948b415e8e1ece41ddc28c81"
      }
     },
     "76cce107e4b643218ccc6a39f3c9ab03": {
      "model_module": "@jupyter-widgets/base",
      "model_module_version": "1.2.0",
      "model_name": "LayoutModel",
      "state": {
       "_model_module": "@jupyter-widgets/base",
       "_model_module_version": "1.2.0",
       "_model_name": "LayoutModel",
       "_view_count": null,
       "_view_module": "@jupyter-widgets/base",
       "_view_module_version": "1.2.0",
       "_view_name": "LayoutView",
       "align_content": null,
       "align_items": null,
       "align_self": null,
       "border": null,
       "bottom": null,
       "display": null,
       "flex": null,
       "flex_flow": null,
       "grid_area": null,
       "grid_auto_columns": null,
       "grid_auto_flow": null,
       "grid_auto_rows": null,
       "grid_column": null,
       "grid_gap": null,
       "grid_row": null,
       "grid_template_areas": null,
       "grid_template_columns": null,
       "grid_template_rows": null,
       "height": null,
       "justify_content": null,
       "justify_items": null,
       "left": null,
       "margin": null,
       "max_height": null,
       "max_width": null,
       "min_height": null,
       "min_width": null,
       "object_fit": null,
       "object_position": null,
       "order": null,
       "overflow": null,
       "overflow_x": null,
       "overflow_y": null,
       "padding": null,
       "right": null,
       "top": null,
       "visibility": null,
       "width": null
      }
     },
     "7700fab0090a452a9c5e5bbd9102fe53": {
      "model_module": "@jupyter-widgets/controls",
      "model_module_version": "1.5.0",
      "model_name": "ProgressStyleModel",
      "state": {
       "_model_module": "@jupyter-widgets/controls",
       "_model_module_version": "1.5.0",
       "_model_name": "ProgressStyleModel",
       "_view_count": null,
       "_view_module": "@jupyter-widgets/base",
       "_view_module_version": "1.2.0",
       "_view_name": "StyleView",
       "bar_color": null,
       "description_width": "initial"
      }
     },
     "783027f7ffbe4b0d824a7bc5fc1f3609": {
      "model_module": "@jupyter-widgets/controls",
      "model_module_version": "1.5.0",
      "model_name": "HBoxModel",
      "state": {
       "_dom_classes": [],
       "_model_module": "@jupyter-widgets/controls",
       "_model_module_version": "1.5.0",
       "_model_name": "HBoxModel",
       "_view_count": null,
       "_view_module": "@jupyter-widgets/controls",
       "_view_module_version": "1.5.0",
       "_view_name": "HBoxView",
       "box_style": "",
       "children": [
        "IPY_MODEL_016e975d1b1347d9944f15c37ccc3091",
        "IPY_MODEL_e8ae13c77ae64fe6b8ec2eedf5f2614f"
       ],
       "layout": "IPY_MODEL_79dcb941d2c64a3494eda3556bf269cd"
      }
     },
     "79dcb941d2c64a3494eda3556bf269cd": {
      "model_module": "@jupyter-widgets/base",
      "model_module_version": "1.2.0",
      "model_name": "LayoutModel",
      "state": {
       "_model_module": "@jupyter-widgets/base",
       "_model_module_version": "1.2.0",
       "_model_name": "LayoutModel",
       "_view_count": null,
       "_view_module": "@jupyter-widgets/base",
       "_view_module_version": "1.2.0",
       "_view_name": "LayoutView",
       "align_content": null,
       "align_items": null,
       "align_self": null,
       "border": null,
       "bottom": null,
       "display": null,
       "flex": null,
       "flex_flow": null,
       "grid_area": null,
       "grid_auto_columns": null,
       "grid_auto_flow": null,
       "grid_auto_rows": null,
       "grid_column": null,
       "grid_gap": null,
       "grid_row": null,
       "grid_template_areas": null,
       "grid_template_columns": null,
       "grid_template_rows": null,
       "height": null,
       "justify_content": null,
       "justify_items": null,
       "left": null,
       "margin": null,
       "max_height": null,
       "max_width": null,
       "min_height": null,
       "min_width": null,
       "object_fit": null,
       "object_position": null,
       "order": null,
       "overflow": null,
       "overflow_x": null,
       "overflow_y": null,
       "padding": null,
       "right": null,
       "top": null,
       "visibility": null,
       "width": null
      }
     },
     "7d5163c9acf447b7940825812e96439f": {
      "model_module": "@jupyter-widgets/controls",
      "model_module_version": "1.5.0",
      "model_name": "HTMLModel",
      "state": {
       "_dom_classes": [],
       "_model_module": "@jupyter-widgets/controls",
       "_model_module_version": "1.5.0",
       "_model_name": "HTMLModel",
       "_view_count": null,
       "_view_module": "@jupyter-widgets/controls",
       "_view_module_version": "1.5.0",
       "_view_name": "HTMLView",
       "description": "",
       "description_tooltip": null,
       "layout": "IPY_MODEL_3b55da6075434349bfc95cb39e6df0c6",
       "placeholder": "​",
       "style": "IPY_MODEL_4d4e16bfe7374f1a90f8b7586861d06b",
       "value": " 176/176 [00:54&lt;00:00,  3.23it/s]"
      }
     },
     "7e3802ea4e894566b202a7d17b556278": {
      "model_module": "@jupyter-widgets/controls",
      "model_module_version": "1.5.0",
      "model_name": "HBoxModel",
      "state": {
       "_dom_classes": [],
       "_model_module": "@jupyter-widgets/controls",
       "_model_module_version": "1.5.0",
       "_model_name": "HBoxModel",
       "_view_count": null,
       "_view_module": "@jupyter-widgets/controls",
       "_view_module_version": "1.5.0",
       "_view_name": "HBoxView",
       "box_style": "",
       "children": [
        "IPY_MODEL_5e4c7c4daf60480f85234bea7bed275a",
        "IPY_MODEL_7d5163c9acf447b7940825812e96439f"
       ],
       "layout": "IPY_MODEL_463548086d7846efb09408b803bbec1b"
      }
     },
     "7ebd872f823a4e2fa22e457d86da2c68": {
      "model_module": "@jupyter-widgets/controls",
      "model_module_version": "1.5.0",
      "model_name": "DescriptionStyleModel",
      "state": {
       "_model_module": "@jupyter-widgets/controls",
       "_model_module_version": "1.5.0",
       "_model_name": "DescriptionStyleModel",
       "_view_count": null,
       "_view_module": "@jupyter-widgets/base",
       "_view_module_version": "1.2.0",
       "_view_name": "StyleView",
       "description_width": ""
      }
     },
     "8237cfec1b874cceb6f774be92a10c7b": {
      "model_module": "@jupyter-widgets/controls",
      "model_module_version": "1.5.0",
      "model_name": "ProgressStyleModel",
      "state": {
       "_model_module": "@jupyter-widgets/controls",
       "_model_module_version": "1.5.0",
       "_model_name": "ProgressStyleModel",
       "_view_count": null,
       "_view_module": "@jupyter-widgets/base",
       "_view_module_version": "1.2.0",
       "_view_name": "StyleView",
       "bar_color": null,
       "description_width": "initial"
      }
     },
     "873ebcc872e0477696a389a99b0cd884": {
      "model_module": "@jupyter-widgets/controls",
      "model_module_version": "1.5.0",
      "model_name": "DescriptionStyleModel",
      "state": {
       "_model_module": "@jupyter-widgets/controls",
       "_model_module_version": "1.5.0",
       "_model_name": "DescriptionStyleModel",
       "_view_count": null,
       "_view_module": "@jupyter-widgets/base",
       "_view_module_version": "1.2.0",
       "_view_name": "StyleView",
       "description_width": ""
      }
     },
     "8a14d1946e3440ff87dc5a9b4da33a6e": {
      "model_module": "@jupyter-widgets/controls",
      "model_module_version": "1.5.0",
      "model_name": "HBoxModel",
      "state": {
       "_dom_classes": [],
       "_model_module": "@jupyter-widgets/controls",
       "_model_module_version": "1.5.0",
       "_model_name": "HBoxModel",
       "_view_count": null,
       "_view_module": "@jupyter-widgets/controls",
       "_view_module_version": "1.5.0",
       "_view_name": "HBoxView",
       "box_style": "",
       "children": [
        "IPY_MODEL_d72148861ff1496f8ee4b3fbfac61f12",
        "IPY_MODEL_f7b271b55d9c4c1bbd635f5657189aa4"
       ],
       "layout": "IPY_MODEL_c3d8058424e94773809b9e5d673be36d"
      }
     },
     "8a5198bd2cca4e5384c0537a9b5816be": {
      "model_module": "@jupyter-widgets/base",
      "model_module_version": "1.2.0",
      "model_name": "LayoutModel",
      "state": {
       "_model_module": "@jupyter-widgets/base",
       "_model_module_version": "1.2.0",
       "_model_name": "LayoutModel",
       "_view_count": null,
       "_view_module": "@jupyter-widgets/base",
       "_view_module_version": "1.2.0",
       "_view_name": "LayoutView",
       "align_content": null,
       "align_items": null,
       "align_self": null,
       "border": null,
       "bottom": null,
       "display": null,
       "flex": null,
       "flex_flow": null,
       "grid_area": null,
       "grid_auto_columns": null,
       "grid_auto_flow": null,
       "grid_auto_rows": null,
       "grid_column": null,
       "grid_gap": null,
       "grid_row": null,
       "grid_template_areas": null,
       "grid_template_columns": null,
       "grid_template_rows": null,
       "height": null,
       "justify_content": null,
       "justify_items": null,
       "left": null,
       "margin": null,
       "max_height": null,
       "max_width": null,
       "min_height": null,
       "min_width": null,
       "object_fit": null,
       "object_position": null,
       "order": null,
       "overflow": null,
       "overflow_x": null,
       "overflow_y": null,
       "padding": null,
       "right": null,
       "top": null,
       "visibility": null,
       "width": null
      }
     },
     "8d37a152dc184bdfabc35aa1fdf925d6": {
      "model_module": "@jupyter-widgets/controls",
      "model_module_version": "1.5.0",
      "model_name": "HBoxModel",
      "state": {
       "_dom_classes": [],
       "_model_module": "@jupyter-widgets/controls",
       "_model_module_version": "1.5.0",
       "_model_name": "HBoxModel",
       "_view_count": null,
       "_view_module": "@jupyter-widgets/controls",
       "_view_module_version": "1.5.0",
       "_view_name": "HBoxView",
       "box_style": "",
       "children": [
        "IPY_MODEL_45063c8d1cec43f5b83e7ed0a99bc654",
        "IPY_MODEL_c18f47fd67594168a9631d4dfb34edaf"
       ],
       "layout": "IPY_MODEL_601abf820ce9401bbf93daa7d619bfdd"
      }
     },
     "8f5cc648dbcb4baf86edddb28d00da1d": {
      "model_module": "@jupyter-widgets/base",
      "model_module_version": "1.2.0",
      "model_name": "LayoutModel",
      "state": {
       "_model_module": "@jupyter-widgets/base",
       "_model_module_version": "1.2.0",
       "_model_name": "LayoutModel",
       "_view_count": null,
       "_view_module": "@jupyter-widgets/base",
       "_view_module_version": "1.2.0",
       "_view_name": "LayoutView",
       "align_content": null,
       "align_items": null,
       "align_self": null,
       "border": null,
       "bottom": null,
       "display": null,
       "flex": null,
       "flex_flow": null,
       "grid_area": null,
       "grid_auto_columns": null,
       "grid_auto_flow": null,
       "grid_auto_rows": null,
       "grid_column": null,
       "grid_gap": null,
       "grid_row": null,
       "grid_template_areas": null,
       "grid_template_columns": null,
       "grid_template_rows": null,
       "height": null,
       "justify_content": null,
       "justify_items": null,
       "left": null,
       "margin": null,
       "max_height": null,
       "max_width": null,
       "min_height": null,
       "min_width": null,
       "object_fit": null,
       "object_position": null,
       "order": null,
       "overflow": null,
       "overflow_x": null,
       "overflow_y": null,
       "padding": null,
       "right": null,
       "top": null,
       "visibility": null,
       "width": null
      }
     },
     "90ab5c588a78413dbd14d871ea5d2c7a": {
      "model_module": "@jupyter-widgets/base",
      "model_module_version": "1.2.0",
      "model_name": "LayoutModel",
      "state": {
       "_model_module": "@jupyter-widgets/base",
       "_model_module_version": "1.2.0",
       "_model_name": "LayoutModel",
       "_view_count": null,
       "_view_module": "@jupyter-widgets/base",
       "_view_module_version": "1.2.0",
       "_view_name": "LayoutView",
       "align_content": null,
       "align_items": null,
       "align_self": null,
       "border": null,
       "bottom": null,
       "display": null,
       "flex": null,
       "flex_flow": null,
       "grid_area": null,
       "grid_auto_columns": null,
       "grid_auto_flow": null,
       "grid_auto_rows": null,
       "grid_column": null,
       "grid_gap": null,
       "grid_row": null,
       "grid_template_areas": null,
       "grid_template_columns": null,
       "grid_template_rows": null,
       "height": null,
       "justify_content": null,
       "justify_items": null,
       "left": null,
       "margin": null,
       "max_height": null,
       "max_width": null,
       "min_height": null,
       "min_width": null,
       "object_fit": null,
       "object_position": null,
       "order": null,
       "overflow": null,
       "overflow_x": null,
       "overflow_y": null,
       "padding": null,
       "right": null,
       "top": null,
       "visibility": null,
       "width": null
      }
     },
     "9811b98165ae4921874ca8f1e31fb868": {
      "model_module": "@jupyter-widgets/controls",
      "model_module_version": "1.5.0",
      "model_name": "ProgressStyleModel",
      "state": {
       "_model_module": "@jupyter-widgets/controls",
       "_model_module_version": "1.5.0",
       "_model_name": "ProgressStyleModel",
       "_view_count": null,
       "_view_module": "@jupyter-widgets/base",
       "_view_module_version": "1.2.0",
       "_view_name": "StyleView",
       "bar_color": null,
       "description_width": "initial"
      }
     },
     "996c0ffb6ca947bfa8d5befbd70a814b": {
      "model_module": "@jupyter-widgets/controls",
      "model_module_version": "1.5.0",
      "model_name": "ProgressStyleModel",
      "state": {
       "_model_module": "@jupyter-widgets/controls",
       "_model_module_version": "1.5.0",
       "_model_name": "ProgressStyleModel",
       "_view_count": null,
       "_view_module": "@jupyter-widgets/base",
       "_view_module_version": "1.2.0",
       "_view_name": "StyleView",
       "bar_color": null,
       "description_width": "initial"
      }
     },
     "9becdc1d139a46199440548a29b75cd2": {
      "model_module": "@jupyter-widgets/base",
      "model_module_version": "1.2.0",
      "model_name": "LayoutModel",
      "state": {
       "_model_module": "@jupyter-widgets/base",
       "_model_module_version": "1.2.0",
       "_model_name": "LayoutModel",
       "_view_count": null,
       "_view_module": "@jupyter-widgets/base",
       "_view_module_version": "1.2.0",
       "_view_name": "LayoutView",
       "align_content": null,
       "align_items": null,
       "align_self": null,
       "border": null,
       "bottom": null,
       "display": null,
       "flex": null,
       "flex_flow": null,
       "grid_area": null,
       "grid_auto_columns": null,
       "grid_auto_flow": null,
       "grid_auto_rows": null,
       "grid_column": null,
       "grid_gap": null,
       "grid_row": null,
       "grid_template_areas": null,
       "grid_template_columns": null,
       "grid_template_rows": null,
       "height": null,
       "justify_content": null,
       "justify_items": null,
       "left": null,
       "margin": null,
       "max_height": null,
       "max_width": null,
       "min_height": null,
       "min_width": null,
       "object_fit": null,
       "object_position": null,
       "order": null,
       "overflow": null,
       "overflow_x": null,
       "overflow_y": null,
       "padding": null,
       "right": null,
       "top": null,
       "visibility": null,
       "width": null
      }
     },
     "9e13b64c953d4e69922a96d3fb772c23": {
      "model_module": "@jupyter-widgets/controls",
      "model_module_version": "1.5.0",
      "model_name": "ProgressStyleModel",
      "state": {
       "_model_module": "@jupyter-widgets/controls",
       "_model_module_version": "1.5.0",
       "_model_name": "ProgressStyleModel",
       "_view_count": null,
       "_view_module": "@jupyter-widgets/base",
       "_view_module_version": "1.2.0",
       "_view_name": "StyleView",
       "bar_color": null,
       "description_width": "initial"
      }
     },
     "a184541d948b415e8e1ece41ddc28c81": {
      "model_module": "@jupyter-widgets/base",
      "model_module_version": "1.2.0",
      "model_name": "LayoutModel",
      "state": {
       "_model_module": "@jupyter-widgets/base",
       "_model_module_version": "1.2.0",
       "_model_name": "LayoutModel",
       "_view_count": null,
       "_view_module": "@jupyter-widgets/base",
       "_view_module_version": "1.2.0",
       "_view_name": "LayoutView",
       "align_content": null,
       "align_items": null,
       "align_self": null,
       "border": null,
       "bottom": null,
       "display": null,
       "flex": null,
       "flex_flow": null,
       "grid_area": null,
       "grid_auto_columns": null,
       "grid_auto_flow": null,
       "grid_auto_rows": null,
       "grid_column": null,
       "grid_gap": null,
       "grid_row": null,
       "grid_template_areas": null,
       "grid_template_columns": null,
       "grid_template_rows": null,
       "height": null,
       "justify_content": null,
       "justify_items": null,
       "left": null,
       "margin": null,
       "max_height": null,
       "max_width": null,
       "min_height": null,
       "min_width": null,
       "object_fit": null,
       "object_position": null,
       "order": null,
       "overflow": null,
       "overflow_x": null,
       "overflow_y": null,
       "padding": null,
       "right": null,
       "top": null,
       "visibility": null,
       "width": null
      }
     },
     "a1f71c729c7041e3a8b08c1fb44102fe": {
      "model_module": "@jupyter-widgets/base",
      "model_module_version": "1.2.0",
      "model_name": "LayoutModel",
      "state": {
       "_model_module": "@jupyter-widgets/base",
       "_model_module_version": "1.2.0",
       "_model_name": "LayoutModel",
       "_view_count": null,
       "_view_module": "@jupyter-widgets/base",
       "_view_module_version": "1.2.0",
       "_view_name": "LayoutView",
       "align_content": null,
       "align_items": null,
       "align_self": null,
       "border": null,
       "bottom": null,
       "display": null,
       "flex": null,
       "flex_flow": null,
       "grid_area": null,
       "grid_auto_columns": null,
       "grid_auto_flow": null,
       "grid_auto_rows": null,
       "grid_column": null,
       "grid_gap": null,
       "grid_row": null,
       "grid_template_areas": null,
       "grid_template_columns": null,
       "grid_template_rows": null,
       "height": null,
       "justify_content": null,
       "justify_items": null,
       "left": null,
       "margin": null,
       "max_height": null,
       "max_width": null,
       "min_height": null,
       "min_width": null,
       "object_fit": null,
       "object_position": null,
       "order": null,
       "overflow": null,
       "overflow_x": null,
       "overflow_y": null,
       "padding": null,
       "right": null,
       "top": null,
       "visibility": null,
       "width": null
      }
     },
     "a8502347f02840dfb883832e42c84eba": {
      "model_module": "@jupyter-widgets/controls",
      "model_module_version": "1.5.0",
      "model_name": "ProgressStyleModel",
      "state": {
       "_model_module": "@jupyter-widgets/controls",
       "_model_module_version": "1.5.0",
       "_model_name": "ProgressStyleModel",
       "_view_count": null,
       "_view_module": "@jupyter-widgets/base",
       "_view_module_version": "1.2.0",
       "_view_name": "StyleView",
       "bar_color": null,
       "description_width": "initial"
      }
     },
     "aa93dada83334fb0bec8ee8a2615610f": {
      "model_module": "@jupyter-widgets/base",
      "model_module_version": "1.2.0",
      "model_name": "LayoutModel",
      "state": {
       "_model_module": "@jupyter-widgets/base",
       "_model_module_version": "1.2.0",
       "_model_name": "LayoutModel",
       "_view_count": null,
       "_view_module": "@jupyter-widgets/base",
       "_view_module_version": "1.2.0",
       "_view_name": "LayoutView",
       "align_content": null,
       "align_items": null,
       "align_self": null,
       "border": null,
       "bottom": null,
       "display": null,
       "flex": null,
       "flex_flow": null,
       "grid_area": null,
       "grid_auto_columns": null,
       "grid_auto_flow": null,
       "grid_auto_rows": null,
       "grid_column": null,
       "grid_gap": null,
       "grid_row": null,
       "grid_template_areas": null,
       "grid_template_columns": null,
       "grid_template_rows": null,
       "height": null,
       "justify_content": null,
       "justify_items": null,
       "left": null,
       "margin": null,
       "max_height": null,
       "max_width": null,
       "min_height": null,
       "min_width": null,
       "object_fit": null,
       "object_position": null,
       "order": null,
       "overflow": null,
       "overflow_x": null,
       "overflow_y": null,
       "padding": null,
       "right": null,
       "top": null,
       "visibility": null,
       "width": null
      }
     },
     "ac12b752d1d34892a5b0f5d9e055e8d3": {
      "model_module": "@jupyter-widgets/base",
      "model_module_version": "1.2.0",
      "model_name": "LayoutModel",
      "state": {
       "_model_module": "@jupyter-widgets/base",
       "_model_module_version": "1.2.0",
       "_model_name": "LayoutModel",
       "_view_count": null,
       "_view_module": "@jupyter-widgets/base",
       "_view_module_version": "1.2.0",
       "_view_name": "LayoutView",
       "align_content": null,
       "align_items": null,
       "align_self": null,
       "border": null,
       "bottom": null,
       "display": null,
       "flex": null,
       "flex_flow": null,
       "grid_area": null,
       "grid_auto_columns": null,
       "grid_auto_flow": null,
       "grid_auto_rows": null,
       "grid_column": null,
       "grid_gap": null,
       "grid_row": null,
       "grid_template_areas": null,
       "grid_template_columns": null,
       "grid_template_rows": null,
       "height": null,
       "justify_content": null,
       "justify_items": null,
       "left": null,
       "margin": null,
       "max_height": null,
       "max_width": null,
       "min_height": null,
       "min_width": null,
       "object_fit": null,
       "object_position": null,
       "order": null,
       "overflow": null,
       "overflow_x": null,
       "overflow_y": null,
       "padding": null,
       "right": null,
       "top": null,
       "visibility": null,
       "width": null
      }
     },
     "c09ac26eceed43329e81d96e5de64f98": {
      "model_module": "@jupyter-widgets/base",
      "model_module_version": "1.2.0",
      "model_name": "LayoutModel",
      "state": {
       "_model_module": "@jupyter-widgets/base",
       "_model_module_version": "1.2.0",
       "_model_name": "LayoutModel",
       "_view_count": null,
       "_view_module": "@jupyter-widgets/base",
       "_view_module_version": "1.2.0",
       "_view_name": "LayoutView",
       "align_content": null,
       "align_items": null,
       "align_self": null,
       "border": null,
       "bottom": null,
       "display": null,
       "flex": null,
       "flex_flow": null,
       "grid_area": null,
       "grid_auto_columns": null,
       "grid_auto_flow": null,
       "grid_auto_rows": null,
       "grid_column": null,
       "grid_gap": null,
       "grid_row": null,
       "grid_template_areas": null,
       "grid_template_columns": null,
       "grid_template_rows": null,
       "height": null,
       "justify_content": null,
       "justify_items": null,
       "left": null,
       "margin": null,
       "max_height": null,
       "max_width": null,
       "min_height": null,
       "min_width": null,
       "object_fit": null,
       "object_position": null,
       "order": null,
       "overflow": null,
       "overflow_x": null,
       "overflow_y": null,
       "padding": null,
       "right": null,
       "top": null,
       "visibility": null,
       "width": null
      }
     },
     "c18f47fd67594168a9631d4dfb34edaf": {
      "model_module": "@jupyter-widgets/controls",
      "model_module_version": "1.5.0",
      "model_name": "HTMLModel",
      "state": {
       "_dom_classes": [],
       "_model_module": "@jupyter-widgets/controls",
       "_model_module_version": "1.5.0",
       "_model_name": "HTMLModel",
       "_view_count": null,
       "_view_module": "@jupyter-widgets/controls",
       "_view_module_version": "1.5.0",
       "_view_name": "HTMLView",
       "description": "",
       "description_tooltip": null,
       "layout": "IPY_MODEL_fca8cddfa89946dbb34dc0def9178bb6",
       "placeholder": "​",
       "style": "IPY_MODEL_1590aea5be4b4039926c279024cb6da4",
       "value": " 12144/12144 [00:35&lt;00:00, 342.63it/s]"
      }
     },
     "c3d8058424e94773809b9e5d673be36d": {
      "model_module": "@jupyter-widgets/base",
      "model_module_version": "1.2.0",
      "model_name": "LayoutModel",
      "state": {
       "_model_module": "@jupyter-widgets/base",
       "_model_module_version": "1.2.0",
       "_model_name": "LayoutModel",
       "_view_count": null,
       "_view_module": "@jupyter-widgets/base",
       "_view_module_version": "1.2.0",
       "_view_name": "LayoutView",
       "align_content": null,
       "align_items": null,
       "align_self": null,
       "border": null,
       "bottom": null,
       "display": null,
       "flex": null,
       "flex_flow": null,
       "grid_area": null,
       "grid_auto_columns": null,
       "grid_auto_flow": null,
       "grid_auto_rows": null,
       "grid_column": null,
       "grid_gap": null,
       "grid_row": null,
       "grid_template_areas": null,
       "grid_template_columns": null,
       "grid_template_rows": null,
       "height": null,
       "justify_content": null,
       "justify_items": null,
       "left": null,
       "margin": null,
       "max_height": null,
       "max_width": null,
       "min_height": null,
       "min_width": null,
       "object_fit": null,
       "object_position": null,
       "order": null,
       "overflow": null,
       "overflow_x": null,
       "overflow_y": null,
       "padding": null,
       "right": null,
       "top": null,
       "visibility": null,
       "width": null
      }
     },
     "d1ea9534fef4457b95b5c076918c79ec": {
      "model_module": "@jupyter-widgets/controls",
      "model_module_version": "1.5.0",
      "model_name": "FloatProgressModel",
      "state": {
       "_dom_classes": [],
       "_model_module": "@jupyter-widgets/controls",
       "_model_module_version": "1.5.0",
       "_model_name": "FloatProgressModel",
       "_view_count": null,
       "_view_module": "@jupyter-widgets/controls",
       "_view_module_version": "1.5.0",
       "_view_name": "ProgressView",
       "bar_style": "success",
       "description": "",
       "description_tooltip": null,
       "layout": "IPY_MODEL_9becdc1d139a46199440548a29b75cd2",
       "max": 1.0,
       "min": 0.0,
       "orientation": "horizontal",
       "style": "IPY_MODEL_a8502347f02840dfb883832e42c84eba",
       "value": 1.0
      }
     },
     "d4a2fee316b549c48cd9d5ee8f980c69": {
      "model_module": "@jupyter-widgets/controls",
      "model_module_version": "1.5.0",
      "model_name": "HBoxModel",
      "state": {
       "_dom_classes": [],
       "_model_module": "@jupyter-widgets/controls",
       "_model_module_version": "1.5.0",
       "_model_name": "HBoxModel",
       "_view_count": null,
       "_view_module": "@jupyter-widgets/controls",
       "_view_module_version": "1.5.0",
       "_view_name": "HBoxView",
       "box_style": "",
       "children": [
        "IPY_MODEL_d1ea9534fef4457b95b5c076918c79ec",
        "IPY_MODEL_d8b8e619731a40288525c4b6bab17835"
       ],
       "layout": "IPY_MODEL_c09ac26eceed43329e81d96e5de64f98"
      }
     },
     "d72148861ff1496f8ee4b3fbfac61f12": {
      "model_module": "@jupyter-widgets/controls",
      "model_module_version": "1.5.0",
      "model_name": "FloatProgressModel",
      "state": {
       "_dom_classes": [],
       "_model_module": "@jupyter-widgets/controls",
       "_model_module_version": "1.5.0",
       "_model_name": "FloatProgressModel",
       "_view_count": null,
       "_view_module": "@jupyter-widgets/controls",
       "_view_module_version": "1.5.0",
       "_view_name": "ProgressView",
       "bar_style": "success",
       "description": "100%",
       "description_tooltip": null,
       "layout": "IPY_MODEL_ac12b752d1d34892a5b0f5d9e055e8d3",
       "max": 12224.0,
       "min": 0.0,
       "orientation": "horizontal",
       "style": "IPY_MODEL_996c0ffb6ca947bfa8d5befbd70a814b",
       "value": 12224.0
      }
     },
     "d8b8e619731a40288525c4b6bab17835": {
      "model_module": "@jupyter-widgets/controls",
      "model_module_version": "1.5.0",
      "model_name": "HTMLModel",
      "state": {
       "_dom_classes": [],
       "_model_module": "@jupyter-widgets/controls",
       "_model_module_version": "1.5.0",
       "_model_name": "HTMLModel",
       "_view_count": null,
       "_view_module": "@jupyter-widgets/controls",
       "_view_module_version": "1.5.0",
       "_view_name": "HTMLView",
       "description": "",
       "description_tooltip": null,
       "layout": "IPY_MODEL_90ab5c588a78413dbd14d871ea5d2c7a",
       "placeholder": "​",
       "style": "IPY_MODEL_7391f763fe33425c92388a4336fbda6e",
       "value": " 176/? [00:02&lt;00:00, 87.46it/s]"
      }
     },
     "dbf018fb3d164ef18a486a305ef9ea08": {
      "model_module": "@jupyter-widgets/base",
      "model_module_version": "1.2.0",
      "model_name": "LayoutModel",
      "state": {
       "_model_module": "@jupyter-widgets/base",
       "_model_module_version": "1.2.0",
       "_model_name": "LayoutModel",
       "_view_count": null,
       "_view_module": "@jupyter-widgets/base",
       "_view_module_version": "1.2.0",
       "_view_name": "LayoutView",
       "align_content": null,
       "align_items": null,
       "align_self": null,
       "border": null,
       "bottom": null,
       "display": null,
       "flex": null,
       "flex_flow": null,
       "grid_area": null,
       "grid_auto_columns": null,
       "grid_auto_flow": null,
       "grid_auto_rows": null,
       "grid_column": null,
       "grid_gap": null,
       "grid_row": null,
       "grid_template_areas": null,
       "grid_template_columns": null,
       "grid_template_rows": null,
       "height": null,
       "justify_content": null,
       "justify_items": null,
       "left": null,
       "margin": null,
       "max_height": null,
       "max_width": null,
       "min_height": null,
       "min_width": null,
       "object_fit": null,
       "object_position": null,
       "order": null,
       "overflow": null,
       "overflow_x": null,
       "overflow_y": null,
       "padding": null,
       "right": null,
       "top": null,
       "visibility": null,
       "width": null
      }
     },
     "e8ae13c77ae64fe6b8ec2eedf5f2614f": {
      "model_module": "@jupyter-widgets/controls",
      "model_module_version": "1.5.0",
      "model_name": "HTMLModel",
      "state": {
       "_dom_classes": [],
       "_model_module": "@jupyter-widgets/controls",
       "_model_module_version": "1.5.0",
       "_model_name": "HTMLModel",
       "_view_count": null,
       "_view_module": "@jupyter-widgets/controls",
       "_view_module_version": "1.5.0",
       "_view_name": "HTMLView",
       "description": "",
       "description_tooltip": null,
       "layout": "IPY_MODEL_8a5198bd2cca4e5384c0537a9b5816be",
       "placeholder": "​",
       "style": "IPY_MODEL_320c6bb519af44b0b1e28830d7aa52f2",
       "value": " 176/176 [00:19&lt;00:00,  9.19it/s]"
      }
     },
     "f63e386ce87849a3ab6cbd3e6400a682": {
      "model_module": "@jupyter-widgets/controls",
      "model_module_version": "1.5.0",
      "model_name": "HTMLModel",
      "state": {
       "_dom_classes": [],
       "_model_module": "@jupyter-widgets/controls",
       "_model_module_version": "1.5.0",
       "_model_name": "HTMLModel",
       "_view_count": null,
       "_view_module": "@jupyter-widgets/controls",
       "_view_module_version": "1.5.0",
       "_view_name": "HTMLView",
       "description": "",
       "description_tooltip": null,
       "layout": "IPY_MODEL_a1f71c729c7041e3a8b08c1fb44102fe",
       "placeholder": "​",
       "style": "IPY_MODEL_873ebcc872e0477696a389a99b0cd884",
       "value": " 9/9 [18:36&lt;00:00, 124.05s/it]"
      }
     },
     "f7b271b55d9c4c1bbd635f5657189aa4": {
      "model_module": "@jupyter-widgets/controls",
      "model_module_version": "1.5.0",
      "model_name": "HTMLModel",
      "state": {
       "_dom_classes": [],
       "_model_module": "@jupyter-widgets/controls",
       "_model_module_version": "1.5.0",
       "_model_name": "HTMLModel",
       "_view_count": null,
       "_view_module": "@jupyter-widgets/controls",
       "_view_module_version": "1.5.0",
       "_view_name": "HTMLView",
       "description": "",
       "description_tooltip": null,
       "layout": "IPY_MODEL_8f5cc648dbcb4baf86edddb28d00da1d",
       "placeholder": "​",
       "style": "IPY_MODEL_7ebd872f823a4e2fa22e457d86da2c68",
       "value": " 12224/12224 [00:35&lt;00:00, 345.40it/s]"
      }
     },
     "fca8cddfa89946dbb34dc0def9178bb6": {
      "model_module": "@jupyter-widgets/base",
      "model_module_version": "1.2.0",
      "model_name": "LayoutModel",
      "state": {
       "_model_module": "@jupyter-widgets/base",
       "_model_module_version": "1.2.0",
       "_model_name": "LayoutModel",
       "_view_count": null,
       "_view_module": "@jupyter-widgets/base",
       "_view_module_version": "1.2.0",
       "_view_name": "LayoutView",
       "align_content": null,
       "align_items": null,
       "align_self": null,
       "border": null,
       "bottom": null,
       "display": null,
       "flex": null,
       "flex_flow": null,
       "grid_area": null,
       "grid_auto_columns": null,
       "grid_auto_flow": null,
       "grid_auto_rows": null,
       "grid_column": null,
       "grid_gap": null,
       "grid_row": null,
       "grid_template_areas": null,
       "grid_template_columns": null,
       "grid_template_rows": null,
       "height": null,
       "justify_content": null,
       "justify_items": null,
       "left": null,
       "margin": null,
       "max_height": null,
       "max_width": null,
       "min_height": null,
       "min_width": null,
       "object_fit": null,
       "object_position": null,
       "order": null,
       "overflow": null,
       "overflow_x": null,
       "overflow_y": null,
       "padding": null,
       "right": null,
       "top": null,
       "visibility": null,
       "width": null
      }
     }
    },
    "version_major": 2,
    "version_minor": 0
   }
  }
 },
 "nbformat": 4,
 "nbformat_minor": 4
}
